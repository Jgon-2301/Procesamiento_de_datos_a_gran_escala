{
  "cells": [
    {
      "cell_type": "markdown",
      "metadata": {
        "application/vnd.databricks.v1+cell": {
          "inputWidgets": {},
          "nuid": "79586205-0213-4e86-8654-a53385ebe980",
          "showTitle": false,
          "title": ""
        },
        "id": "lHY7TKvCGF59"
      },
      "source": [
        "<h1>Procesamiento de Datos a Gran Escala</h1>"
      ]
    },
    {
      "cell_type": "markdown",
      "metadata": {
        "id": "foAX9HjxmL7M"
      },
      "source": [
        "![escudoPUJ-Bogota_rgb-azul_lateral.png](data:image/png;base64,iVBORw0KGgoAAAANSUhEUgAAAK8AAABJCAYAAABLj3bqAAAAGXRFWHRTb2Z0d2FyZQBBZG9iZSBJbWFnZVJlYWR5ccllPAAAFIxJREFUeNrsXUty4koWTb+oedErKNW8IyyvALECYNJTYNgjzApsVgCMeoiY9gRYAbACyxE9L9UKSl7BayXvHOs4KyXwp36vMiMIG6FPSnny3nNP3kwZE0oooYQSSiihhPLrlX/+6z+t8hOHJxHKOeWPn6w+O/sJAA7lVwTvqvzk+IQSyi8F3svyE+ETSii/BnhLqpAAtKPycxOaJpRT5eInAW6v/NMuP9dCG7blZ/O///47UIhQfj7wlqC9Lf8Mys8eYC3kZ2uJu9g2CiAO5acAr5XEyj9rWNhJCcwC24egDnPZZq3yrPz0y21ZaLJQfjTnJaddCUitPDaGpV3KvhawUwt2gD6UUH6M5S0BaC3rDl8tUK08lmLbFmC1lnYCOnEndGJfgn0Smi2U7255wXEVjBmscE+2raE4dGGBC/ltWJ7jS2i2UH4EbbAW1rr+GFa1BUowgAWel58OuHBLft+CC7dwjlBC+SG04c6jKmTONpYY26k0RFAe9qHpQnn3RsrBNdw8cxL2CMZ8VpKKwcJVD0ArLqFA5A5PjkApMk8dGOwl2K9AHRYB6IE2nOKwXYAlQ6B15Kzl7zvPYZYCfLbAtdIYpDAC0J7nnmqE3YZrFDh3RnVC6tBDsHcoP1fYN8Vfm+SzA/hDCeD9yoqSw1qrtwDwihJkffsX4HOpwCUstt13Bn13hvNZyxtjuNgGbG3sZ4+LVC7D//a4Dqw8z/HZBneiaBShqX9j2gDLyKDJAiQvAbMRAMUELoAzhwW2ltkFcAIKQFDNSCVgfVf4nS5/iGPcYq3uRuhHz1RSG+nLcRBE0iwTWPBAJ34HywsruIMlHOPvcSABFm8hVo4ANHDxmZOfOxcQkWrw7xgdpMsOgk+B7VOHNhDorONegr8cwV0OarEWimOpxDo0/+9heWPzVNaylOCuBMASgLpV61pu16ywgygKBlZwAaA+4HeCLcZnLsFfjGPtOTauBQc94X6H8vscvJszM4bwCLS09+JBQvkNOG8KcH0AgMagBAcJitStZ8JNyWONY30L/G0LkNa4xhDXY9JObiQHQhQIVR4+8Lv9TYJJe+2OcHIOQW9D8//a5WydF65/CTAN4ZI34rJvAMIFALnCoRZ4y3LfjnO+T2JRWwLSSCx1hO0JwJs6VIbWmPkQE5HMjoMesPQqsyWQ0Oah+X8TtQFB0QhAs2AZWABat2yDH4CzD+AOTaXLjmuCrUwCrI15OiBBhWCDfYy4fQ362gBtD8evQR0+gspEoDY7oSWTANzfUCoDgC1n3INrWsC2bb4B9dhy+wggXgLoFli5Z1LlSP7PAdQWZK49KAk7SurJ570UrjuDgmBBm9oADRrzjGAGX4/oLUL5DcBrh3Mdkb8lHLUAyKb4ziCOlnUOYB71XwUw+KvShAhAHOP8bWwvAGgjQdgt9p1KR8gx6PEJXHmLumUa+Om9eLj6Dy/g69e/+sCKBMuv2ufFagNOHNPq4ftArOZSgHy0cDLg0GL6ogzf2gEJA865oXpBPmwbzYJcvlurPbZuHo05FqpBrfYCx/EhdAD4Lwg0LUCvYJG7oBZX0sHsPXx8bsPgHiNT5V1M3NG/Z8QSBiOOPTxfg87b9+zfg+cras63RL3s85nguc2kjrnnXuLX6t6gj6lsIg7ShsOuESul38LyuhMhx5DG9sI7F7BybTRCairtNRa6YdAYU/Jlnk/OP4AFTXDcBrx1Dd76GcDLHbXAXtsOmnC6UEyFAkBOxELrwiYP0imfQ5+Yh5yAJrXM0wT655SByIIzAKwvEqCvTZqsMus1QV1zbLuvmUoVmVdOeBXDos/onLjiVR3mXY1ViSXS14a1QBuX+wwA2sJUI2t96flDAGcgbnuD/Sz4+7hh+30N3ZeB2hQWeooHcgQqGxPA7hH0OM8xxbL8/09rRW3nKv8vJFCz+81w3Mo8XRdigc60QaO/hBPfs/MKDcmgdCgtyTFosmTsgOtz2DvC/xH4earnhNGYyj0liDNOTY8qhDIR+DzOnmuKDt0SKmfwHB+v4cqhTpC9cLxJ5OAq4f3L91ctLuOzvEOAqg3rtpfetIFLtw+QyTj2b0cafQg3bB98T6zcAm7iE/MdYLU+itXhSFoE4Fugd+DyhwjCdo7bnGG/kaoT5XdSgy06gQWLpQ+3jsulJNcT9/ocq5PgGRwASlrSTwAkRyUHoDDk+JeikGhDUnYcgBPuGAvAQ9j9Y1yrK+c0ZwB4hk+C+IQGhDLnDs9ijE60wzXWcu2ZqUZZNZtvKcaLs8Ef4yZeU/axx354a/AyUEpEx6XkxF5VwEWPAOClBSQaKxPXOsHDTdDjpniI77GdnHkOcFP+uoKlzRC8fMJ2WooJGnYJbp1KMJkJ0I9ymwUy9knIGwG6tkhyN8ZJ/HlGGUGaG6IjzcUr5eD4I1jTHNuYMroVq2pwnoMYgqMLBpVIHY+xkg7fVBLxEFtcg51Wr5/Kvvo72zkjrcE9jHG+jWBjCAOh07X6OLYl+8zNKweKfOBtiUqgeizTF2PlN6gkrdwdgJ0z2BNwf4K1oXxGSvIJHwOXP8KDuMX2mdTrGvVZ47ceLN41QLeA9WiL1c6doJHWegAwUf5rid78HP67F7ddyPGnOkHrTGsZoaO2nI5FGtRy62P+yua7dmTFc2Zer9CJt9IpmI7q1veA57WUenEybeJ4gzv3+LdYj+7C4wa/IGK3o2JXAOFStNcMv/2jIRJnCqNme/VNtRYDqQFVi7YFrbixRB5YHzdPDk4LvsT/n+F+euhEhS8SB+eNcc01+Z0FODpllxrzqcgb98g6MbfDSB5FjvovsN/eVHnKHMi5hpHoiSWdCSWL0A5083uAa2mq3I+WgPbKUYlm8gwXANqdBK47nIfGpA+OewcaWOCZcSEYPrdcdPwC9/Ue++kgVS7PeyZcmiOiQ1ONePZfEmt4wWuBiZvoCxcawVrdw4L13UaGK9Y1GdxURSMWN5WenZhq3lom+u7eCR6NNORQBjdogeiGc48ktJMO04XS8B5y0g6gSc4Bbyg/7yBFJi54LCBkVHkpoDIOKV+aKk83kx57JZb4AYB7wLYtgDcFNx2JVkvasjJVvgLlnRQjZwfpzde4/p1n8CGSDkI68wBr3wJgPwRI/Drlosa9kgPeOBbxAEBPJBgZCNDpJjilJxfXcilWeyS6aGY8c82EfmgA8Vm00RF+G+P6l6I3s26sO2kGOwpnKw9MlUdxTJyvo0Oh/BrgTUATNo6WOxMA58J5lE9NYb1i0QA3ANlEgi8GAynA1BQtH9ARWtKJyJ8Oppq9QUvdQTCXSgBnhKvthL5Q801Qtw0DxjMlMuq2kQwI+PbtKacTLT2TrLdCVg+KnAAw09kgnomr3uuLdqvBXB2Hfxxlw71lDaN4LQl2657NSf3ZfQ6e32M84+KsQQqcLHUa0VKJHC55AeBaIMxssALKsDFVssxeaEIPANkLaFdy7gdY5FyoSOF8X5mn+Q4dGRwxQmti4cTkylORxG6oKDj3Z3XkTLj9OSNKR6+A4W6DzjLy7DtERH4ljcn00gjHc3BmLhLZWDrrCIMuS2i8xvEspEEcVl9LIEgKFwMsc8+qQ8dAU1SDHMZmUwO4nRgD3+9jaPxsm46Ti33r3F/fOPMMZWWlFHU5Wypb1bRbCgvVoRwFrZVBVoJG6InFTaX38OGMcXxbrhk7dYhF5ulS2hL+mklQx1G2qYj/LdGGYxnGjWskr+xM+epo4TBY8xiENljsG6E6agGvRI7c63Aq1IsU24+gxzWvVNaCFHjlNi502FRG+joEto0LHBnN6OwTlKuG6J9yac+nidt2xvUnTkc1zv2NqJLUeKyxKCHmXMvbVK4hUmcA7QN67UgUg1gsQkEgY/893E3nJRwHD/1SJCcjYMyFzjC98oF0B65sBErxVqtNFifqqzpsTwECGkBd9QgExz0OBXCnSuq5p89u5yyvsRe50s09yLVuDdfiTBQCK63ZT+mdvb+l08EL05zbMKShwiDX/hzL29hYkuHFoKyQmzEAzxSfhXDKCPscGhr7T89UeS0bseoqx/UBzLHsUzjWootGSb9jTDEQwEYeBWTuaSxSjewZS7o2ZYUdPAMj2QuNRyyd5Yk3afDg3Hd4om1dqrUR2jI4lzY0FVowTksfiWvMxApyDPxGXHgE+nDrqeyt3Fgb3yOfu8Y1e9IpmB9AnpdIz2a9Juj9w6bO84qS1fDiGEO63kZwOtPYAf30xDU/YCSLM6Ob9oskBzo749xNVnchtDJpyKtgcDmS+785M4OP+dhbMT6vBi9VhwVcP2fl7k01GjYSa7yH9NTBLIdJAy+8kUGI2rQ/JAdZfdcOklzI9fZomI+waFQ4Ejw88vTlNwDvQ43bY2fPGxphpZZZFIX9iWvyOc1OWNIEShCfb+eFecct8Wgt8WzngHEkdVw2AVi8uipI3qT1dyekoIGI+zr9h/zzMSXOGZ4kt903SUgCyAvSBiPDrSeOKQhmKAWRcCo7arYVD7FGo42w/QaWiAHj9hvMaxuI9W9pI2iCDYZk6bUGDqCbykQWfblr2G9lng4N23a7fcH9kL+PPfd5e6qtynp2oB4wgEsbrLsGuuwsXfeYdw0PfmiqZO4HnGzB2Q3SIAvPgnoRAKJJzlPREbkwn5L3iSOltJ1gQpf/vzXVtHg+2I7zwCwoPoqscyd5wxzZSxD1r5Gj/CYFz6hwOjRpzcDTcCvUaWiqeYBnBYt4Jk0zQT4gWJsDuLZd0he84+M4uCQ5xjE6RG1A5QEw81RauNd9jcfqkO9Lbo2lfZHW+48GVzPHg74WfjuGm6I+510JEjdyEPnsoDcnVo6/L7RSsLyx/O6+t+KG8hQaeupzyTimj3NthJ5kuEZhqiSdt1zHYew537aBJ6Y1/5sTAdETTynzB11DYkyVjmpqOHLrhBeOHY+RCR3ydfzLmpilU6fSoG3dwY2NL6htAu8C1ta60wsB3sJUb+5JznHvbxEEeZZ40kZhZ9jXabJouJZr4cnHzV+5DbdvZHWHpkos8kpR5q+ZIi3n/jbyjJss+qN3RCDWkqDtXvhpV6gKZTha9GMyu6PTDnzXkfl6uUfXzURJSDy8te0eA2BOarjucbTU82x4nbGmUtaBNwcYuhLRMjhLpCf/yJJoAzS5LUlE3wD0BRSNxHFfxWs6mkNnugwypGE0uF16LPO+YYj5FhbdPQfXxsjEai8liH18QQ0GHvqmysrb4dz0pjz3GAn9kakSrXK12KiPHnODJH/WK6+z8miPqSPB8RjO+DBSNw3IZwTwRU3vbiNVsCeBxwo8krkBje9Gw83dCN+9dX7fSUeYoGIcDlyZauXJx4BO6rf28OHNCYvIF7Yw2f7aVCNwtMzL5wygcIpOSOb5McUXsO2B7ikA8T0W6RiYak5cJPqwVyqzAYfwnwgB16hmJfY6pcLtTLNzonxZvX1hqiy6UH4G8CIqtJZoh+h843DOGNYxNm/3dvaJJyXyrgHAlLx03YhTawREppod6wYjXfN1so5p0KSNBJJhBZ6fyPIazNYld5ohoyk3T198Mv7GVjmuE7GRpLKBnnxnTixZyhQ9gDTD4iOPU81xX+fShY+mWtQjrLj+s4FXAEwe2hc55R5uPvGskvI9ypJAEy+xrPMCEkDoNCHqwAxkznb9Mvs3lGbFReXA+Vt0dNHP91+pDTWyRsdUeQMMkJikPsZKkYnnPKrzXTrvkoicm0s8lrLuewx+6kpnE7cOstIOpzVtRT668wE3vCL2TcpG1JW2ecF6GDVlrIbDtbw7yBDue9HsAe9NtViG/cvZpkeZA1aagwkxLPS9A9CN/L9yQBOLOJ04Upy18pxU2YcMtZa6fXRefTU01WIkfWfxj4UcFzlvLIoB7Kvwku6XF3jEx+dpkJ4pFjkD7aOadS+YS0yVvch114gFzV70SmW3pprjldbMwp16AqzG476ju3rMJPPU/Q4SX+ZxR2MJHgNwX98Wf5pqGr8x1Zui7JA5l1fYef5ySH8h3nsKY3RcVoty5kUDT7w2lcabi2UqnIx+49ABTjFPzQtXTnzBg7o21ctYahePFnAbkeUiU730cB9g96bg7eD5Mse7i7VA7gTMHEGzRm9nNX0YyAMoxwFTzdY4V9EIXo9VWgpN2PmEfMluerJUvyzqMRZ3fW+e8TopWbgtNlXCDpfwTEw1qZIr3kx9gaS8CiA11TKsnQC1b2JMZqYaCWRSOhdgiQHsL6Ya3eQEXc5z5DohQ/ktx2/HqUMXJypBS8r5X10Ebh2P62VEzySYB+HHRiJ9VohTdRJTPx0kEsDri7RzUw1b6stROLMj5g16VIcID3OPnn//jXM0QqnH1tpUyxUcntsOp+awMRdVl3taILCbOu6Zicp7UA7SDeYTXMv2wlSvnTrnRm0dPolURkDT9av70frMxXLzHpiBxuFnGwzOg2b7Q0rkKBTmLcFbGP+yTh+hMOgcLb5whSNdnM1LUFjgfzDVOmRt8/UkwLqikzpz9NbcVIkcXGusJfVJZOGSnnn6tvhMej+5cgjSvq8iYbPUbOwUvdTzXbymAs4rrFqIJNemmn5DIK9Mtegbt2fn8k3htXMEVpmsc8vZHnptBfPjK60CZP5e5eItTgJwjcWqcrER6nNtUw3hxiJJPYc2fBG6kIsF3YqCkJsql3YbQPv3Ln+80Xla8kkA0IkA7V7cPkGWqqKhC2FYjqqzAgDAufAkTqE/iA54MNX73+zv7wNwg+U91/rSqur6WJemWl07h4tPAMStAH+pNEKm129MNRKnCdwpOkTXVC91YbG8tggDDQG8rwU0xWiuMaZv53lvqtnHBwB9BUDqeyS4zti9WPKBnG9swqjYb1nefUPgRqZaDG/qJMDsYamHAGbbVCs+xqaaTUuL6i74vMf5+WKOQVALAud9yxIBUFc1aZNLU607xgQNa1WZxZZDYbDy2tKdcSuL3T37PRKhBPCeKsc1xBqCpnsJsCxQV5jK7i55OcRf73lg0SehKUMJJZRQQgkllFBCqSn/F2AAObJYi56RYE4AAAAASUVORK5CYII=)\n",
        "\n",
        "**Autor:** Juan Felipe González Quintero\n",
        "\n",
        "**Fecha de modificación:** 11 -08 - 2025\n",
        "**ID:** 00020495394\n",
        "\n",
        "##**Resumen**\n",
        "\n",
        "En este cuaderno encontrará la solución a una guía de programación en el lenguaje python en el cuál se hace especial énfasis en el tema de listas, sus usos y las operaciones que se pueden aplicar con ellas.\n",
        "\n",
        "##**Objetivo**\n",
        "\n",
        "Aprender y poner en práctica los conocimientos básicos sobre listas en python por medio de una guía interactiva con una pequeña evaluación al final."
      ]
    },
    {
      "cell_type": "markdown",
      "metadata": {
        "application/vnd.databricks.v1+cell": {
          "inputWidgets": {},
          "nuid": "cd31e3ba-2783-4032-8aad-0319254e18db",
          "showTitle": false,
          "title": ""
        },
        "id": "zHs5GglsGF6B"
      },
      "source": [
        "<h2>Listas en Python</h2>"
      ]
    },
    {
      "cell_type": "markdown",
      "metadata": {
        "application/vnd.databricks.v1+cell": {
          "inputWidgets": {},
          "nuid": "7874d843-8660-4b61-953a-b27ed47f2b31",
          "showTitle": false,
          "title": ""
        },
        "id": "as2kH9moGF6B"
      },
      "source": [
        "<p><strong>¡Bienvenido!</strong> En este cuaderno aprenderás sobre las listas en el Lenguaje de Programación Python. Al final de este laboratorio, conocerás lo básico sobre las operaciones sobre listas en Python, esto incluye la indexación, el copiado y clonación de listas.</p>"
      ]
    },
    {
      "cell_type": "markdown",
      "metadata": {
        "application/vnd.databricks.v1+cell": {
          "inputWidgets": {},
          "nuid": "3bbdfb73-08a2-4f2b-ad5d-4f711060d557",
          "showTitle": false,
          "title": ""
        },
        "id": "MkcgnefzGF6D"
      },
      "source": [
        "<h2>Tabla de Contenido</h2>\n",
        "<div class=\"alert alert-block alert-info\" style=\"margin-top: 20px\">\n",
        "    <ul>\n",
        "        <li>\n",
        "            <a href=\"#dataset\">Acerca de los conjuntos de datos (Dataset)</a>\n",
        "        </li>\n",
        "        <li>\n",
        "            <a href=\"#list\">Listas</a>\n",
        "            <ul>\n",
        "                <li><a href=\"index\">Indexación</a></li>\n",
        "                <li><a href=\"content\">Contenido de la Lista</a></li>\n",
        "                <li><a href=\"op\">Operaciones con Listas</a></li>\n",
        "                <li><a href=\"co\">Copiado y Clonación de Listas</a></li>\n",
        "            </ul>\n",
        "        </li>\n",
        "        <li>\n",
        "            <a href=\"#quiz\">Exámen sobre Listas</a>\n",
        "        </li>\n",
        "    </ul>\n",
        "    <p>\n",
        "        Tiempo Estimado: <strong>15 min</strong>\n",
        "    </p>\n",
        "</div>\n",
        "\n",
        "<hr>"
      ]
    },
    {
      "cell_type": "markdown",
      "metadata": {
        "application/vnd.databricks.v1+cell": {
          "inputWidgets": {},
          "nuid": "17c12db3-f5d4-4e34-ba74-630391067594",
          "showTitle": false,
          "title": ""
        },
        "id": "KeGZVOUeGF6E"
      },
      "source": [
        "<h2 id=\"#dataset\">Acerca de los conjuntos de datos (Dataset)</h2>"
      ]
    },
    {
      "cell_type": "markdown",
      "metadata": {
        "application/vnd.databricks.v1+cell": {
          "inputWidgets": {},
          "nuid": "fe318611-43e3-48cb-a5fc-e2d9832e1a2d",
          "showTitle": false,
          "title": ""
        },
        "id": "PY8O3FghGF6F"
      },
      "source": [
        "Imagina que obtienes de tus amigos algunas recomendaciones sobre discos de música y las compilas en una tabla con información específica de cada disco.\n",
        "\n",
        "La tabla tiene una fila para cada disco y algunas columnas:\n",
        "\n",
        "- **artist** - Nombre del artista\n",
        "- **album** - Nombre del disco\n",
        "- **released_year** - Año de estreno\n",
        "- **length_min_sec** - Duración del disco (horas, minutos,segundos)\n",
        "- **genre** - Género del disco\n",
        "- **music_recording_sales_millions** - Ventas registradas (en millones de USD) on [SONG://DATABASE](https://cocl.us/hZvV8)\n",
        "- **claimed_sales_millions** - Ventas reportadas (en millones de USD) on [SONG://DATABASE](https://cocl.us/hZvV8)\n",
        "- **date_released** - Fecha del estreno\n",
        "- **soundtrack** - Indica si el disco pertenece a la banda sonoro de alguna película (Y) o (N)\n",
        "- **rating_of_friends** - Indica la calificación de tus amigos del 1 al 10\n",
        "<br>\n",
        "<br>\n",
        "\n",
        "El conjunto de datos se muestra a continuación:\n",
        "\n",
        "<font size=\"1\">\n",
        "<table font-size:xx-small style=\"width:25%\">\n",
        "  <tr>\n",
        "    <th>Artist</th>\n",
        "    <th>Album</th>\n",
        "    <th>Released</th>\n",
        "    <th>Length</th>\n",
        "    <th>Genre</th>\n",
        "    <th>Music recording sales (millions)</th>\n",
        "    <th>Claimed sales (millions)</th>\n",
        "    <th>Released</th>\n",
        "    <th>Soundtrack</th>\n",
        "    <th>Rating (friends)</th>\n",
        "  </tr>\n",
        "  <tr>\n",
        "    <td>Michael Jackson</td>\n",
        "    <td>Thriller</td>\n",
        "    <td>1982</td>\n",
        "    <td>00:42:19</td>\n",
        "    <td>Pop, rock, R&B</td>\n",
        "    <td>46</td>\n",
        "    <td>65</td>\n",
        "    <td>30-Nov-82</td>\n",
        "    <td></td>\n",
        "    <td>10.0</td>\n",
        "  </tr>\n",
        "  <tr>\n",
        "    <td>AC/DC</td>\n",
        "    <td>Back in Black</td>\n",
        "    <td>1980</td>\n",
        "    <td>00:42:11</td>\n",
        "    <td>Hard rock</td>\n",
        "    <td>26.1</td>\n",
        "    <td>50</td>\n",
        "    <td>25-Jul-80</td>\n",
        "    <td></td>\n",
        "    <td>8.5</td>\n",
        "  </tr>\n",
        "    <tr>\n",
        "    <td>Pink Floyd</td>\n",
        "    <td>The Dark Side of the Moon</td>\n",
        "    <td>1973</td>\n",
        "    <td>00:42:49</td>\n",
        "    <td>Progressive rock</td>\n",
        "    <td>24.2</td>\n",
        "    <td>45</td>\n",
        "    <td>01-Mar-73</td>\n",
        "    <td></td>\n",
        "    <td>9.5</td>\n",
        "  </tr>\n",
        "    <tr>\n",
        "    <td>Whitney Houston</td>\n",
        "    <td>The Bodyguard</td>\n",
        "    <td>1992</td>\n",
        "    <td>00:57:44</td>\n",
        "    <td>Soundtrack/R&B, soul, pop</td>\n",
        "    <td>26.1</td>\n",
        "    <td>50</td>\n",
        "    <td>25-Jul-80</td>\n",
        "    <td>Y</td>\n",
        "    <td>7.0</td>\n",
        "  </tr>\n",
        "    <tr>\n",
        "    <td>Meat Loaf</td>\n",
        "    <td>Bat Out of Hell</td>\n",
        "    <td>1977</td>\n",
        "    <td>00:46:33</td>\n",
        "    <td>Hard rock, progressive rock</td>\n",
        "    <td>20.6</td>\n",
        "    <td>43</td>\n",
        "    <td>21-Oct-77</td>\n",
        "    <td></td>\n",
        "    <td>7.0</td>\n",
        "  </tr>\n",
        "    <tr>\n",
        "    <td>Eagles</td>\n",
        "    <td>Their Greatest Hits (1971-1975)</td>\n",
        "    <td>1976</td>\n",
        "    <td>00:43:08</td>\n",
        "    <td>Rock, soft rock, folk rock</td>\n",
        "    <td>32.2</td>\n",
        "    <td>42</td>\n",
        "    <td>17-Feb-76</td>\n",
        "    <td></td>\n",
        "    <td>9.5</td>\n",
        "  </tr>\n",
        "    <tr>\n",
        "    <td>Bee Gees</td>\n",
        "    <td>Saturday Night Fever</td>\n",
        "    <td>1977</td>\n",
        "    <td>1:15:54</td>\n",
        "    <td>Disco</td>\n",
        "    <td>20.6</td>\n",
        "    <td>40</td>\n",
        "    <td>15-Nov-77</td>\n",
        "    <td>Y</td>\n",
        "    <td>9.0</td>\n",
        "  </tr>\n",
        "    <tr>\n",
        "    <td>Fleetwood Mac</td>\n",
        "    <td>Rumours</td>\n",
        "    <td>1977</td>\n",
        "    <td>00:40:01</td>\n",
        "    <td>Soft rock</td>\n",
        "    <td>27.9</td>\n",
        "    <td>40</td>\n",
        "    <td>04-Feb-77</td>\n",
        "    <td></td>\n",
        "    <td>9.5</td>\n",
        "  </tr>\n",
        "</table></font>"
      ]
    },
    {
      "cell_type": "markdown",
      "metadata": {
        "application/vnd.databricks.v1+cell": {
          "inputWidgets": {},
          "nuid": "e1738141-a1cf-402c-8bfc-4188fa340886",
          "showTitle": false,
          "title": ""
        },
        "id": "joUtf2KKGF6G"
      },
      "source": [
        "<h2 id=\"list\">Listas</h2>"
      ]
    },
    {
      "cell_type": "markdown",
      "metadata": {
        "application/vnd.databricks.v1+cell": {
          "inputWidgets": {},
          "nuid": "5d76858d-7c3b-4e89-8a3c-ff5aa047e21a",
          "showTitle": false,
          "title": ""
        },
        "id": "5eUuyS78GF6H"
      },
      "source": [
        "<h3 id=\"index\">Indexación</h3>"
      ]
    },
    {
      "cell_type": "markdown",
      "metadata": {
        "application/vnd.databricks.v1+cell": {
          "inputWidgets": {},
          "nuid": "7f1a9316-9609-4e47-b7a2-c5dd43fe1754",
          "showTitle": false,
          "title": ""
        },
        "id": "s2E2clNCGF6H"
      },
      "source": [
        "Vamos a ver un poco mas sobre las listas en Python. Una lista es una colección ordenada de distintos objetos tales como enteros, cadenas e incluso otras listas. La dirección de cada elemento dentro de una lista se llama <b>índice</b>. El índice se usa para acceder o referirse a un objeto dentro de la lista."
      ]
    },
    {
      "cell_type": "markdown",
      "metadata": {
        "application/vnd.databricks.v1+cell": {
          "inputWidgets": {},
          "nuid": "52c20f89-9072-4ee2-b4de-b63194d1568b",
          "showTitle": false,
          "title": ""
        },
        "id": "6smFd1A2GF6I"
      },
      "source": [
        "<img src=\"https://s3-api.us-geo.objectstorage.softlayer.net/cf-courses-data/CognitiveClass/PY0101EN/Chapter%202/Images/ListsIndex.png\" width=\"1000\" />"
      ]
    },
    {
      "cell_type": "markdown",
      "metadata": {
        "application/vnd.databricks.v1+cell": {
          "inputWidgets": {},
          "nuid": "79aec274-6ed0-4ad7-84e2-f3331a3cf050",
          "showTitle": false,
          "title": ""
        },
        "id": "VwmqlknlGF6I"
      },
      "source": [
        "Para crear una lista, se escribe cada elemento dentro de <b>[ ]</b>, separado cada uno por comas. ¡Vamos a probar!"
      ]
    },
    {
      "cell_type": "code",
      "execution_count": null,
      "metadata": {
        "application/vnd.databricks.v1+cell": {
          "inputWidgets": {},
          "nuid": "dde309dc-4665-49c7-9d71-bea571cccc22",
          "showTitle": false,
          "title": ""
        },
        "colab": {
          "base_uri": "https://localhost:8080/"
        },
        "id": "MS7GmPX4GF6J",
        "outputId": "67f820ac-e0c7-441e-b28a-0251083f1c18"
      },
      "outputs": [
        {
          "data": {
            "text/plain": [
              "['Michael Jackson', 10.1, 1982]"
            ]
          },
          "execution_count": 1,
          "metadata": {},
          "output_type": "execute_result"
        }
      ],
      "source": [
        "# Crear una lista\n",
        "\n",
        "L = [\"Michael Jackson\", 10.1, 1982]\n",
        "L"
      ]
    },
    {
      "cell_type": "markdown",
      "metadata": {
        "application/vnd.databricks.v1+cell": {
          "inputWidgets": {},
          "nuid": "c2192bac-9b53-41a7-ac78-9f6ee0931a90",
          "showTitle": false,
          "title": ""
        },
        "id": "J9I-emw1GF6K"
      },
      "source": [
        "Podemos usar en una lista la indexación regular o negativa:"
      ]
    },
    {
      "cell_type": "markdown",
      "metadata": {
        "application/vnd.databricks.v1+cell": {
          "inputWidgets": {},
          "nuid": "a008138e-c6b0-492b-8612-a48413996125",
          "showTitle": false,
          "title": ""
        },
        "id": "6JdcqSgvGF6K"
      },
      "source": [
        "<img src=\"https://s3-api.us-geo.objectstorage.softlayer.net/cf-courses-data/CognitiveClass/PY0101EN/Chapter%202/Images/ListsNeg.png\" width=\"1000\" />"
      ]
    },
    {
      "cell_type": "code",
      "execution_count": null,
      "metadata": {
        "application/vnd.databricks.v1+cell": {
          "inputWidgets": {},
          "nuid": "fc240da8-3efe-4e53-8197-43c86f348f31",
          "showTitle": false,
          "title": ""
        },
        "colab": {
          "base_uri": "https://localhost:8080/"
        },
        "id": "J4iWD95CGF6K",
        "outputId": "71d4f2ea-4860-462b-9799-a3a5cfe62ce6"
      },
      "outputs": [
        {
          "name": "stdout",
          "output_type": "stream",
          "text": [
            "the same element using negative and positive indexing:\n",
            " Postive: Michael Jackson \n",
            " Negative: Michael Jackson\n",
            "the same element using negative and positive indexing:\n",
            " Postive: 10.1 \n",
            " Negative: 10.1\n",
            "the same element using negative and positive indexing:\n",
            " Postive: 1982 \n",
            " Negative: 1982\n"
          ]
        }
      ],
      "source": [
        "# Imprime los elementos de cada índice\n",
        "\n",
        "print('the same element using negative and positive indexing:\\n Postive:',L[0],\n",
        "'\\n Negative:' , L[-3]  )\n",
        "print('the same element using negative and positive indexing:\\n Postive:',L[1],\n",
        "'\\n Negative:' , L[-2]  )\n",
        "print('the same element using negative and positive indexing:\\n Postive:',L[2],\n",
        "'\\n Negative:' , L[-1]  )"
      ]
    },
    {
      "cell_type": "markdown",
      "metadata": {
        "application/vnd.databricks.v1+cell": {
          "inputWidgets": {},
          "nuid": "67a71dc3-04ae-4b89-a80b-ee5e9b29e885",
          "showTitle": false,
          "title": ""
        },
        "id": "B-ULvwZnGF6L"
      },
      "source": [
        "<h3 id=\"content\">Contenido de la Lista</h3>"
      ]
    },
    {
      "cell_type": "markdown",
      "metadata": {
        "application/vnd.databricks.v1+cell": {
          "inputWidgets": {},
          "nuid": "a5795f1e-5d83-4611-bea1-d68238da3f43",
          "showTitle": false,
          "title": ""
        },
        "id": "4zYtUqfAGF6L"
      },
      "source": [
        "Las listas pueden contener cadenas, números enteros y en punto flotante. Podemos anidar otras listas y además tuplas u otros tipos de estructuras de datos. Para el anidado se siguen las mismas reglas:"
      ]
    },
    {
      "cell_type": "code",
      "execution_count": null,
      "metadata": {
        "application/vnd.databricks.v1+cell": {
          "inputWidgets": {},
          "nuid": "dc4f74f8-2289-4597-a7cf-641558c63784",
          "showTitle": false,
          "title": ""
        },
        "colab": {
          "base_uri": "https://localhost:8080/"
        },
        "id": "RH9aYwE0GF6L",
        "outputId": "8b7bf8ec-13aa-436f-bf0f-66ab6b1ee571"
      },
      "outputs": [
        {
          "data": {
            "text/plain": [
              "['Michael Jackson', 10.1, 1982, [1, 2], ('A', 1)]"
            ]
          },
          "execution_count": 3,
          "metadata": {},
          "output_type": "execute_result"
        }
      ],
      "source": [
        "# Lista de ejemplo\n",
        "\n",
        "[\"Michael Jackson\", 10.1, 1982, [1, 2], (\"A\", 1)]"
      ]
    },
    {
      "cell_type": "markdown",
      "metadata": {
        "application/vnd.databricks.v1+cell": {
          "inputWidgets": {},
          "nuid": "e6a96f2e-244e-4801-a18d-58588cfc7dc4",
          "showTitle": false,
          "title": ""
        },
        "id": "WujkaB9RGF6M"
      },
      "source": [
        "<h3 id=\"op\">Operaciones con Listas</h3>"
      ]
    },
    {
      "cell_type": "markdown",
      "metadata": {
        "application/vnd.databricks.v1+cell": {
          "inputWidgets": {},
          "nuid": "36d14f6c-c547-4113-ba1b-815dd0e09604",
          "showTitle": false,
          "title": ""
        },
        "id": "LHurhgrzGF6M"
      },
      "source": [
        "También podemos aplicar el slicing en las listas. Por ejemplo, si queremos obtener los últimos dos elementos, usamos el siguiente comando:"
      ]
    },
    {
      "cell_type": "code",
      "execution_count": null,
      "metadata": {
        "application/vnd.databricks.v1+cell": {
          "inputWidgets": {},
          "nuid": "77064762-f060-42cc-8c45-22b7d3f3ae34",
          "showTitle": false,
          "title": ""
        },
        "colab": {
          "base_uri": "https://localhost:8080/"
        },
        "id": "htTZ4TXwGF6M",
        "outputId": "f7a2ad3b-5956-482e-9ad6-9b367e2664ab"
      },
      "outputs": [
        {
          "data": {
            "text/plain": [
              "['Michael Jackson', 10.1, 1982, 'MJ', 1]"
            ]
          },
          "execution_count": 4,
          "metadata": {},
          "output_type": "execute_result"
        }
      ],
      "source": [
        "# Lista de ejemplo\n",
        "\n",
        "L = [\"Michael Jackson\", 10.1,1982,\"MJ\",1]\n",
        "L"
      ]
    },
    {
      "cell_type": "markdown",
      "metadata": {
        "application/vnd.databricks.v1+cell": {
          "inputWidgets": {},
          "nuid": "ac2561c5-2bfe-4f3d-a6f9-4728e6522211",
          "showTitle": false,
          "title": ""
        },
        "id": "maER9qzMGF6M"
      },
      "source": [
        "<img src=\"https://s3-api.us-geo.objectstorage.softlayer.net/cf-courses-data/CognitiveClass/PY0101EN/Chapter%202/Images/ListsSlice.png\" width=\"1000\">"
      ]
    },
    {
      "cell_type": "code",
      "execution_count": null,
      "metadata": {
        "application/vnd.databricks.v1+cell": {
          "inputWidgets": {},
          "nuid": "ec5b39d9-a384-4e68-ab5b-b7c4baa0b834",
          "showTitle": false,
          "title": ""
        },
        "colab": {
          "base_uri": "https://localhost:8080/"
        },
        "id": "8W1UdZsWGF6M",
        "outputId": "312a6d32-38c0-4d8e-9e96-802da430d7c8"
      },
      "outputs": [
        {
          "data": {
            "text/plain": [
              "['MJ', 1]"
            ]
          },
          "execution_count": 5,
          "metadata": {},
          "output_type": "execute_result"
        }
      ],
      "source": [
        "# Slicing en una lista\n",
        "\n",
        "L[3:5]"
      ]
    },
    {
      "cell_type": "markdown",
      "metadata": {
        "application/vnd.databricks.v1+cell": {
          "inputWidgets": {},
          "nuid": "840f108e-bacb-4ebb-b1d0-9a29802bd4d8",
          "showTitle": false,
          "title": ""
        },
        "id": "7EZospSAGF6M"
      },
      "source": [
        "Podemos usar el método <code>extend</code> para añadir elementos a la lista:"
      ]
    },
    {
      "cell_type": "code",
      "execution_count": null,
      "metadata": {
        "application/vnd.databricks.v1+cell": {
          "inputWidgets": {},
          "nuid": "ba176860-76c9-4a2a-b635-201f1b572a0e",
          "showTitle": false,
          "title": ""
        },
        "colab": {
          "base_uri": "https://localhost:8080/"
        },
        "id": "RtmAD4sAGF6N",
        "outputId": "e75fa242-f35c-439e-9c28-618f681b0106"
      },
      "outputs": [
        {
          "data": {
            "text/plain": [
              "['Michael Jackson', 10.2, 'pop', 10]"
            ]
          },
          "execution_count": 6,
          "metadata": {},
          "output_type": "execute_result"
        }
      ],
      "source": [
        "# Aplica el método extend para añadir elementos\n",
        "\n",
        "L = [ \"Michael Jackson\", 10.2]\n",
        "L.extend(['pop', 10])\n",
        "L"
      ]
    },
    {
      "cell_type": "markdown",
      "metadata": {
        "application/vnd.databricks.v1+cell": {
          "inputWidgets": {},
          "nuid": "e14c4fac-8121-4e54-89d4-33ee43b1f2bc",
          "showTitle": false,
          "title": ""
        },
        "id": "YJcjdz9AGF6N"
      },
      "source": [
        "Otro método similar es <code>append</code>. Si usamos <code>append</code> en vez de <code>extend</code>, añadimos un elemento a a la lista:"
      ]
    },
    {
      "cell_type": "code",
      "execution_count": null,
      "metadata": {
        "application/vnd.databricks.v1+cell": {
          "inputWidgets": {},
          "nuid": "f55ab3a7-5237-4390-b7a7-975af4fd5fd2",
          "showTitle": false,
          "title": ""
        },
        "colab": {
          "base_uri": "https://localhost:8080/"
        },
        "id": "47o6tI_rGF6N",
        "outputId": "1158db7c-363e-4c28-9be2-b7b6c6092d49"
      },
      "outputs": [
        {
          "data": {
            "text/plain": [
              "['Michael Jackson', 10.2, ['pop', 10]]"
            ]
          },
          "execution_count": 7,
          "metadata": {},
          "output_type": "execute_result"
        }
      ],
      "source": [
        "# Aplica el método append para añadir elementos\n",
        "\n",
        "L = [ \"Michael Jackson\", 10.2]\n",
        "L.append(['pop', 10])\n",
        "L"
      ]
    },
    {
      "cell_type": "markdown",
      "metadata": {
        "application/vnd.databricks.v1+cell": {
          "inputWidgets": {},
          "nuid": "3dee19c9-0b6c-4daf-bf86-3c1a07c45fb6",
          "showTitle": false,
          "title": ""
        },
        "id": "Ibodj42kGF6N"
      },
      "source": [
        "Cada vez que un método es aplicado, la lista cambia. Al usar <code>extend</code> estamos añadiendo dos nuevos elementos. La lista <code>L</code> es entonces modificada con dos nuevos elementos."
      ]
    },
    {
      "cell_type": "code",
      "execution_count": null,
      "metadata": {
        "application/vnd.databricks.v1+cell": {
          "inputWidgets": {},
          "nuid": "54ec3596-95a8-4922-87c3-999606521446",
          "showTitle": false,
          "title": ""
        },
        "colab": {
          "base_uri": "https://localhost:8080/"
        },
        "id": "AlDmBiqeGF6N",
        "outputId": "a40f8802-945e-4625-c8bb-24b74f543faf"
      },
      "outputs": [
        {
          "data": {
            "text/plain": [
              "['Michael Jackson', 10.2, 'pop', 10]"
            ]
          },
          "execution_count": 8,
          "metadata": {},
          "output_type": "execute_result"
        }
      ],
      "source": [
        "# Aplica el método extend para añadir elementos\n",
        "\n",
        "L = [ \"Michael Jackson\", 10.2]\n",
        "L.extend(['pop', 10])\n",
        "L"
      ]
    },
    {
      "cell_type": "markdown",
      "metadata": {
        "application/vnd.databricks.v1+cell": {
          "inputWidgets": {},
          "nuid": "3b046001-0285-4e00-b224-05fe1e5a8e3c",
          "showTitle": false,
          "title": ""
        },
        "id": "0KUMqq3uGF6O"
      },
      "source": [
        "Si añadimos a la lista <code>['a','b']</code> tendremos un nuevo elemento conformado por una lista anidada:"
      ]
    },
    {
      "cell_type": "code",
      "execution_count": null,
      "metadata": {
        "application/vnd.databricks.v1+cell": {
          "inputWidgets": {},
          "nuid": "c08d39ad-c82c-44fc-8afe-5e6e10a63afc",
          "showTitle": false,
          "title": ""
        },
        "colab": {
          "base_uri": "https://localhost:8080/"
        },
        "id": "dGrHk8bWGF6O",
        "outputId": "1eded8e2-ca2c-4a15-94ad-63c0e37ffc40"
      },
      "outputs": [
        {
          "data": {
            "text/plain": [
              "['Michael Jackson', 10.2, 'pop', 10, ['a', 'b']]"
            ]
          },
          "execution_count": 9,
          "metadata": {},
          "output_type": "execute_result"
        }
      ],
      "source": [
        "# Aplica el método append para añadir elementos\n",
        "\n",
        "L.append(['a','b'])\n",
        "L"
      ]
    },
    {
      "cell_type": "markdown",
      "metadata": {
        "application/vnd.databricks.v1+cell": {
          "inputWidgets": {},
          "nuid": "68641ebd-e43c-4cce-b03c-52fb4930dc37",
          "showTitle": false,
          "title": ""
        },
        "id": "RVvgS_LdGF6O"
      },
      "source": [
        "Las listas son estructuras que pueden cambiar con el tiempo. Por ejemplo, cambiemos el primer elemento de una lista de la siguiente manera:"
      ]
    },
    {
      "cell_type": "code",
      "execution_count": null,
      "metadata": {
        "application/vnd.databricks.v1+cell": {
          "inputWidgets": {},
          "nuid": "df3c87f5-146a-4883-91c6-2cd97c02c745",
          "showTitle": false,
          "title": ""
        },
        "colab": {
          "base_uri": "https://localhost:8080/"
        },
        "id": "M7D-F8mwGF6P",
        "outputId": "a86d1c0e-0214-48b1-a7ed-e2a278156f0e"
      },
      "outputs": [
        {
          "name": "stdout",
          "output_type": "stream",
          "text": [
            "Before change: ['disco', 10, 1.2]\n",
            "After change: ['hard rock', 10, 1.2]\n"
          ]
        }
      ],
      "source": [
        "# Cambia el elemento usando el índice\n",
        "\n",
        "A = [\"disco\", 10, 1.2]\n",
        "print('Before change:', A)\n",
        "A[0] = 'hard rock'\n",
        "print('After change:', A)"
      ]
    },
    {
      "cell_type": "markdown",
      "metadata": {
        "application/vnd.databricks.v1+cell": {
          "inputWidgets": {},
          "nuid": "226e5f01-6019-4acf-bed0-8065de5540e7",
          "showTitle": false,
          "title": ""
        },
        "id": "9WfXTFNVGF6P"
      },
      "source": [
        "Para borrar un elemento de la lista, usamos el comando <code>del</code>:"
      ]
    },
    {
      "cell_type": "code",
      "execution_count": null,
      "metadata": {
        "application/vnd.databricks.v1+cell": {
          "inputWidgets": {},
          "nuid": "6c3fd0f7-d69f-44e2-9102-b13f130465cd",
          "showTitle": false,
          "title": ""
        },
        "colab": {
          "base_uri": "https://localhost:8080/"
        },
        "id": "uqAcX9eyGF6P",
        "outputId": "2caaa1f4-4e41-47b9-ca13-4a614ddbfe3e"
      },
      "outputs": [
        {
          "name": "stdout",
          "output_type": "stream",
          "text": [
            "Before change: ['hard rock', 10, 1.2]\n",
            "After change: [10, 1.2]\n"
          ]
        }
      ],
      "source": [
        "# Borra el elemento usando el índice\n",
        "\n",
        "print('Before change:', A)\n",
        "del(A[0])\n",
        "print('After change:', A)"
      ]
    },
    {
      "cell_type": "markdown",
      "metadata": {
        "application/vnd.databricks.v1+cell": {
          "inputWidgets": {},
          "nuid": "76b9967f-c656-4b5f-b9a4-31a7a65c121a",
          "showTitle": false,
          "title": ""
        },
        "id": "zYh2LC81GF6Q"
      },
      "source": [
        "Podemos transformar una cadena en una lista con <code>split</code>. Por ejemplo, el método <code>split</code> convierte cada grupo de caracteres separados por un espacio en blanco, en un elemento de la lista:"
      ]
    },
    {
      "cell_type": "code",
      "execution_count": null,
      "metadata": {
        "application/vnd.databricks.v1+cell": {
          "inputWidgets": {},
          "nuid": "0f57adac-4c39-438b-bc19-e5c98e8fd03f",
          "showTitle": false,
          "title": ""
        },
        "colab": {
          "base_uri": "https://localhost:8080/"
        },
        "id": "1Jci5vSjGF6Q",
        "outputId": "11470541-b26e-4da3-a24a-8d28f44f175e"
      },
      "outputs": [
        {
          "data": {
            "text/plain": [
              "['hard', 'rock']"
            ]
          },
          "execution_count": 12,
          "metadata": {},
          "output_type": "execute_result"
        }
      ],
      "source": [
        "# Divide la cadena\n",
        "\n",
        "'hard rock'.split()"
      ]
    },
    {
      "cell_type": "markdown",
      "metadata": {
        "application/vnd.databricks.v1+cell": {
          "inputWidgets": {},
          "nuid": "3447b9c8-5a18-405e-984c-76f0cb7dce2e",
          "showTitle": false,
          "title": ""
        },
        "id": "zqgQ7YbEGF6Q"
      },
      "source": [
        "Podemos utilizar la función split para separar distintas cadenas usando algún carácter especifico. Pasamos en el argumento el carácter que queremos usar como separador, en este caso será una coma. El resultado es una lista, y cada elemento corresponderá a un grupo de caracteres separados por una coma:"
      ]
    },
    {
      "cell_type": "code",
      "execution_count": null,
      "metadata": {
        "application/vnd.databricks.v1+cell": {
          "inputWidgets": {},
          "nuid": "17f24008-7e8f-4878-a2e8-12bda40c5bae",
          "showTitle": false,
          "title": ""
        },
        "colab": {
          "base_uri": "https://localhost:8080/"
        },
        "id": "rnwwEiJbGF6Q",
        "outputId": "3f644382-3fe8-4b45-e67e-a119dc4ebea6"
      },
      "outputs": [
        {
          "data": {
            "text/plain": [
              "['A', 'B', 'C', 'D']"
            ]
          },
          "execution_count": 13,
          "metadata": {},
          "output_type": "execute_result"
        }
      ],
      "source": [
        "# Separa la cadena usando comas\n",
        "\n",
        "'A,B,C,D'.split(',')"
      ]
    },
    {
      "cell_type": "markdown",
      "metadata": {
        "application/vnd.databricks.v1+cell": {
          "inputWidgets": {},
          "nuid": "67551bdc-72b7-48a8-ad90-ce30f9aef963",
          "showTitle": false,
          "title": ""
        },
        "id": "UNNz-1qSGF6R"
      },
      "source": [
        "<h3 id=\"co\">Copiado y Clonación de Listas</h3>"
      ]
    },
    {
      "cell_type": "markdown",
      "metadata": {
        "application/vnd.databricks.v1+cell": {
          "inputWidgets": {},
          "nuid": "16e9d2c7-366e-4cbd-b402-399f5938f5f9",
          "showTitle": false,
          "title": ""
        },
        "id": "8Vl_2DB-GF6R"
      },
      "source": [
        "Cuando asignamos el valor de la variable <b>B</b> igual a <b>A</b>; ambas están haciendo referencia a la misma lista guardada en memoria:"
      ]
    },
    {
      "cell_type": "code",
      "execution_count": null,
      "metadata": {
        "application/vnd.databricks.v1+cell": {
          "inputWidgets": {},
          "nuid": "b5901fe9-35cd-4047-be92-85653e557d4a",
          "showTitle": false,
          "title": ""
        },
        "colab": {
          "base_uri": "https://localhost:8080/"
        },
        "id": "vNVQqBryGF6R",
        "outputId": "603c1973-eb2b-4f3a-e6da-68d792291513"
      },
      "outputs": [
        {
          "name": "stdout",
          "output_type": "stream",
          "text": [
            "A: ['hard rock', 10, 1.2]\n",
            "B: ['hard rock', 10, 1.2]\n"
          ]
        }
      ],
      "source": [
        "# Copiar (por referencia) la lista A\n",
        "\n",
        "A = [\"hard rock\", 10, 1.2]\n",
        "B = A\n",
        "print('A:', A)\n",
        "print('B:', B)"
      ]
    },
    {
      "cell_type": "markdown",
      "metadata": {
        "application/vnd.databricks.v1+cell": {
          "inputWidgets": {},
          "nuid": "d66254c6-956b-4834-9de4-949c412a8f67",
          "showTitle": false,
          "title": ""
        },
        "id": "MDfhfrwYGF6S"
      },
      "source": [
        "<img src=\"https://s3-api.us-geo.objectstorage.softlayer.net/cf-courses-data/CognitiveClass/PY0101EN/Chapter%202/Images/ListsRef.png\" width=\"1000\" align=\"center\">"
      ]
    },
    {
      "cell_type": "markdown",
      "metadata": {
        "application/vnd.databricks.v1+cell": {
          "inputWidgets": {},
          "nuid": "77d2bd70-2753-48c3-960d-e06936bc1395",
          "showTitle": false,
          "title": ""
        },
        "id": "bOvu1hJ0GF6S"
      },
      "source": [
        "En un principio, el valor del primer elemento en <b>B</b> es asignado como hard rock. Si modificamos el primer elemento en <b>A</b> por <b>banana</b>, obtendremos un efecto inesperado. Debido a que <b>A</b> y <b>B</b> hacen referencia a la mima lista, si cambiamos <b>A</b>, entonces cambiamos también a <b>B</b>. Al revisar el primer elemento de <b>B</b> veremos banana en vez de hard rock:"
      ]
    },
    {
      "cell_type": "code",
      "execution_count": null,
      "metadata": {
        "application/vnd.databricks.v1+cell": {
          "inputWidgets": {},
          "nuid": "588651ff-2bae-4706-a1cb-c0f4c74b8591",
          "showTitle": false,
          "title": ""
        },
        "colab": {
          "base_uri": "https://localhost:8080/"
        },
        "id": "XXB250FiGF6S",
        "outputId": "1b440b89-1130-43b2-8c6d-407965123122"
      },
      "outputs": [
        {
          "name": "stdout",
          "output_type": "stream",
          "text": [
            "B[0]: hard rock\n",
            "B[0]: banana\n"
          ]
        }
      ],
      "source": [
        "# Examinar la copia hecha por referencia\n",
        "\n",
        "print('B[0]:', B[0])\n",
        "A[0] = \"banana\"\n",
        "print('B[0]:', B[0])"
      ]
    },
    {
      "cell_type": "markdown",
      "metadata": {
        "application/vnd.databricks.v1+cell": {
          "inputWidgets": {},
          "nuid": "5b166d82-a8cf-48d5-bd62-f69a6a347dde",
          "showTitle": false,
          "title": ""
        },
        "id": "mLhVy9LVGF6S"
      },
      "source": [
        "Se muestra esto en la siguiente imagen:"
      ]
    },
    {
      "cell_type": "markdown",
      "metadata": {
        "application/vnd.databricks.v1+cell": {
          "inputWidgets": {},
          "nuid": "36909e50-1ad4-432b-a65d-401f42389219",
          "showTitle": false,
          "title": ""
        },
        "id": "w_RmSd6-GF6S"
      },
      "source": [
        "<img src = \"https://s3-api.us-geo.objectstorage.softlayer.net/cf-courses-data/CognitiveClass/PY0101EN/Chapter%202/Images/ListsRefGif.gif\" width=\"1000\" />"
      ]
    },
    {
      "cell_type": "markdown",
      "metadata": {
        "application/vnd.databricks.v1+cell": {
          "inputWidgets": {},
          "nuid": "c3238e64-fba3-47ff-9ee8-583ebd2a785a",
          "showTitle": false,
          "title": ""
        },
        "id": "VphfRfOkGF6S"
      },
      "source": [
        "Se puede clonar la lista **A** haciendo uso de la siguiente sintaxis:"
      ]
    },
    {
      "cell_type": "code",
      "execution_count": null,
      "metadata": {
        "application/vnd.databricks.v1+cell": {
          "inputWidgets": {},
          "nuid": "a1bbb9c4-42a2-4937-b5a7-f335a71d71fd",
          "showTitle": false,
          "title": ""
        },
        "colab": {
          "base_uri": "https://localhost:8080/"
        },
        "id": "9bGPEN3HGF6S",
        "outputId": "072d2cc4-8939-44df-dd53-9216dd6fbb9d"
      },
      "outputs": [
        {
          "data": {
            "text/plain": [
              "['banana', 10, 1.2]"
            ]
          },
          "execution_count": 16,
          "metadata": {},
          "output_type": "execute_result"
        }
      ],
      "source": [
        "# Clonar la lista A\n",
        "\n",
        "B = A[:]\n",
        "B"
      ]
    },
    {
      "cell_type": "markdown",
      "metadata": {
        "application/vnd.databricks.v1+cell": {
          "inputWidgets": {},
          "nuid": "67439e3d-8dd0-4448-a3d2-5404ffcc9bd7",
          "showTitle": false,
          "title": ""
        },
        "id": "b1AdYhegGF6T"
      },
      "source": [
        "La variable **B** es una copia o clon por valor de la lista original; esto se puede demostrar en la siguiente imagen:"
      ]
    },
    {
      "cell_type": "markdown",
      "metadata": {
        "application/vnd.databricks.v1+cell": {
          "inputWidgets": {},
          "nuid": "47b7ab3c-950d-4a06-8b05-8826da861d11",
          "showTitle": false,
          "title": ""
        },
        "id": "6EVNVxFkGF6T"
      },
      "source": [
        "<img src=\"https://s3-api.us-geo.objectstorage.softlayer.net/cf-courses-data/CognitiveClass/PY0101EN/Chapter%202/Images/ListsVal.gif\" width=\"1000\" />"
      ]
    },
    {
      "cell_type": "markdown",
      "metadata": {
        "application/vnd.databricks.v1+cell": {
          "inputWidgets": {},
          "nuid": "4221c2cb-3981-4be4-8606-c01fc286c8cb",
          "showTitle": false,
          "title": ""
        },
        "id": "5chAowS_GF6T"
      },
      "source": [
        "Ahora cualquier cambio en <b>A<b/>, no será aplicado a <b>B</b>:"
      ]
    },
    {
      "cell_type": "code",
      "execution_count": null,
      "metadata": {
        "application/vnd.databricks.v1+cell": {
          "inputWidgets": {},
          "nuid": "28e01b74-c2b9-489e-bdcf-2d8dece57bbe",
          "showTitle": false,
          "title": ""
        },
        "colab": {
          "base_uri": "https://localhost:8080/"
        },
        "id": "FUdx1Dd7GF6T",
        "outputId": "04e06e38-8717-4ee0-cf9b-b7f04ec482b1"
      },
      "outputs": [
        {
          "name": "stdout",
          "output_type": "stream",
          "text": [
            "B[0]: banana\n",
            "B[0]: banana\n"
          ]
        }
      ],
      "source": [
        "print('B[0]:', B[0])\n",
        "A[0] = \"hard rock\"\n",
        "print('B[0]:', B[0])"
      ]
    },
    {
      "cell_type": "markdown",
      "metadata": {
        "application/vnd.databricks.v1+cell": {
          "inputWidgets": {},
          "nuid": "e9517faa-54c0-4502-817d-5a74d2d2f0ce",
          "showTitle": false,
          "title": ""
        },
        "id": "ADCVLO4uGF6T"
      },
      "source": [
        "<h2 id=\"quiz\">Exámen sobre Listas</h2>"
      ]
    },
    {
      "cell_type": "markdown",
      "metadata": {
        "application/vnd.databricks.v1+cell": {
          "inputWidgets": {},
          "nuid": "e959dcb7-8cc6-4dad-ac2a-d90817d8b477",
          "showTitle": false,
          "title": ""
        },
        "id": "NdE7kU26GF6T"
      },
      "source": [
        "Crea una lista <code>a_lit</code> con los siguientes elementos <code>1</code>, <code>hello</code>, <code>[1,2,3]</code> y <code>True</code>."
      ]
    },
    {
      "cell_type": "code",
      "execution_count": null,
      "metadata": {
        "application/vnd.databricks.v1+cell": {
          "inputWidgets": {},
          "nuid": "2b05e525-1c9a-4434-a8eb-9472b237230d",
          "showTitle": false,
          "title": ""
        },
        "colab": {
          "base_uri": "https://localhost:8080/"
        },
        "id": "xSiywhRFGF6U",
        "outputId": "7a353d6a-f6f2-4d5b-a253-4ff73335a4ca"
      },
      "outputs": [
        {
          "data": {
            "text/plain": [
              "[1, 'hello', [1, 2, 3], True]"
            ]
          },
          "execution_count": 18,
          "metadata": {},
          "output_type": "execute_result"
        }
      ],
      "source": [
        "# Escribe abajo tu código y presiona Shift+Enter para ejecutarlo\n",
        "a_lit = [1, 'hello', [1,2,3], True]\n",
        "a_lit"
      ]
    },
    {
      "cell_type": "markdown",
      "metadata": {
        "application/vnd.databricks.v1+cell": {
          "inputWidgets": {},
          "nuid": "95879e66-3996-45c6-b63d-0ea99cdfd463",
          "showTitle": false,
          "title": ""
        },
        "id": "0fP6e-CYGF6U"
      },
      "source": [
        "Haz doble click <b>aquí</b> para ver la solución.\n",
        "\n",
        "<!-- Your answer is below:\n",
        "a_list = [1, 'hello', [1, 2, 3] , True]\n",
        "a_list\n",
        "-->"
      ]
    },
    {
      "cell_type": "markdown",
      "metadata": {
        "application/vnd.databricks.v1+cell": {
          "inputWidgets": {},
          "nuid": "4d33d3b9-bdbe-4cf4-afcd-093f45ec86a8",
          "showTitle": false,
          "title": ""
        },
        "id": "RcYq8scjGF6U"
      },
      "source": [
        "Encuentra el valor almacenado en el índice 1 de <code>a_list</code>."
      ]
    },
    {
      "cell_type": "code",
      "execution_count": null,
      "metadata": {
        "application/vnd.databricks.v1+cell": {
          "inputWidgets": {},
          "nuid": "d1eeb457-bca6-4817-8a3d-4acfe46030df",
          "showTitle": false,
          "title": ""
        },
        "colab": {
          "base_uri": "https://localhost:8080/",
          "height": 35
        },
        "id": "rqqKPbrUGF6U",
        "outputId": "bd070f19-03e9-4141-cdb0-9bd330f27d6d"
      },
      "outputs": [
        {
          "data": {
            "application/vnd.google.colaboratory.intrinsic+json": {
              "type": "string"
            },
            "text/plain": [
              "'hello'"
            ]
          },
          "execution_count": 20,
          "metadata": {},
          "output_type": "execute_result"
        }
      ],
      "source": [
        "# Escribe abajo tu código y presiona Shift+Enter para ejecutarlo\n",
        "a_lit[1]"
      ]
    },
    {
      "cell_type": "markdown",
      "metadata": {
        "application/vnd.databricks.v1+cell": {
          "inputWidgets": {},
          "nuid": "fe920fbc-b70b-49ff-a753-68b792627599",
          "showTitle": false,
          "title": ""
        },
        "id": "sEgYBQqOGF6U"
      },
      "source": [
        "Haz doble click <b>aquí</b> para ver la solución.\n",
        "\n",
        "<!-- Your answer is below:\n",
        "a_list[1]\n",
        "-->"
      ]
    },
    {
      "cell_type": "markdown",
      "metadata": {
        "application/vnd.databricks.v1+cell": {
          "inputWidgets": {},
          "nuid": "2d48cb35-3d90-400e-a747-559646dd5adb",
          "showTitle": false,
          "title": ""
        },
        "id": "XDC8brGyGF6V"
      },
      "source": [
        "Obtén el elemento almacenado en el índice 1, 2 y 3 de <code>a_list</code>."
      ]
    },
    {
      "cell_type": "code",
      "execution_count": null,
      "metadata": {
        "application/vnd.databricks.v1+cell": {
          "inputWidgets": {},
          "nuid": "ffa9204d-0567-403c-a18e-464daa7af74b",
          "showTitle": false,
          "title": ""
        },
        "colab": {
          "base_uri": "https://localhost:8080/"
        },
        "id": "ukGBGDp1GF6V",
        "outputId": "bfac167a-e2c5-4f3e-8a27-a0d160872c5f"
      },
      "outputs": [
        {
          "data": {
            "text/plain": [
              "['hello', [1, 2, 3], True]"
            ]
          },
          "execution_count": 21,
          "metadata": {},
          "output_type": "execute_result"
        }
      ],
      "source": [
        "# Escribe abajo tu código y presiona Shift+Enter para ejecutarlo\n",
        "a_lit[1:4]"
      ]
    },
    {
      "cell_type": "markdown",
      "metadata": {
        "application/vnd.databricks.v1+cell": {
          "inputWidgets": {},
          "nuid": "fcb24546-8e9d-4315-8ac3-3b89b98cce6a",
          "showTitle": false,
          "title": ""
        },
        "id": "La9wNoEhGF6V"
      },
      "source": [
        "Haz doble click <b>aquí</b> para ver la solución.\n",
        "\n",
        "<!-- Your answer is below:\n",
        "a_list[1:4]\n",
        "-->"
      ]
    },
    {
      "cell_type": "markdown",
      "metadata": {
        "application/vnd.databricks.v1+cell": {
          "inputWidgets": {},
          "nuid": "eaa4cf31-327b-4378-887b-ba6c61fee135",
          "showTitle": false,
          "title": ""
        },
        "id": "S3Yx2bVpGF6V"
      },
      "source": [
        "Concatena las siguientes listas <code>A = [1, 'a']</code> y <code>B = [2, 1, 'd']</code>:"
      ]
    },
    {
      "cell_type": "code",
      "execution_count": null,
      "metadata": {
        "application/vnd.databricks.v1+cell": {
          "inputWidgets": {},
          "nuid": "6e9b33eb-9517-4bd5-958d-16da802ebd0e",
          "showTitle": false,
          "title": ""
        },
        "colab": {
          "base_uri": "https://localhost:8080/"
        },
        "collapsed": true,
        "id": "mr6NbDkRGF6W",
        "outputId": "2ec45ba5-f808-45b4-f183-7108a3d4c535"
      },
      "outputs": [
        {
          "data": {
            "text/plain": [
              "[1, 'a', 2, 1, 'd']"
            ]
          },
          "execution_count": 22,
          "metadata": {},
          "output_type": "execute_result"
        }
      ],
      "source": [
        "# Escribe abajo tu código y presiona Shift+Enter para ejecutarlo\n",
        "A = [1, 'a']\n",
        "B = [2, 1, 'd']\n",
        "A + B"
      ]
    },
    {
      "cell_type": "markdown",
      "metadata": {
        "application/vnd.databricks.v1+cell": {
          "inputWidgets": {},
          "nuid": "985490d2-b46a-44fe-80d5-3bf6ee30310d",
          "showTitle": false,
          "title": ""
        },
        "id": "tncXYm8UGF6W"
      },
      "source": [
        "Haz doble click <b>aquí</b> para ver la solución.\n",
        "\n",
        "<!-- Your answer is below:\n",
        "A = [1, 'a']\n",
        "B = [2, 1, 'd']\n",
        "A + B\n",
        "-->"
      ]
    }
  ],
  "metadata": {
    "application/vnd.databricks.v1+notebook": {
      "dashboards": [],
      "language": "python",
      "notebookMetadata": {
        "pythonIndentUnit": 2
      },
      "notebookName": "03-Python-Listas",
      "notebookOrigID": 3296315911137787,
      "widgets": {}
    },
    "colab": {
      "provenance": []
    },
    "kernelspec": {
      "display_name": "Python 3",
      "language": "python",
      "name": "python3"
    },
    "language_info": {
      "codemirror_mode": {
        "name": "ipython",
        "version": 3
      },
      "file_extension": ".py",
      "mimetype": "text/x-python",
      "name": "python",
      "nbconvert_exporter": "python",
      "pygments_lexer": "ipython3",
      "version": "3.8.3"
    }
  },
  "nbformat": 4,
  "nbformat_minor": 0
}
