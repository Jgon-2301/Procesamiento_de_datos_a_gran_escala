{
  "cells": [
    {
      "cell_type": "markdown",
      "source": [
        "<h1>Procesamiento de Datos a Gran Escala</h1>"
      ],
      "metadata": {
        "application/vnd.databricks.v1+cell": {
          "title": "",
          "showTitle": false,
          "inputWidgets": {},
          "nuid": "6d434104-86b8-4c41-a59b-623f89a107cd"
        },
        "id": "F5b-bn4nN1dF"
      }
    },
    {
      "cell_type": "markdown",
      "source": [
        "![escudoPUJ-Bogota_rgb-azul_lateral.png](data:image/png;base64,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)\n",
        "\n",
        "**Autor:** Juan Felipe González Quintero\n",
        "\n",
        "**Fecha de modificación:** 11 -08 - 2025\n",
        "\n",
        "##**Resumen**\n",
        "\n",
        "En este cuaderno encontrará la solución a una guía de programación en el lenguaje python en el cuál se hace especial énfasis en el tema de diccionarios, sus usos y las funciones relacionadas que pueden facilitar su manipulación.\n",
        "\n",
        "##**Objetivo**\n",
        "\n",
        "Aprender y poner en práctica los conocimientos básicos sobre cadenas en python por medio de una guía interactiva con una pequeña evaluación al final"
      ],
      "metadata": {
        "id": "JocTv0TimqS3"
      }
    },
    {
      "cell_type": "markdown",
      "source": [
        "<h2>Diccionarios en Python</h2>"
      ],
      "metadata": {
        "application/vnd.databricks.v1+cell": {
          "title": "",
          "showTitle": false,
          "inputWidgets": {},
          "nuid": "ca8a69a5-0b3b-47b8-a7f9-159a320590ba"
        },
        "id": "1XDv_NC2N1dI"
      }
    },
    {
      "cell_type": "markdown",
      "source": [
        "<p><strong>¡Bienvenido!</strong> En este cuaderno aprenderás lo relacionado con los diccionarios en el Lenguaje de Programación Python. Al final de este laboratorio, conocerás las operaciones básicas con diccionarios en Python, incluyendo qué son, y las operaciones que puedes hacer con ellos.</p>"
      ],
      "metadata": {
        "application/vnd.databricks.v1+cell": {
          "title": "",
          "showTitle": false,
          "inputWidgets": {},
          "nuid": "f81050b8-e3d4-4c41-a99e-e25ea6f2a3e1"
        },
        "id": "7MQcAYj_N1dI"
      }
    },
    {
      "cell_type": "markdown",
      "source": [
        "<h2>Tabla de Contenido</h2>\n",
        "<div class=\"alert alert-block alert-info\" style=\"margin-top: 20px\">\n",
        "    <ul>\n",
        "        <li>\n",
        "            <a href=\"#dic\">Diccionarios</a>\n",
        "            <ul>\n",
        "                <li><a href=\"content\">¿Qué son los diccionarios?</a></li>\n",
        "                <li><a href=\"key\">Llaves</a></li>\n",
        "            </ul>\n",
        "        </li>\n",
        "        <li>\n",
        "            <a href=\"#quiz\">Cuestionario sobre Diccionarios</a>\n",
        "        </li>\n",
        "    </ul>\n",
        "    <p>\n",
        "        Tiempo Estimado: <strong>20 min</strong>\n",
        "    </p>\n",
        "</div>\n",
        "\n",
        "<hr>"
      ],
      "metadata": {
        "application/vnd.databricks.v1+cell": {
          "title": "",
          "showTitle": false,
          "inputWidgets": {},
          "nuid": "6fc64cb9-c451-43b4-af92-75438ee71b18"
        },
        "id": "nCXs7fQUN1dJ"
      }
    },
    {
      "cell_type": "markdown",
      "source": [
        "<h2 id=\"Dic\">Diccionarios</h2>"
      ],
      "metadata": {
        "application/vnd.databricks.v1+cell": {
          "title": "",
          "showTitle": false,
          "inputWidgets": {},
          "nuid": "50a2ca48-45d6-4bab-9e95-c003257ef47e"
        },
        "id": "kfmt4-8_N1dK"
      }
    },
    {
      "cell_type": "markdown",
      "source": [
        "<h3 id=\"content\">¿Qué son los diccionarios?</h3>"
      ],
      "metadata": {
        "application/vnd.databricks.v1+cell": {
          "title": "",
          "showTitle": false,
          "inputWidgets": {},
          "nuid": "748cb5ce-ab69-4151-83f9-48b0d6615d03"
        },
        "id": "K4Vxqkj0N1dK"
      }
    },
    {
      "cell_type": "markdown",
      "source": [
        "Un diccionario esta conformado por llaves y valores. Un diccionario puede compararse a una lista. En vez de índices numéricos como los de las listas, los diccionarios tienen llaves. Estas llaves son usadas para acceder a los valores dentro de los diccionarios."
      ],
      "metadata": {
        "application/vnd.databricks.v1+cell": {
          "title": "",
          "showTitle": false,
          "inputWidgets": {},
          "nuid": "c4e0370e-305b-426c-b96a-539867bba040"
        },
        "id": "VCgVXD9cN1dL"
      }
    },
    {
      "cell_type": "markdown",
      "source": [
        "<img src=\"https://s3-api.us-geo.objectstorage.softlayer.net/cf-courses-data/CognitiveClass/PY0101EN/Chapter%202/Images/DictsList.png\" width=\"650\" />"
      ],
      "metadata": {
        "application/vnd.databricks.v1+cell": {
          "title": "",
          "showTitle": false,
          "inputWidgets": {},
          "nuid": "de873c95-c9d1-4685-832e-db96cf0af97b"
        },
        "id": "QYk90lsMN1dM"
      }
    },
    {
      "cell_type": "markdown",
      "source": [
        "Un ejemplo de Diccionario <code>Dict</code>:"
      ],
      "metadata": {
        "application/vnd.databricks.v1+cell": {
          "title": "",
          "showTitle": false,
          "inputWidgets": {},
          "nuid": "a8add588-fdff-436a-bbdb-bf4c04f4d9a3"
        },
        "id": "Wa4uqEAAN1dM"
      }
    },
    {
      "cell_type": "code",
      "source": [
        "# Crear el diccionario\n",
        "\n",
        "Dict = {\"key1\": 1, \"key2\": \"2\", \"key3\": [3, 3, 3], \"key4\": (4, 4, 4), ('key5'): 5, (0, 1): 6}\n",
        "Dict"
      ],
      "metadata": {
        "application/vnd.databricks.v1+cell": {
          "title": "",
          "showTitle": false,
          "inputWidgets": {},
          "nuid": "d83789c3-6192-4fae-bf05-85f095d86624"
        },
        "colab": {
          "base_uri": "https://localhost:8080/"
        },
        "id": "txYqf8rTN1dN",
        "outputId": "d8109220-9365-46e3-892a-ba46ef88b00b"
      },
      "outputs": [
        {
          "output_type": "execute_result",
          "data": {
            "text/plain": [
              "{'key1': 1,\n",
              " 'key2': '2',\n",
              " 'key3': [3, 3, 3],\n",
              " 'key4': (4, 4, 4),\n",
              " 'key5': 5,\n",
              " (0, 1): 6}"
            ]
          },
          "metadata": {},
          "execution_count": 1
        }
      ],
      "execution_count": null
    },
    {
      "cell_type": "markdown",
      "source": [
        "Las llaves pueden ser cadenas:"
      ],
      "metadata": {
        "application/vnd.databricks.v1+cell": {
          "title": "",
          "showTitle": false,
          "inputWidgets": {},
          "nuid": "1187475d-05b4-43b2-9014-f31f857a3847"
        },
        "id": "sZEvDVLsN1dP"
      }
    },
    {
      "cell_type": "code",
      "source": [
        "# Acceder a un valor mediante una llave\n",
        "\n",
        "Dict[\"key1\"]"
      ],
      "metadata": {
        "application/vnd.databricks.v1+cell": {
          "title": "",
          "showTitle": false,
          "inputWidgets": {},
          "nuid": "0252aeb9-ad5a-42fd-88dc-b9b8e4246056"
        },
        "colab": {
          "base_uri": "https://localhost:8080/"
        },
        "id": "Du3SU2_oN1dQ",
        "outputId": "e6704357-e1ee-4a22-b6d1-846548888d37"
      },
      "outputs": [
        {
          "output_type": "execute_result",
          "data": {
            "text/plain": [
              "1"
            ]
          },
          "metadata": {},
          "execution_count": 2
        }
      ],
      "execution_count": null
    },
    {
      "cell_type": "markdown",
      "source": [
        "Una llave puede ser cualquier tipo de objeto inmutable, pudiendo ser una tupla:"
      ],
      "metadata": {
        "application/vnd.databricks.v1+cell": {
          "title": "",
          "showTitle": false,
          "inputWidgets": {},
          "nuid": "6ad8c687-aef5-41c1-b1f9-7fd843b75511"
        },
        "id": "KN1UutPjN1dQ"
      }
    },
    {
      "cell_type": "code",
      "source": [
        "# Acceder a un valor mediante una llave\n",
        "\n",
        "Dict[(0, 1)]"
      ],
      "metadata": {
        "application/vnd.databricks.v1+cell": {
          "title": "",
          "showTitle": false,
          "inputWidgets": {},
          "nuid": "85f10128-d534-4eff-842b-3e66089b2e31"
        },
        "colab": {
          "base_uri": "https://localhost:8080/"
        },
        "id": "vqtstDcFN1dQ",
        "outputId": "2e6a044c-138a-4c98-b31e-1fb44b2b7cf9"
      },
      "outputs": [
        {
          "output_type": "execute_result",
          "data": {
            "text/plain": [
              "6"
            ]
          },
          "metadata": {},
          "execution_count": 3
        }
      ],
      "execution_count": null
    },
    {
      "cell_type": "markdown",
      "source": [
        "Cada llave esta separada de su respectivo valor mediante dos puntos \"<code>:</code>\". Las comas separan los elementos y todo el diccionario esta encerrado usando llaves. Un diccionario vacío se representa escribiendo solo dos llaves, de esta forma \"<code>{}</code>\"."
      ],
      "metadata": {
        "application/vnd.databricks.v1+cell": {
          "title": "",
          "showTitle": false,
          "inputWidgets": {},
          "nuid": "2b5738af-d031-444c-b9d2-58134d4e3432"
        },
        "id": "nD98hPOGN1dQ"
      }
    },
    {
      "cell_type": "code",
      "source": [
        "# Crear un ejemplo de diccionario\n",
        "\n",
        "release_year_dict = {\"Thriller\": \"1982\", \"Back in Black\": \"1980\", \\\n",
        "                    \"The Dark Side of the Moon\": \"1973\", \"The Bodyguard\": \"1992\", \\\n",
        "                    \"Bat Out of Hell\": \"1977\", \"Their Greatest Hits (1971-1975)\": \"1976\", \\\n",
        "                    \"Saturday Night Fever\": \"1977\", \"Rumours\": \"1977\"}\n",
        "release_year_dict"
      ],
      "metadata": {
        "application/vnd.databricks.v1+cell": {
          "title": "",
          "showTitle": false,
          "inputWidgets": {},
          "nuid": "85d281fa-253f-43ad-8eb3-d92278596a2a"
        },
        "colab": {
          "base_uri": "https://localhost:8080/"
        },
        "id": "W594AO-5N1dR",
        "outputId": "36742e63-a520-40f8-e413-6419b2560410"
      },
      "outputs": [
        {
          "output_type": "execute_result",
          "data": {
            "text/plain": [
              "{'Thriller': '1982',\n",
              " 'Back in Black': '1980',\n",
              " 'The Dark Side of the Moon': '1973',\n",
              " 'The Bodyguard': '1992',\n",
              " 'Bat Out of Hell': '1977',\n",
              " 'Their Greatest Hits (1971-1975)': '1976',\n",
              " 'Saturday Night Fever': '1977',\n",
              " 'Rumours': '1977'}"
            ]
          },
          "metadata": {},
          "execution_count": 4
        }
      ],
      "execution_count": null
    },
    {
      "cell_type": "markdown",
      "source": [
        "Resumiendo, al igual que una lista, un diccionario guarda una secuencia de elementos. Cada uno es representado por una llave y su valor correspondiente. Los diccionarios se crean mediante dos llaves y estas contendrán las llaves y valores separados por una coma. A cada llave solo puede corresponderle un valor, sin embargo, múltiples llaves pueden tener el mismo. Las llaves solo pueden ser cadenas, números o tuplas, pero los valores pueden ser de cualquier tipo."
      ],
      "metadata": {
        "application/vnd.databricks.v1+cell": {
          "title": "",
          "showTitle": false,
          "inputWidgets": {},
          "nuid": "243896a2-fc31-40b6-a287-76bcf21116e2"
        },
        "id": "ywrypeavN1dR"
      }
    },
    {
      "cell_type": "markdown",
      "source": [
        "Es de ayuda visualizar un diccionario como una tabla, como se muestra en la imagen. La primera columna representa las llaves, la segunda los valores."
      ],
      "metadata": {
        "application/vnd.databricks.v1+cell": {
          "title": "",
          "showTitle": false,
          "inputWidgets": {},
          "nuid": "5d7fb19d-2ec4-484c-a114-019c150ca777"
        },
        "id": "5_LHp3IWN1dR"
      }
    },
    {
      "cell_type": "markdown",
      "source": [
        "<img src=\"https://s3-api.us-geo.objectstorage.softlayer.net/cf-courses-data/CognitiveClass/PY0101EN/Chapter%202/Images/DictsStructure.png\" width=\"650\" />"
      ],
      "metadata": {
        "application/vnd.databricks.v1+cell": {
          "title": "",
          "showTitle": false,
          "inputWidgets": {},
          "nuid": "89d4d643-72f4-43d8-93da-9173702b23a5"
        },
        "id": "4By_XnsgN1dR"
      }
    },
    {
      "cell_type": "markdown",
      "source": [
        "<h3 id=\"key\">Llaves</h3>"
      ],
      "metadata": {
        "application/vnd.databricks.v1+cell": {
          "title": "",
          "showTitle": false,
          "inputWidgets": {},
          "nuid": "fe8f9f9c-7ab6-40d0-8f8d-105547850463"
        },
        "id": "RukOS0rgN1dR"
      }
    },
    {
      "cell_type": "markdown",
      "source": [
        "Los valores se pueden obtener mediante nombres:"
      ],
      "metadata": {
        "application/vnd.databricks.v1+cell": {
          "title": "",
          "showTitle": false,
          "inputWidgets": {},
          "nuid": "e766a7da-57fb-4795-a6d3-b42ec52b2de3"
        },
        "id": "5yd0xKtQN1dS"
      }
    },
    {
      "cell_type": "code",
      "source": [
        "# Obtener el valor de las llaves\n",
        "\n",
        "release_year_dict['Thriller']"
      ],
      "metadata": {
        "application/vnd.databricks.v1+cell": {
          "title": "",
          "showTitle": false,
          "inputWidgets": {},
          "nuid": "6f527e58-7393-4f44-8ef5-fedbe8a26037"
        },
        "colab": {
          "base_uri": "https://localhost:8080/",
          "height": 35
        },
        "id": "duO5ytAyN1dS",
        "outputId": "e339ce98-e9ce-4bdd-bcb3-08200555d2e1"
      },
      "outputs": [
        {
          "output_type": "execute_result",
          "data": {
            "text/plain": [
              "'1982'"
            ],
            "application/vnd.google.colaboratory.intrinsic+json": {
              "type": "string"
            }
          },
          "metadata": {},
          "execution_count": 5
        }
      ],
      "execution_count": null
    },
    {
      "cell_type": "markdown",
      "source": [
        "Esto corresponde a:"
      ],
      "metadata": {
        "application/vnd.databricks.v1+cell": {
          "title": "",
          "showTitle": false,
          "inputWidgets": {},
          "nuid": "2a09bdc1-2cd8-419e-88ae-6f47137f429e"
        },
        "id": "V60pM4qTN1dS"
      }
    },
    {
      "cell_type": "markdown",
      "source": [
        "<img src=\"https://s3-api.us-geo.objectstorage.softlayer.net/cf-courses-data/CognitiveClass/PY0101EN/Chapter%202/Images/DictsKeyOne.png\" width=\"500\" />"
      ],
      "metadata": {
        "application/vnd.databricks.v1+cell": {
          "title": "",
          "showTitle": false,
          "inputWidgets": {},
          "nuid": "9797f201-29ec-417a-8187-4e1410e60681"
        },
        "id": "9qDjhYOxN1dS"
      }
    },
    {
      "cell_type": "markdown",
      "source": [
        "De igual forma <b>The Bodyguard</b>"
      ],
      "metadata": {
        "application/vnd.databricks.v1+cell": {
          "title": "",
          "showTitle": false,
          "inputWidgets": {},
          "nuid": "7e886131-6584-45f9-a070-e74c1377c6a1"
        },
        "id": "DjAl-IJDN1dS"
      }
    },
    {
      "cell_type": "code",
      "source": [
        "# Obtener el valor mediante la llave\n",
        "\n",
        "release_year_dict['The Bodyguard']"
      ],
      "metadata": {
        "application/vnd.databricks.v1+cell": {
          "title": "",
          "showTitle": false,
          "inputWidgets": {},
          "nuid": "693125b7-2d1d-4b17-8968-ea4909c0aa76"
        },
        "colab": {
          "base_uri": "https://localhost:8080/",
          "height": 35
        },
        "id": "olvX_o3DN1dS",
        "outputId": "448c8dfa-fa99-4cbf-9476-49cf10734167"
      },
      "outputs": [
        {
          "output_type": "execute_result",
          "data": {
            "text/plain": [
              "'1992'"
            ],
            "application/vnd.google.colaboratory.intrinsic+json": {
              "type": "string"
            }
          },
          "metadata": {},
          "execution_count": 6
        }
      ],
      "execution_count": null
    },
    {
      "cell_type": "markdown",
      "source": [
        "<img src=\"https://s3-api.us-geo.objectstorage.softlayer.net/cf-courses-data/CognitiveClass/PY0101EN/Chapter%202/Images/DictsKeyTwo.png\" width=\"500\" />"
      ],
      "metadata": {
        "application/vnd.databricks.v1+cell": {
          "title": "",
          "showTitle": false,
          "inputWidgets": {},
          "nuid": "5bf88a04-75d6-40b5-b5ac-a91f08be6402"
        },
        "id": "otdG9pylN1dT"
      }
    },
    {
      "cell_type": "markdown",
      "source": [
        "Ahora vamos a recuperar las llaves del diccionario mediante el método <code>release_year_dict()</code>:"
      ],
      "metadata": {
        "application/vnd.databricks.v1+cell": {
          "title": "",
          "showTitle": false,
          "inputWidgets": {},
          "nuid": "cc434575-f8fa-4d3c-80b8-a3e6587562e9"
        },
        "id": "X9zFA3lqN1dT"
      }
    },
    {
      "cell_type": "code",
      "source": [
        "# Obtener todas las llaves del diccionario\n",
        "\n",
        "release_year_dict.keys()"
      ],
      "metadata": {
        "application/vnd.databricks.v1+cell": {
          "title": "",
          "showTitle": false,
          "inputWidgets": {},
          "nuid": "5cd4d636-6097-4864-abd2-ddc347d4f4b3"
        },
        "colab": {
          "base_uri": "https://localhost:8080/"
        },
        "id": "ROQBZOdsN1dT",
        "outputId": "0465a5c9-1198-4e13-a81c-a24ddcb0ddc2"
      },
      "outputs": [
        {
          "output_type": "execute_result",
          "data": {
            "text/plain": [
              "dict_keys(['Thriller', 'Back in Black', 'The Dark Side of the Moon', 'The Bodyguard', 'Bat Out of Hell', 'Their Greatest Hits (1971-1975)', 'Saturday Night Fever', 'Rumours'])"
            ]
          },
          "metadata": {},
          "execution_count": 7
        }
      ],
      "execution_count": null
    },
    {
      "cell_type": "markdown",
      "source": [
        "Se puede obtener los valores mediante el método <code>values()</code>:"
      ],
      "metadata": {
        "application/vnd.databricks.v1+cell": {
          "title": "",
          "showTitle": false,
          "inputWidgets": {},
          "nuid": "a8d38355-3b24-4ca8-bfd2-8396dc992f46"
        },
        "id": "K32tg2eHN1dT"
      }
    },
    {
      "cell_type": "code",
      "source": [
        "# Obtener todos los valores del diccionario\n",
        "\n",
        "release_year_dict.values()"
      ],
      "metadata": {
        "application/vnd.databricks.v1+cell": {
          "title": "",
          "showTitle": false,
          "inputWidgets": {},
          "nuid": "d9da60da-943c-4927-91be-bade067249de"
        },
        "colab": {
          "base_uri": "https://localhost:8080/"
        },
        "id": "cVPZLBeUN1dU",
        "outputId": "97fe0c86-d793-4aa3-becd-882dfa157c06"
      },
      "outputs": [
        {
          "output_type": "execute_result",
          "data": {
            "text/plain": [
              "dict_values(['1982', '1980', '1973', '1992', '1977', '1976', '1977', '1977'])"
            ]
          },
          "metadata": {},
          "execution_count": 8
        }
      ],
      "execution_count": null
    },
    {
      "cell_type": "markdown",
      "source": [
        "Podemos agregar una entrada:"
      ],
      "metadata": {
        "application/vnd.databricks.v1+cell": {
          "title": "",
          "showTitle": false,
          "inputWidgets": {},
          "nuid": "56ac7ab8-52ce-497b-8079-49cb717a2938"
        },
        "id": "lBOP32XFN1dU"
      }
    },
    {
      "cell_type": "code",
      "source": [
        "# Agregar un valor con su llave en el diccionario\n",
        "\n",
        "release_year_dict['Graduation'] = '2007'\n",
        "release_year_dict"
      ],
      "metadata": {
        "application/vnd.databricks.v1+cell": {
          "title": "",
          "showTitle": false,
          "inputWidgets": {},
          "nuid": "34df8115-0a96-45b0-bc2e-cfaa5d936ffd"
        },
        "colab": {
          "base_uri": "https://localhost:8080/"
        },
        "id": "Vt7HfKpTN1dU",
        "outputId": "ef1eb242-7161-48fb-e2b2-eb87478a0cb1"
      },
      "outputs": [
        {
          "output_type": "execute_result",
          "data": {
            "text/plain": [
              "{'Thriller': '1982',\n",
              " 'Back in Black': '1980',\n",
              " 'The Dark Side of the Moon': '1973',\n",
              " 'The Bodyguard': '1992',\n",
              " 'Bat Out of Hell': '1977',\n",
              " 'Their Greatest Hits (1971-1975)': '1976',\n",
              " 'Saturday Night Fever': '1977',\n",
              " 'Rumours': '1977',\n",
              " 'Graduation': '2007'}"
            ]
          },
          "metadata": {},
          "execution_count": 9
        }
      ],
      "execution_count": null
    },
    {
      "cell_type": "markdown",
      "source": [
        "Tambien podemos borrar entradas:"
      ],
      "metadata": {
        "application/vnd.databricks.v1+cell": {
          "title": "",
          "showTitle": false,
          "inputWidgets": {},
          "nuid": "e3402c34-f8af-4a7f-a6e1-edf226849f1d"
        },
        "id": "ji7cXvJaN1dV"
      }
    },
    {
      "cell_type": "code",
      "source": [
        "# Borrar entradas mediante la llave\n",
        "\n",
        "del(release_year_dict['Thriller'])\n",
        "del(release_year_dict['Graduation'])\n",
        "release_year_dict"
      ],
      "metadata": {
        "application/vnd.databricks.v1+cell": {
          "title": "",
          "showTitle": false,
          "inputWidgets": {},
          "nuid": "6ba464e7-caff-4c9a-bc2d-b8312d7f9570"
        },
        "colab": {
          "base_uri": "https://localhost:8080/"
        },
        "id": "PHAcjqLKN1dV",
        "outputId": "a7aac94b-60ee-42b2-d59a-5a759b0a78a6"
      },
      "outputs": [
        {
          "output_type": "execute_result",
          "data": {
            "text/plain": [
              "{'Back in Black': '1980',\n",
              " 'The Dark Side of the Moon': '1973',\n",
              " 'The Bodyguard': '1992',\n",
              " 'Bat Out of Hell': '1977',\n",
              " 'Their Greatest Hits (1971-1975)': '1976',\n",
              " 'Saturday Night Fever': '1977',\n",
              " 'Rumours': '1977'}"
            ]
          },
          "metadata": {},
          "execution_count": 10
        }
      ],
      "execution_count": null
    },
    {
      "cell_type": "markdown",
      "source": [
        "Podemos verificar si existe un elemento en el diccionario:"
      ],
      "metadata": {
        "application/vnd.databricks.v1+cell": {
          "title": "",
          "showTitle": false,
          "inputWidgets": {},
          "nuid": "1306a96d-a6e4-48da-b125-499de7e3c68e"
        },
        "id": "epU5E48eN1dV"
      }
    },
    {
      "cell_type": "code",
      "source": [
        "# Verificar si existe la llave en el diccionario\n",
        "\n",
        "'The Bodyguard' in release_year_dict"
      ],
      "metadata": {
        "application/vnd.databricks.v1+cell": {
          "title": "",
          "showTitle": false,
          "inputWidgets": {},
          "nuid": "4bdb460d-ffdb-4954-9b9f-8539414bc505"
        },
        "colab": {
          "base_uri": "https://localhost:8080/"
        },
        "id": "sN7ACxXGN1dV",
        "outputId": "78f9c8b7-8422-4684-dd17-fec148169d35"
      },
      "outputs": [
        {
          "output_type": "execute_result",
          "data": {
            "text/plain": [
              "True"
            ]
          },
          "metadata": {},
          "execution_count": 11
        }
      ],
      "execution_count": null
    },
    {
      "cell_type": "markdown",
      "source": [
        "<h2 id=\"quiz\">Cuestionario sobre Diccionarios</h2>"
      ],
      "metadata": {
        "application/vnd.databricks.v1+cell": {
          "title": "",
          "showTitle": false,
          "inputWidgets": {},
          "nuid": "0098716f-2f97-477a-af21-5cefd29b1f56"
        },
        "id": "InnjoEH4N1dV"
      }
    },
    {
      "cell_type": "markdown",
      "source": [
        "<b>Necesitarás este diccionario para las siguientes dos preguntas:</b>"
      ],
      "metadata": {
        "application/vnd.databricks.v1+cell": {
          "title": "",
          "showTitle": false,
          "inputWidgets": {},
          "nuid": "2f0c5b32-ce02-4963-ba6d-c43ce95feb45"
        },
        "id": "FWr2BfV7N1dV"
      }
    },
    {
      "cell_type": "code",
      "source": [
        "# Pregunta - Diccionario de ejemplo\n",
        "\n",
        "soundtrack_dic = {\"The Bodyguard\":\"1992\", \"Saturday Night Fever\":\"1977\"}\n",
        "soundtrack_dic"
      ],
      "metadata": {
        "application/vnd.databricks.v1+cell": {
          "title": "",
          "showTitle": false,
          "inputWidgets": {},
          "nuid": "7f3c4221-f50e-4854-a57c-671747557f93"
        },
        "colab": {
          "base_uri": "https://localhost:8080/"
        },
        "id": "IMuMeQ92N1de",
        "outputId": "1c2a2b53-ff03-41c3-c16e-4bbcf8493208"
      },
      "outputs": [
        {
          "output_type": "execute_result",
          "data": {
            "text/plain": [
              "{'The Bodyguard': '1992', 'Saturday Night Fever': '1977'}"
            ]
          },
          "metadata": {},
          "execution_count": 12
        }
      ],
      "execution_count": null
    },
    {
      "cell_type": "markdown",
      "source": [
        "a) En el diccionario <code>soundtrack_dict</code>. ¿Cuáles son las llaves?"
      ],
      "metadata": {
        "application/vnd.databricks.v1+cell": {
          "title": "",
          "showTitle": false,
          "inputWidgets": {},
          "nuid": "221d2aad-a7e8-4b95-988d-86669961318f"
        },
        "id": "agxpnFEHN1de"
      }
    },
    {
      "cell_type": "code",
      "source": [
        "# Escribe abajo tu código y presiona Shift+Enter para ejecutarlo\n",
        "\n",
        "#Usamos el método keys() para recuperar las llaves de nuestro diccionario así:\n",
        "soundtrack_dic.keys()"
      ],
      "metadata": {
        "application/vnd.databricks.v1+cell": {
          "title": "",
          "showTitle": false,
          "inputWidgets": {},
          "nuid": "bee1d6f8-5933-4079-81c6-ac56fa5e02f7"
        },
        "colab": {
          "base_uri": "https://localhost:8080/"
        },
        "id": "1FJiouZTN1df",
        "outputId": "06d1c149-b4da-4b97-ee0f-2673e837030a"
      },
      "outputs": [
        {
          "output_type": "execute_result",
          "data": {
            "text/plain": [
              "dict_keys(['The Bodyguard', 'Saturday Night Fever'])"
            ]
          },
          "metadata": {},
          "execution_count": 13
        }
      ],
      "execution_count": null
    },
    {
      "cell_type": "markdown",
      "source": [
        "Haz doble click __aquí__ para ver la solución.\n",
        "\n",
        "<!-- Your answer is below:\n",
        "soundtrack_dic.keys() # The Keys \"The Bodyguard\" and \"Saturday Night Fever\"\n",
        "-->"
      ],
      "metadata": {
        "application/vnd.databricks.v1+cell": {
          "title": "",
          "showTitle": false,
          "inputWidgets": {},
          "nuid": "33f42d63-b0cc-48cc-9e17-e34c54102b40"
        },
        "id": "80dmyNotN1df"
      }
    },
    {
      "cell_type": "markdown",
      "source": [
        "b) En el diccionario <code>soundtrack_dict</code>. ¿Cuáles son los valores?"
      ],
      "metadata": {
        "application/vnd.databricks.v1+cell": {
          "title": "",
          "showTitle": false,
          "inputWidgets": {},
          "nuid": "e277c4fd-98c0-4582-b8bc-5788994309a9"
        },
        "id": "7jcl_yJHN1df"
      }
    },
    {
      "cell_type": "code",
      "source": [
        "# Escribe abajo tu código y presiona Shift+Enter para ejecutarlo\n",
        "\n",
        "#Usamos el método values() para recuperar los valores de nuestro diccionario así:\n",
        "soundtrack_dic.values()"
      ],
      "metadata": {
        "application/vnd.databricks.v1+cell": {
          "title": "",
          "showTitle": false,
          "inputWidgets": {},
          "nuid": "3ddfe078-6bbe-4c03-b823-2752fa3ad5c6"
        },
        "colab": {
          "base_uri": "https://localhost:8080/"
        },
        "id": "r-VQksxJN1df",
        "outputId": "34a6baa0-e0a4-4e22-8361-fd95432abe32"
      },
      "outputs": [
        {
          "output_type": "execute_result",
          "data": {
            "text/plain": [
              "dict_values(['1992', '1977'])"
            ]
          },
          "metadata": {},
          "execution_count": 14
        }
      ],
      "execution_count": null
    },
    {
      "cell_type": "markdown",
      "source": [
        "Haz doble click __aquí__ para ver la solución.\n",
        "\n",
        "<!-- Your answer is below:\n",
        "soundtrack_dic.values() # The values are \"1992\" and \"1977\"\n",
        "-->"
      ],
      "metadata": {
        "application/vnd.databricks.v1+cell": {
          "title": "",
          "showTitle": false,
          "inputWidgets": {},
          "nuid": "04091e72-252e-45af-8c17-a2d07af58ab7"
        },
        "id": "305MyVFhN1df"
      }
    },
    {
      "cell_type": "markdown",
      "source": [
        "<b>Necesitarás este diccionario para las siguientes preguntas:</b>"
      ],
      "metadata": {
        "application/vnd.databricks.v1+cell": {
          "title": "",
          "showTitle": false,
          "inputWidgets": {},
          "nuid": "d0517809-da4a-4990-8fc0-7c1b166b6527"
        },
        "id": "gnLWYmXmN1df"
      }
    },
    {
      "cell_type": "markdown",
      "source": [
        "Los discos <b>Back in Black</b>, <b>The Bodyguard</b> y <b>Thriller</b> poseen el siguiente record de ventas en millones, 50, 50 y 65 respectivamente:"
      ],
      "metadata": {
        "application/vnd.databricks.v1+cell": {
          "title": "",
          "showTitle": false,
          "inputWidgets": {},
          "nuid": "1cd9afbb-9c22-46e8-a6e4-241e77dfeff9"
        },
        "id": "dGvxE6DXN1dg"
      }
    },
    {
      "cell_type": "markdown",
      "source": [
        "a) Crea un diccionario <code>album_sales_dict</code> donde las llaves sean el nombre del disco y los valores la cantidad de ventas en millones."
      ],
      "metadata": {
        "application/vnd.databricks.v1+cell": {
          "title": "",
          "showTitle": false,
          "inputWidgets": {},
          "nuid": "b87e1dec-be77-4ae4-adb2-fcdfa4b952c3"
        },
        "id": "JOTqdCueN1dg"
      }
    },
    {
      "cell_type": "code",
      "source": [
        "# Escribe abajo tu código y presiona Shift+Enter para ejecutarlo\n",
        "\n",
        "album_sales_dict = {\"The Bodyguard\":50, \"Back in Black\":50, \"Thriller\":65}\n",
        "album_sales_dict"
      ],
      "metadata": {
        "collapsed": true,
        "application/vnd.databricks.v1+cell": {
          "title": "",
          "showTitle": false,
          "inputWidgets": {},
          "nuid": "4e53f4f3-b253-4267-b7d7-a5935789ddfe"
        },
        "colab": {
          "base_uri": "https://localhost:8080/"
        },
        "id": "fLWWmXXfN1dg",
        "outputId": "c757a1c2-9dd0-4b31-b929-e284a5b0710d"
      },
      "outputs": [
        {
          "output_type": "execute_result",
          "data": {
            "text/plain": [
              "{'The Bodyguard': 50, 'Back in Black': 50, 'Thriller': 65}"
            ]
          },
          "metadata": {},
          "execution_count": 15
        }
      ],
      "execution_count": null
    },
    {
      "cell_type": "markdown",
      "source": [
        "Haz doble click __aquí__ para ver la solución.\n",
        "\n",
        "<!-- Your answer is below:\n",
        "album_sales_dict = {\"The Bodyguard\":50, \"Back in Black\":50, \"Thriller\":65}\n",
        "-->"
      ],
      "metadata": {
        "application/vnd.databricks.v1+cell": {
          "title": "",
          "showTitle": false,
          "inputWidgets": {},
          "nuid": "7040d8fa-6038-4404-be3f-3670a77f34c3"
        },
        "id": "EjEje7_DN1dh"
      }
    },
    {
      "cell_type": "markdown",
      "source": [
        "b) Usa el diccionario para encontrar las ventas totales de <b>Thriller</b>:"
      ],
      "metadata": {
        "application/vnd.databricks.v1+cell": {
          "title": "",
          "showTitle": false,
          "inputWidgets": {},
          "nuid": "a92ec325-9a51-4e7e-b91d-731d5bf8599d"
        },
        "id": "lCwzgsyHN1dh"
      }
    },
    {
      "cell_type": "code",
      "source": [
        "# Escribe abajo tu código y presiona Shift+Enter para ejecutarlo\n",
        "\n",
        "album_sales_dict[\"Thriller\"]"
      ],
      "metadata": {
        "application/vnd.databricks.v1+cell": {
          "title": "",
          "showTitle": false,
          "inputWidgets": {},
          "nuid": "5ee6e52a-feff-44ae-9c56-16b9580e08c8"
        },
        "colab": {
          "base_uri": "https://localhost:8080/"
        },
        "id": "ThTCt5YVN1dh",
        "outputId": "40d6f5f7-a655-4841-b797-20ac4e06df12"
      },
      "outputs": [
        {
          "output_type": "execute_result",
          "data": {
            "text/plain": [
              "65"
            ]
          },
          "metadata": {},
          "execution_count": 16
        }
      ],
      "execution_count": null
    },
    {
      "cell_type": "markdown",
      "source": [
        "Double-click __here__ for the solution.\n",
        "\n",
        "<!-- Your answer is below:\n",
        "album_sales_dict[\"Thriller\"]\n",
        "-->"
      ],
      "metadata": {
        "application/vnd.databricks.v1+cell": {
          "title": "",
          "showTitle": false,
          "inputWidgets": {},
          "nuid": "fe6ea2eb-8052-4164-98f3-0747adbbf250"
        },
        "id": "wjK1GMhsN1dh"
      }
    },
    {
      "cell_type": "markdown",
      "source": [
        "c) Encuentra los nombres de los discos dentro del diccionario mediante el método <code>keys</code>:"
      ],
      "metadata": {
        "application/vnd.databricks.v1+cell": {
          "title": "",
          "showTitle": false,
          "inputWidgets": {},
          "nuid": "b2ad71a4-f523-4322-bd4a-3d8216c84574"
        },
        "id": "ChcQs1pON1dh"
      }
    },
    {
      "cell_type": "code",
      "source": [
        "# Escribe abajo tu código y presiona Shift+Enter para ejecutarlo\n",
        "\n",
        "#Ya que los nombres de los discos son las llaves, usamos el método keys() así:\n",
        "album_sales_dict.keys()"
      ],
      "metadata": {
        "application/vnd.databricks.v1+cell": {
          "title": "",
          "showTitle": false,
          "inputWidgets": {},
          "nuid": "f6de55cb-c76f-4510-92ad-002dce6e9507"
        },
        "colab": {
          "base_uri": "https://localhost:8080/"
        },
        "id": "QSKilyTHN1dh",
        "outputId": "944a4a01-5e7e-4939-deeb-9b5e9121f2ad"
      },
      "outputs": [
        {
          "output_type": "execute_result",
          "data": {
            "text/plain": [
              "dict_keys(['The Bodyguard', 'Back in Black', 'Thriller'])"
            ]
          },
          "metadata": {},
          "execution_count": 17
        }
      ],
      "execution_count": null
    },
    {
      "cell_type": "markdown",
      "source": [
        "Haz doble click __aquí__ para ver la solución.\n",
        "\n",
        "<!-- Your answer is below:\n",
        "album_sales_dict.keys()\n",
        "-->"
      ],
      "metadata": {
        "application/vnd.databricks.v1+cell": {
          "title": "",
          "showTitle": false,
          "inputWidgets": {},
          "nuid": "fd499932-f8ee-465a-8b7f-dc32a8744996"
        },
        "id": "rxJ2c0itN1di"
      }
    },
    {
      "cell_type": "markdown",
      "source": [
        "d) Encuentra los records de ventas dentro del diccionario mediante el método <code>values</code>:"
      ],
      "metadata": {
        "application/vnd.databricks.v1+cell": {
          "title": "",
          "showTitle": false,
          "inputWidgets": {},
          "nuid": "7666a119-1de4-4499-a376-84860b717e13"
        },
        "id": "sZbTrkeIN1di"
      }
    },
    {
      "cell_type": "code",
      "source": [
        "# Escribe abajo tu código y presiona Shift+Enter para ejecutarlo\n",
        "\n",
        "#Ya que los records en ventas son los valores del diccionario, usamos el método values() así:\n",
        "album_sales_dict.values()"
      ],
      "metadata": {
        "application/vnd.databricks.v1+cell": {
          "title": "",
          "showTitle": false,
          "inputWidgets": {},
          "nuid": "8f112397-8882-46cc-b310-d8ff50f6e2d0"
        },
        "colab": {
          "base_uri": "https://localhost:8080/"
        },
        "id": "_igP05yzN1di",
        "outputId": "88a61edd-73c3-4fb8-f595-d2429c8b5a3e"
      },
      "outputs": [
        {
          "output_type": "execute_result",
          "data": {
            "text/plain": [
              "dict_values([50, 50, 65])"
            ]
          },
          "metadata": {},
          "execution_count": 19
        }
      ],
      "execution_count": null
    },
    {
      "cell_type": "markdown",
      "source": [
        "Haz doble click __aquí__ para ver la solución.\n",
        "\n",
        "<!-- Your answer is below:\n",
        "album_sales_dict.values()\n",
        "-->"
      ],
      "metadata": {
        "application/vnd.databricks.v1+cell": {
          "title": "",
          "showTitle": false,
          "inputWidgets": {},
          "nuid": "c5919007-466b-4f55-afb2-0d0af2c8f639"
        },
        "id": "g90sSgCXN1di"
      }
    }
  ],
  "metadata": {
    "kernelspec": {
      "display_name": "Python 3",
      "language": "python",
      "name": "python3"
    },
    "language_info": {
      "mimetype": "text/x-python",
      "name": "python",
      "pygments_lexer": "ipython3",
      "codemirror_mode": {
        "name": "ipython",
        "version": 3
      },
      "version": "3.7.7",
      "nbconvert_exporter": "python",
      "file_extension": ".py"
    },
    "application/vnd.databricks.v1+notebook": {
      "notebookName": "05-Python-Diccionarios",
      "dashboards": [],
      "notebookMetadata": {
        "pythonIndentUnit": 2
      },
      "language": "python",
      "widgets": {},
      "notebookOrigID": 3296315911138096
    },
    "colab": {
      "provenance": []
    }
  },
  "nbformat": 4,
  "nbformat_minor": 0
}