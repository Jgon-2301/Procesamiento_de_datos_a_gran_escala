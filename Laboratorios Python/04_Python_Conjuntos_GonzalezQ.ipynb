{
  "cells": [
    {
      "cell_type": "markdown",
      "metadata": {
        "application/vnd.databricks.v1+cell": {
          "inputWidgets": {},
          "nuid": "65c3d562-8f12-4b16-b6f3-cb3ff1bdcde4",
          "showTitle": false,
          "title": ""
        },
        "id": "ZK96XJxyJUBq"
      },
      "source": [
        "<h1>Procesamiento de Datos a Gran Escala</h1>"
      ]
    },
    {
      "cell_type": "markdown",
      "metadata": {
        "id": "Af7engLgmRgg"
      },
      "source": [
        "![escudoPUJ-Bogota_rgb-azul_lateral.png](data:image/png;base64,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)\n",
        "\n",
        "**Autor:** Juan Felipe González Quintero\n",
        "\n",
        "**Fecha de modificación:** 11 -08 - 2025\n",
        "**ID:** 00020495394\n",
        "\n",
        "##**Resumen**\n",
        "\n",
        "En este cuaderno encontrará la solución a una guía de programación en el lenguaje python en el cuál se hace especial énfasis en el tema de conjuntos, sus usos y las diferentes funciones que pueden facilitar su manipulación.\n",
        "\n",
        "##**Objetivo**\n",
        "\n",
        "Aprender y poner en práctica los conocimientos básicos sobre conjuntos en python por medio de una guía interactiva con una pequeña evaluación al final."
      ]
    },
    {
      "cell_type": "markdown",
      "metadata": {
        "application/vnd.databricks.v1+cell": {
          "inputWidgets": {},
          "nuid": "4182cfaa-6acc-4585-a8ae-901617e5c908",
          "showTitle": false,
          "title": ""
        },
        "id": "QyJ5UavOJUBs"
      },
      "source": [
        "<h2>Conjuntos en Python</h2>"
      ]
    },
    {
      "cell_type": "markdown",
      "metadata": {
        "application/vnd.databricks.v1+cell": {
          "inputWidgets": {},
          "nuid": "da70c336-dee2-4ba5-9f4a-35b4ea98fe2c",
          "showTitle": false,
          "title": ""
        },
        "id": "TXNpHH-hJUBt"
      },
      "source": [
        "<p><strong>¡Bienvenido!</strong> En este cuaderno aprenderás acerca del uso de conjuntos con el Lenguaje de Programación Python. Al final del laboratorio, sabrás lo básico sobre operaciones con conjuntos, adema de qué son, y las operaciones lógicas que puedes hacer con ellos.</p>"
      ]
    },
    {
      "cell_type": "markdown",
      "metadata": {
        "application/vnd.databricks.v1+cell": {
          "inputWidgets": {},
          "nuid": "0e159791-cf95-4e09-a881-de7f5f09c12c",
          "showTitle": false,
          "title": ""
        },
        "id": "vXhAR2PGJUBt"
      },
      "source": [
        "<h2>Tabla de Contenido</h2>\n",
        "<div class=\"alert alert-block alert-info\" style=\"margin-top: 20px\">\n",
        "    <ul>\n",
        "        <li>\n",
        "            <a href=\"#set\">Conjuntos</a>\n",
        "            <ul>\n",
        "                <li><a href=\"content\">Contenido de un Conjunto</a></li>\n",
        "                <li><a href=\"op\">Operaciones con Conjuntos</a></li>\n",
        "                <li><a href=\"logic\">Operacion Lógicas con Conjuntos</a></li>\n",
        "            </ul>\n",
        "        </li>\n",
        "        <li>\n",
        "            <a href=\"#quiz\">Cuestionario sobre conjuntos</a>\n",
        "        </li>\n",
        "    </ul>\n",
        "    <p>\n",
        "        Tiempo Estimado: <strong>20 min</strong>\n",
        "    </p>\n",
        "</div>\n",
        "\n",
        "<hr>"
      ]
    },
    {
      "cell_type": "markdown",
      "metadata": {
        "application/vnd.databricks.v1+cell": {
          "inputWidgets": {},
          "nuid": "d31d7190-d92b-4fb3-b1aa-46f07e6fddac",
          "showTitle": false,
          "title": ""
        },
        "id": "5yEXENJQJUBu"
      },
      "source": [
        "<h2 id=\"set\">Conjuntos</h2>"
      ]
    },
    {
      "cell_type": "markdown",
      "metadata": {
        "application/vnd.databricks.v1+cell": {
          "inputWidgets": {},
          "nuid": "5f3c8d3b-651d-429e-ae54-69d566048296",
          "showTitle": false,
          "title": ""
        },
        "id": "MdZHSNMDJUBu"
      },
      "source": [
        "<h3 id=\"content\">Contenido de un Conjunto</h3>"
      ]
    },
    {
      "cell_type": "markdown",
      "metadata": {
        "application/vnd.databricks.v1+cell": {
          "inputWidgets": {},
          "nuid": "ee569271-f4ad-4326-bd54-f859b3808514",
          "showTitle": false,
          "title": ""
        },
        "id": "kYcb3x_wJUBu"
      },
      "source": [
        "Un conjunto es una colección de objetos únicos en Python. Un conjunto se define usando llaves de apertura y cierre <b>{}</b>. Python removerá automáticamente elementos duplicados."
      ]
    },
    {
      "cell_type": "code",
      "execution_count": null,
      "metadata": {
        "application/vnd.databricks.v1+cell": {
          "inputWidgets": {},
          "nuid": "eed936cb-a07f-430a-8a62-efc6a522001c",
          "showTitle": false,
          "title": ""
        },
        "colab": {
          "base_uri": "https://localhost:8080/"
        },
        "id": "D886PheCJUBv",
        "outputId": "b8112ea3-6e6c-4b75-c735-0ada62611730"
      },
      "outputs": [
        {
          "data": {
            "text/plain": [
              "{'R&B', 'disco', 'hard rock', 'pop', 'rock', 'soul'}"
            ]
          },
          "execution_count": 1,
          "metadata": {},
          "output_type": "execute_result"
        }
      ],
      "source": [
        "# Crear un conjunto\n",
        "\n",
        "set1 = {\"pop\", \"rock\", \"soul\", \"hard rock\", \"rock\", \"R&B\", \"rock\", \"disco\"}\n",
        "set1"
      ]
    },
    {
      "cell_type": "markdown",
      "metadata": {
        "application/vnd.databricks.v1+cell": {
          "inputWidgets": {},
          "nuid": "d63cd755-204f-4266-8279-924ead0cead9",
          "showTitle": false,
          "title": ""
        },
        "id": "ySkhuWV4JUBw"
      },
      "source": [
        "El proceso de mapeado se muestra en la siguiente figura:"
      ]
    },
    {
      "cell_type": "markdown",
      "metadata": {
        "application/vnd.databricks.v1+cell": {
          "inputWidgets": {},
          "nuid": "8f17cf2e-5206-4372-ae1c-947bbda18b19",
          "showTitle": false,
          "title": ""
        },
        "id": "rUDU4tEaJUBw"
      },
      "source": [
        "<img src=\"https://s3-api.us-geo.objectstorage.softlayer.net/cf-courses-data/CognitiveClass/PY0101EN/Chapter%202/Images/SetsUnique.png\" width=\"1100\" />"
      ]
    },
    {
      "cell_type": "markdown",
      "metadata": {
        "application/vnd.databricks.v1+cell": {
          "inputWidgets": {},
          "nuid": "1c7b5d30-5ec1-46d7-910b-11c0eeea2166",
          "showTitle": false,
          "title": ""
        },
        "id": "APok5ddtJUBw"
      },
      "source": [
        "También se puede crear un conjunto a partir de una lista:"
      ]
    },
    {
      "cell_type": "code",
      "execution_count": null,
      "metadata": {
        "application/vnd.databricks.v1+cell": {
          "inputWidgets": {},
          "nuid": "b50e128e-0bee-4451-9edd-910e50381125",
          "showTitle": false,
          "title": ""
        },
        "colab": {
          "base_uri": "https://localhost:8080/"
        },
        "id": "cARecpU8JUBx",
        "outputId": "f81983bd-b6cb-43d7-99a3-1cc206496cd5",
        "scrolled": true
      },
      "outputs": [
        {
          "data": {
            "text/plain": [
              "{'00:42:19',\n",
              " 10.0,\n",
              " 1982,\n",
              " '30-Nov-82',\n",
              " 46.0,\n",
              " 65,\n",
              " 'Michael Jackson',\n",
              " None,\n",
              " 'Pop, Rock, R&B',\n",
              " 'Thriller'}"
            ]
          },
          "execution_count": 2,
          "metadata": {},
          "output_type": "execute_result"
        }
      ],
      "source": [
        "# Convertir una lista en un conjunto\n",
        "\n",
        "album_list = [ \"Michael Jackson\", \"Thriller\", 1982, \"00:42:19\", \\\n",
        "              \"Pop, Rock, R&B\", 46.0, 65, \"30-Nov-82\", None, 10.0]\n",
        "album_set = set(album_list)\n",
        "album_set"
      ]
    },
    {
      "cell_type": "markdown",
      "metadata": {
        "application/vnd.databricks.v1+cell": {
          "inputWidgets": {},
          "nuid": "d348404e-048e-492c-90e6-8c4d0b5c45b5",
          "showTitle": false,
          "title": ""
        },
        "id": "7UeSms-TJUBx"
      },
      "source": [
        "Vamos a crear un conjunto de géneros musicales:"
      ]
    },
    {
      "cell_type": "code",
      "execution_count": null,
      "metadata": {
        "application/vnd.databricks.v1+cell": {
          "inputWidgets": {},
          "nuid": "740f8ead-03ee-4bdb-8395-9c4e9b1cd181",
          "showTitle": false,
          "title": ""
        },
        "colab": {
          "base_uri": "https://localhost:8080/"
        },
        "id": "lDVdqbNcJUBx",
        "outputId": "683c20d3-8f46-4bb1-d5ea-4218379519d4"
      },
      "outputs": [
        {
          "data": {
            "text/plain": [
              "{'R&B',\n",
              " 'disco',\n",
              " 'folk rock',\n",
              " 'hard rock',\n",
              " 'pop',\n",
              " 'progressive rock',\n",
              " 'rock',\n",
              " 'soft rock',\n",
              " 'soul'}"
            ]
          },
          "execution_count": 3,
          "metadata": {},
          "output_type": "execute_result"
        }
      ],
      "source": [
        "# Convertir una lista en un conjunto\n",
        "\n",
        "music_genres = set([\"pop\", \"pop\", \"rock\", \"folk rock\", \"hard rock\", \"soul\", \\\n",
        "                    \"progressive rock\", \"soft rock\", \"R&B\", \"disco\"])\n",
        "music_genres"
      ]
    },
    {
      "cell_type": "markdown",
      "metadata": {
        "application/vnd.databricks.v1+cell": {
          "inputWidgets": {},
          "nuid": "e3effa51-8b0b-464a-8395-76d29ceacc7d",
          "showTitle": false,
          "title": ""
        },
        "id": "oFiGJ79lJUBx"
      },
      "source": [
        "<h3 id=\"op\">Operaciones con Conjuntos</h3>"
      ]
    },
    {
      "cell_type": "markdown",
      "metadata": {
        "application/vnd.databricks.v1+cell": {
          "inputWidgets": {},
          "nuid": "83497af3-8c18-4cf1-811a-4be29d6e122c",
          "showTitle": false,
          "title": ""
        },
        "id": "O7Vj0rgdJUBy"
      },
      "source": [
        "Vamos a revisar las operaciones con conjuntos que nos ayudaran a modificarlo. Considera el conjunto <b>A</b>:"
      ]
    },
    {
      "cell_type": "code",
      "execution_count": null,
      "metadata": {
        "application/vnd.databricks.v1+cell": {
          "inputWidgets": {},
          "nuid": "fd311c8e-a689-4f52-a20e-95fee3e4fede",
          "showTitle": false,
          "title": ""
        },
        "colab": {
          "base_uri": "https://localhost:8080/"
        },
        "id": "TYTGkJH8JUBy",
        "outputId": "68c15650-7cd6-48a5-aab3-452c081e71db"
      },
      "outputs": [
        {
          "data": {
            "text/plain": [
              "{'AC/DC', 'Back in Black', 'Thriller'}"
            ]
          },
          "execution_count": 4,
          "metadata": {},
          "output_type": "execute_result"
        }
      ],
      "source": [
        "# Conjunto de ejemplo\n",
        "\n",
        "A = set([\"Thriller\", \"Back in Black\", \"AC/DC\"])\n",
        "A"
      ]
    },
    {
      "cell_type": "markdown",
      "metadata": {
        "application/vnd.databricks.v1+cell": {
          "inputWidgets": {},
          "nuid": "3c99d89f-0876-4608-b2e1-5a84b2ec95ab",
          "showTitle": false,
          "title": ""
        },
        "id": "WMXALvVAJUBy"
      },
      "source": [
        "Podemos agregar un elemento al conjunto mediante el método <code>add()</code>:"
      ]
    },
    {
      "cell_type": "code",
      "execution_count": null,
      "metadata": {
        "application/vnd.databricks.v1+cell": {
          "inputWidgets": {},
          "nuid": "2bbfa359-b24d-497e-9048-e46d695684c8",
          "showTitle": false,
          "title": ""
        },
        "colab": {
          "base_uri": "https://localhost:8080/"
        },
        "id": "SrBrQi3OJUBy",
        "outputId": "12344d12-136e-40a7-b52e-7322885b06a7"
      },
      "outputs": [
        {
          "data": {
            "text/plain": [
              "{'AC/DC', 'Back in Black', 'NSYNC', 'Thriller'}"
            ]
          },
          "execution_count": 5,
          "metadata": {},
          "output_type": "execute_result"
        }
      ],
      "source": [
        "# Agregar un elemento al conjunto\n",
        "\n",
        "A.add(\"NSYNC\")\n",
        "A"
      ]
    },
    {
      "cell_type": "markdown",
      "metadata": {
        "application/vnd.databricks.v1+cell": {
          "inputWidgets": {},
          "nuid": "d71d14f2-528e-42ad-8d96-0480adb07e02",
          "showTitle": false,
          "title": ""
        },
        "id": "EZgUOmSCJUBy"
      },
      "source": [
        "Si agregamos el mismo elemento dos veces nada cambiara debido a que no puede haber elemento duplicados en un conjunto:"
      ]
    },
    {
      "cell_type": "code",
      "execution_count": null,
      "metadata": {
        "application/vnd.databricks.v1+cell": {
          "inputWidgets": {},
          "nuid": "8d5a9b89-3c15-4385-9b4b-57a735bc3267",
          "showTitle": false,
          "title": ""
        },
        "colab": {
          "base_uri": "https://localhost:8080/"
        },
        "id": "6w3CCc4cJUBz",
        "outputId": "655245f8-e8ee-46b7-8f51-32afe358ec2c"
      },
      "outputs": [
        {
          "data": {
            "text/plain": [
              "{'AC/DC', 'Back in Black', 'NSYNC', 'Thriller'}"
            ]
          },
          "execution_count": 6,
          "metadata": {},
          "output_type": "execute_result"
        }
      ],
      "source": [
        "# Trata de agregar un elemento duplicado al conjunto\n",
        "\n",
        "A.add(\"NSYNC\")\n",
        "A"
      ]
    },
    {
      "cell_type": "markdown",
      "metadata": {
        "application/vnd.databricks.v1+cell": {
          "inputWidgets": {},
          "nuid": "ab18cd1d-6368-402f-82ba-d129b581d94c",
          "showTitle": false,
          "title": ""
        },
        "id": "nXPX7JsgJUBz"
      },
      "source": [
        "Podemos borrar un elemento del conjunto mediante el método <code>remove</code>:"
      ]
    },
    {
      "cell_type": "code",
      "execution_count": null,
      "metadata": {
        "application/vnd.databricks.v1+cell": {
          "inputWidgets": {},
          "nuid": "e2894814-1d63-4d01-b9f0-d27873e386f1",
          "showTitle": false,
          "title": ""
        },
        "colab": {
          "base_uri": "https://localhost:8080/"
        },
        "id": "-fc1go0OJUBz",
        "outputId": "75493ae0-ab78-4087-cca4-d9b7578d508a"
      },
      "outputs": [
        {
          "data": {
            "text/plain": [
              "{'AC/DC', 'Back in Black', 'Thriller'}"
            ]
          },
          "execution_count": 7,
          "metadata": {},
          "output_type": "execute_result"
        }
      ],
      "source": [
        "# Remover un elemento del conjunto\n",
        "\n",
        "A.remove(\"NSYNC\")\n",
        "A"
      ]
    },
    {
      "cell_type": "markdown",
      "metadata": {
        "application/vnd.databricks.v1+cell": {
          "inputWidgets": {},
          "nuid": "adb18837-3bea-48dc-96b0-ffd51e873a61",
          "showTitle": false,
          "title": ""
        },
        "id": "Z5BwLk-aJUBz"
      },
      "source": [
        "Podemos verificar si existe un elemento especifico dentro del conjunto con el comando <code>in</code>:"
      ]
    },
    {
      "cell_type": "code",
      "execution_count": null,
      "metadata": {
        "application/vnd.databricks.v1+cell": {
          "inputWidgets": {},
          "nuid": "b96d7b9c-e2a6-4526-9164-f71639ee6448",
          "showTitle": false,
          "title": ""
        },
        "colab": {
          "base_uri": "https://localhost:8080/"
        },
        "id": "zIFG9eiZJUB0",
        "outputId": "98300fd0-02bc-41af-e7df-24e47743a1aa"
      },
      "outputs": [
        {
          "data": {
            "text/plain": [
              "True"
            ]
          },
          "execution_count": 8,
          "metadata": {},
          "output_type": "execute_result"
        }
      ],
      "source": [
        "# Verificar si existe un elemento en el conjunto\n",
        "\n",
        "\"AC/DC\" in A"
      ]
    },
    {
      "cell_type": "markdown",
      "metadata": {
        "application/vnd.databricks.v1+cell": {
          "inputWidgets": {},
          "nuid": "422b5543-1340-4d4e-b38d-a5223fab3e6e",
          "showTitle": false,
          "title": ""
        },
        "id": "mSgAh6ZcJUB0"
      },
      "source": [
        "<h3 id=\"logic\">Operacion Lógicas con Conjuntos</h3>"
      ]
    },
    {
      "cell_type": "markdown",
      "metadata": {
        "application/vnd.databricks.v1+cell": {
          "inputWidgets": {},
          "nuid": "4a4edda5-3034-42d1-a275-6cb64904c804",
          "showTitle": false,
          "title": ""
        },
        "id": "OY4lFGh3JUB0"
      },
      "source": [
        "Recuerda que puedes revisar la diferencia entre dos conjuntos, así como la diferencia simétrica, intersección y unión:"
      ]
    },
    {
      "cell_type": "markdown",
      "metadata": {
        "application/vnd.databricks.v1+cell": {
          "inputWidgets": {},
          "nuid": "5fed6cc6-cdb4-4a1f-9d2a-522eb0d83331",
          "showTitle": false,
          "title": ""
        },
        "id": "tm5CjX5sJUB1"
      },
      "source": [
        "Considera estos dos conjuntos:"
      ]
    },
    {
      "cell_type": "code",
      "execution_count": null,
      "metadata": {
        "application/vnd.databricks.v1+cell": {
          "inputWidgets": {},
          "nuid": "92b27aaa-e2e3-4da5-9176-e0dbdb138e38",
          "showTitle": false,
          "title": ""
        },
        "id": "t7LzKEQuJUB1"
      },
      "outputs": [],
      "source": [
        "# Conjuntos de ejemplo\n",
        "\n",
        "album_set1 = set([\"Thriller\", 'AC/DC', 'Back in Black'])\n",
        "album_set2 = set([ \"AC/DC\", \"Back in Black\", \"The Dark Side of the Moon\"])"
      ]
    },
    {
      "cell_type": "markdown",
      "metadata": {
        "application/vnd.databricks.v1+cell": {
          "inputWidgets": {},
          "nuid": "a1cda677-0e93-4eeb-aa36-6328db70042a",
          "showTitle": false,
          "title": ""
        },
        "id": "a8zWzFjCJUB1"
      },
      "source": [
        "<img src=\"https://s3-api.us-geo.objectstorage.softlayer.net/cf-courses-data/CognitiveClass/PY0101EN/Chapter%202/Images/SetsSamples.png\" width=\"650\" />"
      ]
    },
    {
      "cell_type": "code",
      "execution_count": null,
      "metadata": {
        "application/vnd.databricks.v1+cell": {
          "inputWidgets": {},
          "nuid": "875280c6-741e-4537-a381-0eb5521e86d1",
          "showTitle": false,
          "title": ""
        },
        "colab": {
          "base_uri": "https://localhost:8080/"
        },
        "id": "4fplaEEOJUB2",
        "outputId": "1650869b-8d2f-4d54-a406-b522de966ade",
        "scrolled": true
      },
      "outputs": [
        {
          "data": {
            "text/plain": [
              "({'AC/DC', 'Back in Black', 'Thriller'},\n",
              " {'AC/DC', 'Back in Black', 'The Dark Side of the Moon'})"
            ]
          },
          "execution_count": 10,
          "metadata": {},
          "output_type": "execute_result"
        }
      ],
      "source": [
        "# Imprimir dos conjuntos\n",
        "\n",
        "album_set1, album_set2"
      ]
    },
    {
      "cell_type": "markdown",
      "metadata": {
        "application/vnd.databricks.v1+cell": {
          "inputWidgets": {},
          "nuid": "77d89d4b-c3a3-4144-91eb-373a72491c97",
          "showTitle": false,
          "title": ""
        },
        "id": "JXhZU7S9JUB2"
      },
      "source": [
        "Como los dos conjuntos contienen <b>AC/DC</b> y <b>Back in Black</b> podemos representar estos elementos en común en la intersección de dos círculos."
      ]
    },
    {
      "cell_type": "markdown",
      "metadata": {
        "application/vnd.databricks.v1+cell": {
          "inputWidgets": {},
          "nuid": "eede0354-4f8e-4cd0-9a85-d176ebc75537",
          "showTitle": false,
          "title": ""
        },
        "id": "IyOyRMzfJUB2"
      },
      "source": [
        "<img src = \"https://s3-api.us-geo.objectstorage.softlayer.net/cf-courses-data/CognitiveClass/PY0101EN/Chapter%202/Images/SetsLogic.png\" width = \"650\" />"
      ]
    },
    {
      "cell_type": "markdown",
      "metadata": {
        "application/vnd.databricks.v1+cell": {
          "inputWidgets": {},
          "nuid": "1902d5a0-6b7c-445c-9d63-dc2ac3927ceb",
          "showTitle": false,
          "title": ""
        },
        "id": "ebc74PhlJUB3"
      },
      "source": [
        "Para encontrar la intersección de dos conjuntos usaremos <code>&</code>:"
      ]
    },
    {
      "cell_type": "code",
      "execution_count": null,
      "metadata": {
        "application/vnd.databricks.v1+cell": {
          "inputWidgets": {},
          "nuid": "00cfc994-9fde-4110-baf0-253d71b113fa",
          "showTitle": false,
          "title": ""
        },
        "colab": {
          "base_uri": "https://localhost:8080/"
        },
        "id": "yT91G-gCJUB3",
        "outputId": "68e0479e-ee68-4c2a-96ad-19c6c27dc106"
      },
      "outputs": [
        {
          "data": {
            "text/plain": [
              "{'AC/DC', 'Back in Black'}"
            ]
          },
          "execution_count": 11,
          "metadata": {},
          "output_type": "execute_result"
        }
      ],
      "source": [
        "# Encontrar las intersecciones\n",
        "\n",
        "intersection = album_set1 & album_set2\n",
        "intersection"
      ]
    },
    {
      "cell_type": "markdown",
      "metadata": {
        "application/vnd.databricks.v1+cell": {
          "inputWidgets": {},
          "nuid": "4fe67355-6a42-4394-9890-8db00ec40709",
          "showTitle": false,
          "title": ""
        },
        "id": "JRJqgUDeJUB3"
      },
      "source": [
        "Puedes encontrar los elementos que únicamente están dentro de <code>album_set1</code> usando el método <code>difference</code>:"
      ]
    },
    {
      "cell_type": "code",
      "execution_count": null,
      "metadata": {
        "application/vnd.databricks.v1+cell": {
          "inputWidgets": {},
          "nuid": "9a0fa71e-f553-4a53-b7e1-49ef5003f39b",
          "showTitle": false,
          "title": ""
        },
        "colab": {
          "base_uri": "https://localhost:8080/"
        },
        "id": "fHYzlXrKJUB3",
        "outputId": "9e1fe192-ecf2-4b05-d792-576e4bb1fa4b"
      },
      "outputs": [
        {
          "data": {
            "text/plain": [
              "{'Thriller'}"
            ]
          },
          "execution_count": 12,
          "metadata": {},
          "output_type": "execute_result"
        }
      ],
      "source": [
        "# Encuentra la diferencia en set1 pero no en set2\n",
        "\n",
        "album_set1.difference(album_set2)"
      ]
    },
    {
      "cell_type": "markdown",
      "metadata": {
        "application/vnd.databricks.v1+cell": {
          "inputWidgets": {},
          "nuid": "176cb24e-94ff-49fd-8053-6a896db9e102",
          "showTitle": false,
          "title": ""
        },
        "id": "rDh10_MoJUB3"
      },
      "source": [
        "Solo tienes que considerar los elementos en <code>album_set1</code>; todos los de <code>album_set2</code>, incluyendo los de la intersección, no están incluidos."
      ]
    },
    {
      "cell_type": "markdown",
      "metadata": {
        "application/vnd.databricks.v1+cell": {
          "inputWidgets": {},
          "nuid": "2c0b8812-8ef3-481c-93d6-d2d289aafb3a",
          "showTitle": false,
          "title": ""
        },
        "id": "YPoYZiz8JUB3"
      },
      "source": [
        "<img src=\"https://s3-api.us-geo.objectstorage.softlayer.net/cf-courses-data/CognitiveClass/PY0101EN/Chapter%202/Images/SetsLeft.png\" width=\"650\" />"
      ]
    },
    {
      "cell_type": "markdown",
      "metadata": {
        "application/vnd.databricks.v1+cell": {
          "inputWidgets": {},
          "nuid": "210f5c42-3630-4142-a81c-23271e0c3de8",
          "showTitle": false,
          "title": ""
        },
        "id": "0afoDbCZJUB4"
      },
      "source": [
        "Los elementos que pertenecen a <code>album_set2</code> pero no en <code>album_set1</code> esta dado por:"
      ]
    },
    {
      "cell_type": "code",
      "execution_count": null,
      "metadata": {
        "application/vnd.databricks.v1+cell": {
          "inputWidgets": {},
          "nuid": "7dfdd9c9-5070-450a-8454-cc1ba2ae46d4",
          "showTitle": false,
          "title": ""
        },
        "colab": {
          "base_uri": "https://localhost:8080/"
        },
        "id": "4ogCzAdOJUB4",
        "outputId": "7e4feca0-ae86-4e18-9ac0-105a5a44e5bb"
      },
      "outputs": [
        {
          "data": {
            "text/plain": [
              "{'The Dark Side of the Moon'}"
            ]
          },
          "execution_count": 13,
          "metadata": {},
          "output_type": "execute_result"
        }
      ],
      "source": [
        "album_set2.difference(album_set1)"
      ]
    },
    {
      "cell_type": "markdown",
      "metadata": {
        "application/vnd.databricks.v1+cell": {
          "inputWidgets": {},
          "nuid": "9b679807-eddd-458f-9ada-29d693afd1eb",
          "showTitle": false,
          "title": ""
        },
        "id": "qNR9__SLJUB4"
      },
      "source": [
        "<img src = \"https://s3-api.us-geo.objectstorage.softlayer.net/cf-courses-data/CognitiveClass/PY0101EN/Chapter%202/Images/SetsRight.png\" width=\"650\" />"
      ]
    },
    {
      "cell_type": "markdown",
      "metadata": {
        "application/vnd.databricks.v1+cell": {
          "inputWidgets": {},
          "nuid": "b3730931-7397-4a5e-8b4c-be08e63605cd",
          "showTitle": false,
          "title": ""
        },
        "id": "YVkE9B-JJUB5"
      },
      "source": [
        "Puedes encontrar la intersección de <code>album_list1</code> y <code>album_list2</code> con el método <code>intersection</code>:"
      ]
    },
    {
      "cell_type": "code",
      "execution_count": null,
      "metadata": {
        "application/vnd.databricks.v1+cell": {
          "inputWidgets": {},
          "nuid": "81ba2110-0edb-4512-bd98-f8dcaf3fc343",
          "showTitle": false,
          "title": ""
        },
        "colab": {
          "base_uri": "https://localhost:8080/"
        },
        "id": "Htlq4ZPtJUB5",
        "outputId": "d37905ca-d8cc-4a7a-a021-e48587c2969e"
      },
      "outputs": [
        {
          "data": {
            "text/plain": [
              "{'AC/DC', 'Back in Black'}"
            ]
          },
          "execution_count": 14,
          "metadata": {},
          "output_type": "execute_result"
        }
      ],
      "source": [
        "# Usar el método intersection para encontrar la intersección entre of album_list1 y album_list2\n",
        "\n",
        "album_set1.intersection(album_set2)"
      ]
    },
    {
      "cell_type": "markdown",
      "metadata": {
        "application/vnd.databricks.v1+cell": {
          "inputWidgets": {},
          "nuid": "96181e68-5a1c-4d4c-8df3-fedadd115391",
          "showTitle": false,
          "title": ""
        },
        "id": "i3O4lDK1JUB5"
      },
      "source": [
        "Lo siguiente corresponde a la intersección de los dos círculos:"
      ]
    },
    {
      "cell_type": "markdown",
      "metadata": {
        "application/vnd.databricks.v1+cell": {
          "inputWidgets": {},
          "nuid": "ad80023a-2794-4095-8129-c44a3b5d508e",
          "showTitle": false,
          "title": ""
        },
        "id": "tbLgJhlNJUB5"
      },
      "source": [
        "<img src=\"https://s3-api.us-geo.objectstorage.softlayer.net/cf-courses-data/CognitiveClass/PY0101EN/Chapter%202/Images/SetsIntersect.png\" width=\"650\" />"
      ]
    },
    {
      "cell_type": "markdown",
      "metadata": {
        "application/vnd.databricks.v1+cell": {
          "inputWidgets": {},
          "nuid": "22aaeb36-61e7-42fd-ad69-5c8b7f376a39",
          "showTitle": false,
          "title": ""
        },
        "id": "7HkXukeKJUB5"
      },
      "source": [
        "La unión es la suma de todos los elementos de ambos conjuntos, se representa pintando los dos círculos:"
      ]
    },
    {
      "cell_type": "markdown",
      "metadata": {
        "application/vnd.databricks.v1+cell": {
          "inputWidgets": {},
          "nuid": "ad0f7913-f45c-4a59-81de-56f8d45400f5",
          "showTitle": false,
          "title": ""
        },
        "id": "eNqTKF_-JUB5"
      },
      "source": [
        "<img src = \"https://s3-api.us-geo.objectstorage.softlayer.net/cf-courses-data/CognitiveClass/PY0101EN/Chapter%202/Images/SetsUnion.png\" width=\"650\" />"
      ]
    },
    {
      "cell_type": "markdown",
      "metadata": {
        "application/vnd.databricks.v1+cell": {
          "inputWidgets": {},
          "nuid": "596a03f6-3266-4333-ba55-51b880ce0065",
          "showTitle": false,
          "title": ""
        },
        "id": "6pPVPL4zJUB5"
      },
      "source": [
        "La unión esta dada por:"
      ]
    },
    {
      "cell_type": "code",
      "execution_count": null,
      "metadata": {
        "application/vnd.databricks.v1+cell": {
          "inputWidgets": {},
          "nuid": "0b860472-26e1-4fba-bd5a-67a0c670e696",
          "showTitle": false,
          "title": ""
        },
        "colab": {
          "base_uri": "https://localhost:8080/"
        },
        "collapsed": true,
        "id": "TjDV3FJ-JUB5",
        "outputId": "953a56af-afa0-4bed-9d85-e79b9e1049c9"
      },
      "outputs": [
        {
          "data": {
            "text/plain": [
              "{'AC/DC', 'Back in Black', 'The Dark Side of the Moon', 'Thriller'}"
            ]
          },
          "execution_count": 15,
          "metadata": {},
          "output_type": "execute_result"
        }
      ],
      "source": [
        "# Encontrar la unión de los dos conjuntos\n",
        "\n",
        "album_set1.union(album_set2)"
      ]
    },
    {
      "cell_type": "markdown",
      "metadata": {
        "application/vnd.databricks.v1+cell": {
          "inputWidgets": {},
          "nuid": "3bc71d69-d1a3-4e8a-87fc-583f5ddc5b86",
          "showTitle": false,
          "title": ""
        },
        "id": "8sNzaFNjJUB6"
      },
      "source": [
        "Se puede averiguar si un conjunto es un súper conjunto o un sub conjunto de otro, respectivamente, de la siguiente forma:"
      ]
    },
    {
      "cell_type": "code",
      "execution_count": null,
      "metadata": {
        "application/vnd.databricks.v1+cell": {
          "inputWidgets": {},
          "nuid": "2f767858-8a57-4311-88c2-c433183fb30f",
          "showTitle": false,
          "title": ""
        },
        "colab": {
          "base_uri": "https://localhost:8080/"
        },
        "id": "3Y9ULYcRJUB6",
        "outputId": "34a9f3c8-2ba0-4c05-abd8-70e1677f56ad"
      },
      "outputs": [
        {
          "data": {
            "text/plain": [
              "False"
            ]
          },
          "execution_count": 16,
          "metadata": {},
          "output_type": "execute_result"
        }
      ],
      "source": [
        "# Revisar si es un super conjunto\n",
        "\n",
        "set(album_set1).issuperset(album_set2)"
      ]
    },
    {
      "cell_type": "code",
      "execution_count": null,
      "metadata": {
        "application/vnd.databricks.v1+cell": {
          "inputWidgets": {},
          "nuid": "578fce3e-32d4-4e3f-be19-662eacab6ec8",
          "showTitle": false,
          "title": ""
        },
        "colab": {
          "base_uri": "https://localhost:8080/"
        },
        "id": "r-gdRG0mJUB6",
        "outputId": "897db5c1-e83d-40d3-ab5a-130c3b3a093c"
      },
      "outputs": [
        {
          "data": {
            "text/plain": [
              "False"
            ]
          },
          "execution_count": 17,
          "metadata": {},
          "output_type": "execute_result"
        }
      ],
      "source": [
        "# Revisar si es un sub conjunto\n",
        "\n",
        "set(album_set2).issubset(album_set1)"
      ]
    },
    {
      "cell_type": "markdown",
      "metadata": {
        "application/vnd.databricks.v1+cell": {
          "inputWidgets": {},
          "nuid": "6766f345-49db-4c1f-873f-b2c67a68c33a",
          "showTitle": false,
          "title": ""
        },
        "id": "XRrRLwDGJUB6"
      },
      "source": [
        "Este es un ejemplo donde <code>issubset()</code> y <code>issuperset()</code> regresan un valor verdadero:"
      ]
    },
    {
      "cell_type": "code",
      "execution_count": null,
      "metadata": {
        "application/vnd.databricks.v1+cell": {
          "inputWidgets": {},
          "nuid": "09af87fc-b662-4a26-94ac-df3395968a41",
          "showTitle": false,
          "title": ""
        },
        "colab": {
          "base_uri": "https://localhost:8080/"
        },
        "id": "mc29z9xgJUB6",
        "outputId": "91745e31-4cb0-409e-fb19-ed8ac0b63d96"
      },
      "outputs": [
        {
          "data": {
            "text/plain": [
              "True"
            ]
          },
          "execution_count": 18,
          "metadata": {},
          "output_type": "execute_result"
        }
      ],
      "source": [
        "# Revisar si es un sub conjunto\n",
        "\n",
        "set({\"Back in Black\", \"AC/DC\"}).issubset(album_set1)"
      ]
    },
    {
      "cell_type": "code",
      "execution_count": null,
      "metadata": {
        "application/vnd.databricks.v1+cell": {
          "inputWidgets": {},
          "nuid": "bad299a9-898f-438d-b504-6bb1bd42f2a7",
          "showTitle": false,
          "title": ""
        },
        "colab": {
          "base_uri": "https://localhost:8080/"
        },
        "id": "2NhQuSI8JUB6",
        "outputId": "73e5b192-889d-427b-94e5-5d1e71945be2"
      },
      "outputs": [
        {
          "data": {
            "text/plain": [
              "True"
            ]
          },
          "execution_count": 19,
          "metadata": {},
          "output_type": "execute_result"
        }
      ],
      "source": [
        "# Revisar si es un super conjunto\n",
        "\n",
        "album_set1.issuperset({\"Back in Black\", \"AC/DC\"})"
      ]
    },
    {
      "cell_type": "markdown",
      "metadata": {
        "application/vnd.databricks.v1+cell": {
          "inputWidgets": {},
          "nuid": "26d53c16-c01f-4835-a6e8-ee2ad7ef05bd",
          "showTitle": false,
          "title": ""
        },
        "id": "AwufVxtJJUB7"
      },
      "source": [
        "<h2 id=\"quiz\">Cuestionario sobre conjuntos</h2>"
      ]
    },
    {
      "cell_type": "markdown",
      "metadata": {
        "application/vnd.databricks.v1+cell": {
          "inputWidgets": {},
          "nuid": "74126b07-e95d-4dc7-956f-2b09e24be04b",
          "showTitle": false,
          "title": ""
        },
        "id": "wBUIuUp2JUB7"
      },
      "source": [
        "Transformar la lista <code>['rap','house','electronic music', 'rap']</code> en un conjunto:"
      ]
    },
    {
      "cell_type": "code",
      "execution_count": null,
      "metadata": {
        "application/vnd.databricks.v1+cell": {
          "inputWidgets": {},
          "nuid": "9423486d-6f4e-4bb5-aeb3-83de0c85361b",
          "showTitle": false,
          "title": ""
        },
        "colab": {
          "base_uri": "https://localhost:8080/"
        },
        "id": "jLggDoMmJUB7",
        "outputId": "762633cd-da7d-49d2-815e-09278351c40d"
      },
      "outputs": [
        {
          "data": {
            "text/plain": [
              "{'electronic music', 'house', 'rap'}"
            ]
          },
          "execution_count": 20,
          "metadata": {},
          "output_type": "execute_result"
        }
      ],
      "source": [
        "# Escribe abajo tu código y presiona Shift+Enter para ejecutarlo\n",
        "#Aquí convertimos a través de la función set, la lista \"genres_list\" en un conjunto\n",
        "#Por lo que ahora el elemento rap que aparece 2 veces en la lista ahora solo aparecerá 1 vez\n",
        "genres_list = ['rap','house','electronic music', 'rap']\n",
        "genres_set = set(genres_list)\n",
        "genres_set"
      ]
    },
    {
      "cell_type": "markdown",
      "metadata": {
        "application/vnd.databricks.v1+cell": {
          "inputWidgets": {},
          "nuid": "4f780d1d-cd1e-481f-85af-081ac06129e0",
          "showTitle": false,
          "title": ""
        },
        "id": "VykkQVLVJUB7"
      },
      "source": [
        "Haz doble click <b>aquí</b> para ver la solución.\n",
        "<!-- Your answer is below:\n",
        "set(['rap','house','electronic music','rap'])\n",
        "-->"
      ]
    },
    {
      "cell_type": "markdown",
      "metadata": {
        "application/vnd.databricks.v1+cell": {
          "inputWidgets": {},
          "nuid": "ad6e9914-2fda-429f-b732-5490e9490b9a",
          "showTitle": false,
          "title": ""
        },
        "id": "gJSBAI7jJUB7"
      },
      "source": [
        "Considera que la lista <code>A = [1, 2, 2, 1]</code> y el conjunto <code>B = set([1, 2, 2, 1])</code> suman <code>sum(A) = sum(B)</code>"
      ]
    },
    {
      "cell_type": "code",
      "execution_count": null,
      "metadata": {
        "application/vnd.databricks.v1+cell": {
          "inputWidgets": {},
          "nuid": "697fa6ef-f466-4236-9fc6-d423a473c370",
          "showTitle": false,
          "title": ""
        },
        "colab": {
          "base_uri": "https://localhost:8080/"
        },
        "id": "HFxRDt1jJUB8",
        "outputId": "fdce3410-0896-4c7e-cee0-40c78567defc"
      },
      "outputs": [
        {
          "name": "stdout",
          "output_type": "stream",
          "text": [
            "the sum of A is: 6\n",
            "the sum of B is: 3\n"
          ]
        }
      ],
      "source": [
        "# Escribe abajo tu código y presiona Shift+Enter para ejecutarlo\n",
        "A = [1, 2, 2, 1]\n",
        "B = set([1, 2, 2, 1])\n",
        "print(\"the sum of A is:\", sum(A))\n",
        "print(\"the sum of B is:\", sum(B))"
      ]
    },
    {
      "cell_type": "markdown",
      "metadata": {
        "application/vnd.databricks.v1+cell": {
          "inputWidgets": {},
          "nuid": "d58337bb-3a3c-41f0-9a6c-41921cca17c8",
          "showTitle": false,
          "title": ""
        },
        "id": "0SDAGpbWJUB8"
      },
      "source": [
        "Haz doble click <b>aquí</b> para ver la solución.\n",
        "\n",
        "<!-- Your answer is below:\n",
        "A = [1, 2, 2, 1]  \n",
        "B = set([1, 2, 2, 1])\n",
        "print(\"the sum of A is:\", sum(A))\n",
        "print(\"the sum of B is:\", sum(B))\n",
        "-->"
      ]
    },
    {
      "cell_type": "markdown",
      "metadata": {
        "application/vnd.databricks.v1+cell": {
          "inputWidgets": {},
          "nuid": "b83ef1ae-b339-4d9c-ae67-1e13d8da9a61",
          "showTitle": false,
          "title": ""
        },
        "id": "Val8s8V3JUB8"
      },
      "source": [
        "Crea un nuevo conjunto <code>album_set3</code> que sea la unión de <code>album_set1</code> y <code>album_set2</code>:"
      ]
    },
    {
      "cell_type": "code",
      "execution_count": null,
      "metadata": {
        "application/vnd.databricks.v1+cell": {
          "inputWidgets": {},
          "nuid": "f3d7d74d-a639-41f9-9d70-4e7278f24f39",
          "showTitle": false,
          "title": ""
        },
        "colab": {
          "base_uri": "https://localhost:8080/"
        },
        "id": "1YKAvkkLJUB8",
        "outputId": "3babcd3b-502d-4a39-ae91-3561da00ced0"
      },
      "outputs": [
        {
          "data": {
            "text/plain": [
              "{'AC/DC', 'Back in Black', 'The Dark Side of the Moon', 'Thriller'}"
            ]
          },
          "execution_count": 22,
          "metadata": {},
          "output_type": "execute_result"
        }
      ],
      "source": [
        "# Escribe abajo tu código y presiona Shift+Enter para ejecutarlo\n",
        "\n",
        "album_set1 = set([\"Thriller\", 'AC/DC', 'Back in Black'])\n",
        "album_set2 = set([ \"AC/DC\", \"Back in Black\", \"The Dark Side of the Moon\"])\n",
        "#Hacemos uso de la función union para sacar la unión entre los dos conjuntos y la almacenamos en album_set3\n",
        "album_set3 = album_set1.union(album_set2)\n",
        "album_set3"
      ]
    },
    {
      "cell_type": "markdown",
      "metadata": {
        "application/vnd.databricks.v1+cell": {
          "inputWidgets": {},
          "nuid": "20abc767-a503-4f29-90a2-0c7e1d65b3f9",
          "showTitle": false,
          "title": ""
        },
        "id": "LLea9uf0JUB9"
      },
      "source": [
        "Haz doble click <b>aquí</b> para ver la solución.\n",
        "\n",
        "<!-- Your answer is below:\n",
        "album_set3 = album_set1.union(album_set2)\n",
        "album_set3\n",
        "-->"
      ]
    },
    {
      "cell_type": "markdown",
      "metadata": {
        "application/vnd.databricks.v1+cell": {
          "inputWidgets": {},
          "nuid": "86d9065c-fc26-4b5a-9deb-e7c517c4ac46",
          "showTitle": false,
          "title": ""
        },
        "id": "AnnucdzoJUB9"
      },
      "source": [
        "Averigua si <code>album_set1</code> es un subconjunto de <code>album_set3</code>:"
      ]
    },
    {
      "cell_type": "code",
      "execution_count": null,
      "metadata": {
        "application/vnd.databricks.v1+cell": {
          "inputWidgets": {},
          "nuid": "c39979b3-b173-46a3-92a4-4610fbeeed79",
          "showTitle": false,
          "title": ""
        },
        "colab": {
          "base_uri": "https://localhost:8080/"
        },
        "id": "uPvkUNhiJUB9",
        "outputId": "3191681c-bc50-4f83-cd7b-27c99642f0f3"
      },
      "outputs": [
        {
          "data": {
            "text/plain": [
              "True"
            ]
          },
          "execution_count": 23,
          "metadata": {},
          "output_type": "execute_result"
        }
      ],
      "source": [
        "# Escribe abajo tu código y presiona Shift+Enter para ejecutarlo\n",
        "\n",
        "#Usamos la función issubset para saber la respuesta del problema así:\n",
        "album_set1.issubset(album_set3)"
      ]
    },
    {
      "cell_type": "markdown",
      "metadata": {
        "application/vnd.databricks.v1+cell": {
          "inputWidgets": {},
          "nuid": "152603f1-f354-40d1-a532-ce58f119f576",
          "showTitle": false,
          "title": ""
        },
        "id": "PZlMxG-KJUB9"
      },
      "source": [
        "Haz doble click <b>aquí</b> para ver la solución.\n",
        "\n",
        "<!-- Your answer is below:\n",
        "album_set1.issubset(album_set3)\n",
        "-->"
      ]
    }
  ],
  "metadata": {
    "application/vnd.databricks.v1+notebook": {
      "dashboards": [],
      "language": "python",
      "notebookMetadata": {
        "pythonIndentUnit": 2
      },
      "notebookName": "04-Python-Conjuntos",
      "notebookOrigID": 3296315911137944,
      "widgets": {}
    },
    "colab": {
      "provenance": []
    },
    "kernelspec": {
      "display_name": "Python 3",
      "language": "python",
      "name": "python3"
    },
    "language_info": {
      "codemirror_mode": {
        "name": "ipython",
        "version": 3
      },
      "file_extension": ".py",
      "mimetype": "text/x-python",
      "name": "python",
      "nbconvert_exporter": "python",
      "pygments_lexer": "ipython3",
      "version": "3.7.7"
    }
  },
  "nbformat": 4,
  "nbformat_minor": 0
}
