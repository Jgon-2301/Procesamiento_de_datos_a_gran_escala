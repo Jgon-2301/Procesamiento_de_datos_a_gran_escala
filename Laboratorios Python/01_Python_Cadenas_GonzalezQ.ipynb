{
  "cells": [
    {
      "cell_type": "markdown",
      "metadata": {
        "application/vnd.databricks.v1+cell": {
          "inputWidgets": {},
          "nuid": "c5e61d79-8f0e-4413-afff-a73698e18bb5",
          "showTitle": false,
          "title": ""
        },
        "id": "NXczvFaSLlDd"
      },
      "source": [
        "<h1>Procesamiento de Datos a Gran Escala</h1>"
      ]
    },
    {
      "cell_type": "markdown",
      "metadata": {
        "id": "cpMhgO6-gHRT"
      },
      "source": [
        "![escudoPUJ-Bogota_rgb-azul_lateral.png](data:image/png;base64,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)\n",
        "\n",
        "**Autor:** Juan Felipe González Quintero\n",
        "**ID:** 00020495394\n",
        "\n",
        "**Fecha de entrega:** 11 -08 - 2025\n",
        "\n",
        "##**Resumen**\n",
        "\n",
        "En este cuaderno encontrará la solución a una guía de programación en el lenguaje python en el cuál se hace especial énfasis en el tema de cadenas, sus usos y las operaciones que se pueden aplicar con ellas.\n",
        "\n",
        "##**Objetivo**\n",
        "\n",
        "Aprender y poner en práctica los conocimientos básicos sobre cadenas en python por medio de una guía interactiva con una pequeña evaluación al final\n",
        "\n"
      ]
    },
    {
      "cell_type": "markdown",
      "metadata": {
        "application/vnd.databricks.v1+cell": {
          "inputWidgets": {},
          "nuid": "c5c3b9b4-1a97-4151-b056-30997a3dae8e",
          "showTitle": false,
          "title": ""
        },
        "id": "EWImMuy9LlDg"
      },
      "source": [
        "<h2>Operaciones con Cadenas</h2>"
      ]
    },
    {
      "cell_type": "markdown",
      "metadata": {
        "application/vnd.databricks.v1+cell": {
          "inputWidgets": {},
          "nuid": "97dc7dc7-f023-468f-9901-62cf076efde0",
          "showTitle": false,
          "title": ""
        },
        "id": "TC-XnpffLlDg"
      },
      "source": [
        "<p><strong>¡Bienvenido!</strong> En este cuaderno aprenderás sobre operaciones con cadenas en el Lenguaje de Programación Python. Al finalizar, conocerás acerca de las operaciones con cadenas que se pueden realizar en Python como son, indexación, operaciones y secuencias de escape.</p>"
      ]
    },
    {
      "cell_type": "markdown",
      "metadata": {
        "application/vnd.databricks.v1+cell": {
          "inputWidgets": {},
          "nuid": "75b418f4-38c8-4925-8c64-21588ac252dc",
          "showTitle": false,
          "title": ""
        },
        "id": "5VeEO5x9LlDg"
      },
      "source": [
        "<h2>Tabla de Contenido</h2>\n",
        "<div class=\"alert alert-block alert-info\" style=\"margin-top: 20px\">\n",
        "    <ul>\n",
        "        <li>\n",
        "            <a href=\"#strings\">¿Qué es una cadena?</a>\n",
        "        </li>\n",
        "        <li>\n",
        "            <a href=\"#index\">Indexación</a>\n",
        "            <ul>\n",
        "                <li><a href=\"neg\">Indexación Negativa</a></li>\n",
        "                <li><a href=\"slice\">Slicing</a></li>\n",
        "                <li><a href=\"stride\">Stride</a></li>\n",
        "                <li><a href=\"concat\">Concatenar Cadenas</a></li>\n",
        "            </ul>\n",
        "        </li>\n",
        "        <li>\n",
        "            <a href=\"#escape\">Secuencias de Escape</a>\n",
        "        </li>\n",
        "        <li>\n",
        "            <a href=\"#operations\">Operaciones con Cadenas</a>\n",
        "        </li>\n",
        "        <li>\n",
        "            <a href=\"#quiz\">Exámen sobre Cadenas</a>\n",
        "        </li>\n",
        "    </ul>\n",
        "    <p>\n",
        "        Tiempo Estimado: <strong>15 min</strong>\n",
        "    </p>\n",
        "</div>\n",
        "\n",
        "<hr>"
      ]
    },
    {
      "cell_type": "markdown",
      "metadata": {
        "application/vnd.databricks.v1+cell": {
          "inputWidgets": {},
          "nuid": "07f23fc9-4dc4-4104-82cc-32836e59e872",
          "showTitle": false,
          "title": ""
        },
        "id": "w8BswPDALlDh"
      },
      "source": [
        "<h2 id=\"strings\">¿Qué es una cadena?</h2>"
      ]
    },
    {
      "cell_type": "markdown",
      "metadata": {
        "application/vnd.databricks.v1+cell": {
          "inputWidgets": {},
          "nuid": "8aa1dec4-df2a-49f7-bbe2-d49584a60608",
          "showTitle": false,
          "title": ""
        },
        "id": "PxceqrvNLlDh"
      },
      "source": [
        "A continuación, se muestra una cadena entre comillas dobles."
      ]
    },
    {
      "cell_type": "code",
      "execution_count": null,
      "metadata": {
        "application/vnd.databricks.v1+cell": {
          "inputWidgets": {},
          "nuid": "26a4f2f6-c7b1-4274-a707-f7ddb76253af",
          "showTitle": false,
          "title": ""
        },
        "id": "YNDP28r0LlDh",
        "outputId": "1e7d40b4-59a7-4dd5-9c2b-73331b80d1d2"
      },
      "outputs": [
        {
          "data": {
            "text/html": [
              "<style scoped>\n",
              "  .ansiout {\n",
              "    display: block;\n",
              "    unicode-bidi: embed;\n",
              "    white-space: pre-wrap;\n",
              "    word-wrap: break-word;\n",
              "    word-break: break-all;\n",
              "    font-family: \"Source Code Pro\", \"Menlo\", monospace;;\n",
              "    font-size: 13px;\n",
              "    color: #555;\n",
              "    margin-left: 4px;\n",
              "    line-height: 19px;\n",
              "  }\n",
              "</style>"
            ]
          },
          "metadata": {
            "application/vnd.databricks.v1+output": {
              "arguments": {},
              "data": "",
              "errorSummary": "",
              "errorTraceType": null,
              "metadata": {},
              "type": "ipynbError"
            }
          },
          "output_type": "display_data"
        }
      ],
      "source": [
        "# Usa las comillas dobles para definir una cadena\n",
        "\n",
        "\"Michael Jackson\""
      ]
    },
    {
      "cell_type": "markdown",
      "metadata": {
        "application/vnd.databricks.v1+cell": {
          "inputWidgets": {},
          "nuid": "156897c4-37c7-4b5e-b027-832638056035",
          "showTitle": false,
          "title": ""
        },
        "id": "sKUtSXu-LlDi"
      },
      "source": [
        "También podemos usar comillas simples:"
      ]
    },
    {
      "cell_type": "code",
      "execution_count": null,
      "metadata": {
        "application/vnd.databricks.v1+cell": {
          "inputWidgets": {},
          "nuid": "deb3b65e-db10-4e13-bb6e-1201355ad711",
          "showTitle": false,
          "title": ""
        },
        "id": "Pevg1n4FLlDi",
        "outputId": "47715aaf-fea5-4793-bd0c-b413d7c92983"
      },
      "outputs": [
        {
          "data": {
            "text/html": [
              "<style scoped>\n",
              "  .ansiout {\n",
              "    display: block;\n",
              "    unicode-bidi: embed;\n",
              "    white-space: pre-wrap;\n",
              "    word-wrap: break-word;\n",
              "    word-break: break-all;\n",
              "    font-family: \"Source Code Pro\", \"Menlo\", monospace;;\n",
              "    font-size: 13px;\n",
              "    color: #555;\n",
              "    margin-left: 4px;\n",
              "    line-height: 19px;\n",
              "  }\n",
              "</style>"
            ]
          },
          "metadata": {
            "application/vnd.databricks.v1+output": {
              "arguments": {},
              "data": "",
              "errorSummary": "",
              "errorTraceType": null,
              "metadata": {},
              "type": "ipynbError"
            }
          },
          "output_type": "display_data"
        }
      ],
      "source": [
        "# Usa comillas simples para definir una cadena\n",
        "\n",
        "'Michael Jackson'"
      ]
    },
    {
      "cell_type": "markdown",
      "metadata": {
        "application/vnd.databricks.v1+cell": {
          "inputWidgets": {},
          "nuid": "e5e4693c-3d5f-40fc-a7f6-01f1fb693843",
          "showTitle": false,
          "title": ""
        },
        "id": "vJzbnQ2ZLlDj"
      },
      "source": [
        "Una cadena puede ser una combinación de espacios y dígitos:"
      ]
    },
    {
      "cell_type": "code",
      "execution_count": null,
      "metadata": {
        "application/vnd.databricks.v1+cell": {
          "inputWidgets": {},
          "nuid": "725caefd-24ce-4660-bd0f-af6b902566bb",
          "showTitle": false,
          "title": ""
        },
        "id": "CFOLjZjCLlDj",
        "outputId": "8c174706-625c-4284-edbb-466e61145cd6"
      },
      "outputs": [
        {
          "data": {
            "text/html": [
              "<style scoped>\n",
              "  .ansiout {\n",
              "    display: block;\n",
              "    unicode-bidi: embed;\n",
              "    white-space: pre-wrap;\n",
              "    word-wrap: break-word;\n",
              "    word-break: break-all;\n",
              "    font-family: \"Source Code Pro\", \"Menlo\", monospace;;\n",
              "    font-size: 13px;\n",
              "    color: #555;\n",
              "    margin-left: 4px;\n",
              "    line-height: 19px;\n",
              "  }\n",
              "</style>"
            ]
          },
          "metadata": {
            "application/vnd.databricks.v1+output": {
              "arguments": {},
              "data": "",
              "errorSummary": "",
              "errorTraceType": null,
              "metadata": {},
              "type": "ipynbError"
            }
          },
          "output_type": "display_data"
        }
      ],
      "source": [
        "# Dígitos y espacios en una cadena\n",
        "\n",
        "'1 2 3 4 5 6 '"
      ]
    },
    {
      "cell_type": "markdown",
      "metadata": {
        "application/vnd.databricks.v1+cell": {
          "inputWidgets": {},
          "nuid": "3049df74-fcb0-4d43-9d10-1c98a445be02",
          "showTitle": false,
          "title": ""
        },
        "id": "YOVQ5gasLlDj"
      },
      "source": [
        "Una cadena también puede estar formada por caracteres especiales :"
      ]
    },
    {
      "cell_type": "code",
      "execution_count": null,
      "metadata": {
        "application/vnd.databricks.v1+cell": {
          "inputWidgets": {},
          "nuid": "4b20df88-dd74-44e3-a310-5b3c27ecefab",
          "showTitle": false,
          "title": ""
        },
        "id": "Yy5EHSJOLlDj",
        "outputId": "b6457b05-2e53-43b9-b44b-b960b15a2d8e"
      },
      "outputs": [
        {
          "data": {
            "text/html": [
              "<style scoped>\n",
              "  .ansiout {\n",
              "    display: block;\n",
              "    unicode-bidi: embed;\n",
              "    white-space: pre-wrap;\n",
              "    word-wrap: break-word;\n",
              "    word-break: break-all;\n",
              "    font-family: \"Source Code Pro\", \"Menlo\", monospace;;\n",
              "    font-size: 13px;\n",
              "    color: #555;\n",
              "    margin-left: 4px;\n",
              "    line-height: 19px;\n",
              "  }\n",
              "</style>"
            ]
          },
          "metadata": {
            "application/vnd.databricks.v1+output": {
              "arguments": {},
              "data": "",
              "errorSummary": "",
              "errorTraceType": null,
              "metadata": {},
              "type": "ipynbError"
            }
          },
          "output_type": "display_data"
        }
      ],
      "source": [
        "# Caracteres especiales en una cadena\n",
        "\n",
        "'@#2_#]&*^%$'"
      ]
    },
    {
      "cell_type": "markdown",
      "metadata": {
        "application/vnd.databricks.v1+cell": {
          "inputWidgets": {},
          "nuid": "f2dca36c-a031-459e-8579-67c2d0f631b8",
          "showTitle": false,
          "title": ""
        },
        "id": "nX6iNN9_LlDk"
      },
      "source": [
        "Podemos imprimir en pantallas una cadena usando la sentencia print:"
      ]
    },
    {
      "cell_type": "code",
      "execution_count": null,
      "metadata": {
        "application/vnd.databricks.v1+cell": {
          "inputWidgets": {},
          "nuid": "ab92c5e7-fe91-40e8-b339-b4150b7daef6",
          "showTitle": false,
          "title": ""
        },
        "colab": {
          "base_uri": "https://localhost:8080/"
        },
        "id": "O5oTQSXALlDk",
        "outputId": "9247a556-4bc8-474f-b38c-ebcc57be905a"
      },
      "outputs": [
        {
          "name": "stdout",
          "output_type": "stream",
          "text": [
            "hello!\n"
          ]
        }
      ],
      "source": [
        "# Imprimir la cadea\n",
        "\n",
        "print(\"hello!\")"
      ]
    },
    {
      "cell_type": "markdown",
      "metadata": {
        "application/vnd.databricks.v1+cell": {
          "inputWidgets": {},
          "nuid": "ee912641-c6f6-49a2-8c8a-8224e9f2c011",
          "showTitle": false,
          "title": ""
        },
        "id": "m_ayH3PHLlDk"
      },
      "source": [
        "Podemos asignar una cadena como valor de una variable:"
      ]
    },
    {
      "cell_type": "code",
      "execution_count": null,
      "metadata": {
        "application/vnd.databricks.v1+cell": {
          "inputWidgets": {},
          "nuid": "472735ea-e2b4-4e95-a7b9-dc5a388f8203",
          "showTitle": false,
          "title": ""
        },
        "colab": {
          "base_uri": "https://localhost:8080/",
          "height": 35
        },
        "id": "ESm5AhnJLlDk",
        "outputId": "74b3dc0c-8bfc-4b58-aafb-8cbc25c0cad5"
      },
      "outputs": [
        {
          "data": {
            "application/vnd.google.colaboratory.intrinsic+json": {
              "type": "string"
            },
            "text/plain": [
              "'Michael Jackson'"
            ]
          },
          "execution_count": 3,
          "metadata": {},
          "output_type": "execute_result"
        }
      ],
      "source": [
        "# Asignar una cadena a una variable\n",
        "\n",
        "Name = \"Michael Jackson\"\n",
        "Name"
      ]
    },
    {
      "cell_type": "markdown",
      "metadata": {
        "application/vnd.databricks.v1+cell": {
          "inputWidgets": {},
          "nuid": "498ef261-6833-4b74-a10b-6a2efa30b4a2",
          "showTitle": false,
          "title": ""
        },
        "id": "8c9iEaloLlDk"
      },
      "source": [
        "<h2 id=\"index\">Indexación</h2>"
      ]
    },
    {
      "cell_type": "markdown",
      "metadata": {
        "application/vnd.databricks.v1+cell": {
          "inputWidgets": {},
          "nuid": "82faedb4-0220-49c6-9513-a607ad48ca64",
          "showTitle": false,
          "title": ""
        },
        "id": "paDwJ6ryLlDk"
      },
      "source": [
        "Debemos pensar en una cadena como una secuencia ordenada. Cada elemento de la secuencia puede ser accedido utilizando un índice numérico, el cual representa el lugar que ocupa dicho elemento en la cadena:"
      ]
    },
    {
      "cell_type": "markdown",
      "metadata": {
        "application/vnd.databricks.v1+cell": {
          "inputWidgets": {},
          "nuid": "edf71893-be4c-4225-af89-1eb7b71e574f",
          "showTitle": false,
          "title": ""
        },
        "id": "mMryVu9cLlDl"
      },
      "source": [
        "<img src=\"https://s3-api.us-geo.objectstorage.softlayer.net/cf-courses-data/CognitiveClass/PY0101EN/Chapter%201/Images/StringsIndex.png\" width=\"600\" align=\"center\" />"
      ]
    },
    {
      "cell_type": "markdown",
      "metadata": {
        "application/vnd.databricks.v1+cell": {
          "inputWidgets": {},
          "nuid": "3baffebb-7d70-49d7-aae5-5aed40453431",
          "showTitle": false,
          "title": ""
        },
        "id": "aEh00hHtLlDl"
      },
      "source": [
        "Se puede acceder al primer índice de la siguiente manera:"
      ]
    },
    {
      "cell_type": "markdown",
      "metadata": {
        "application/vnd.databricks.v1+cell": {
          "inputWidgets": {},
          "nuid": "dd579068-7787-4dcb-8971-1c7e70312114",
          "showTitle": false,
          "title": ""
        },
        "id": "5nkhWhPfLlDl"
      },
      "source": [
        "<hr/>\n",
        "<div class=\"alert alert-success alertsuccess\" style=\"margin-top: 20px\">\n",
        "[Tip]: En la indexación se empieza por el 0, esto quiere decir que el primer elemento de la cadena está en el índice 0.\n",
        "</div>\n",
        "<hr/>"
      ]
    },
    {
      "cell_type": "code",
      "execution_count": null,
      "metadata": {
        "application/vnd.databricks.v1+cell": {
          "inputWidgets": {},
          "nuid": "956eff60-6fdc-4c8c-ba51-3c3af1e67d2d",
          "showTitle": false,
          "title": ""
        },
        "colab": {
          "base_uri": "https://localhost:8080/"
        },
        "id": "P0JQRfPzLlDl",
        "outputId": "1391cc91-d484-4069-850c-b924091f95c2"
      },
      "outputs": [
        {
          "name": "stdout",
          "output_type": "stream",
          "text": [
            "M\n"
          ]
        }
      ],
      "source": [
        "# Imprime el primer elemento de la cadena\n",
        "\n",
        "print(Name[0])"
      ]
    },
    {
      "cell_type": "markdown",
      "metadata": {
        "application/vnd.databricks.v1+cell": {
          "inputWidgets": {},
          "nuid": "763c24bb-6639-48c4-8a9a-52f1411126c1",
          "showTitle": false,
          "title": ""
        },
        "id": "i3nfvwjKLlDl"
      },
      "source": [
        "Podemos acceder el índice 6:"
      ]
    },
    {
      "cell_type": "code",
      "execution_count": null,
      "metadata": {
        "application/vnd.databricks.v1+cell": {
          "inputWidgets": {},
          "nuid": "61adbc4f-3f3c-4996-8d58-0191b2ce73e7",
          "showTitle": false,
          "title": ""
        },
        "colab": {
          "base_uri": "https://localhost:8080/"
        },
        "id": "8zMq4TdFLlDl",
        "outputId": "fbaa73b4-5e61-4e49-f05e-a315b87b7ded"
      },
      "outputs": [
        {
          "name": "stdout",
          "output_type": "stream",
          "text": [
            "l\n"
          ]
        }
      ],
      "source": [
        "# Imprime el elemento en el índice 6 de la cadena\n",
        "\n",
        "print(Name[6])"
      ]
    },
    {
      "cell_type": "markdown",
      "metadata": {
        "application/vnd.databricks.v1+cell": {
          "inputWidgets": {},
          "nuid": "55b73ebd-cdd4-4b2c-9abe-c691447790bf",
          "showTitle": false,
          "title": ""
        },
        "id": "wunDhEp1LlDm"
      },
      "source": [
        "También, podemos acceder al treceavo elemento:"
      ]
    },
    {
      "cell_type": "code",
      "execution_count": null,
      "metadata": {
        "application/vnd.databricks.v1+cell": {
          "inputWidgets": {},
          "nuid": "4b2fe12c-7371-45ed-98a7-c417c3c886ba",
          "showTitle": false,
          "title": ""
        },
        "colab": {
          "base_uri": "https://localhost:8080/"
        },
        "id": "O12kr5vaLlDm",
        "outputId": "1f21cdfd-4527-4d93-dedc-a66e0537981d"
      },
      "outputs": [
        {
          "name": "stdout",
          "output_type": "stream",
          "text": [
            "o\n"
          ]
        }
      ],
      "source": [
        "# Imprime el elemento en el treceavo índice de la cadena\n",
        "\n",
        "print(Name[13])"
      ]
    },
    {
      "cell_type": "markdown",
      "metadata": {
        "application/vnd.databricks.v1+cell": {
          "inputWidgets": {},
          "nuid": "ef4b0aef-856e-4310-8524-e30d9fc4a7e7",
          "showTitle": false,
          "title": ""
        },
        "id": "dI0rI6gELlDm"
      },
      "source": [
        "<h3 id=\"neg\">Indexación Negativa</h3>"
      ]
    },
    {
      "cell_type": "markdown",
      "metadata": {
        "application/vnd.databricks.v1+cell": {
          "inputWidgets": {},
          "nuid": "1e699e8d-475a-4988-b27b-7bb1d0dde27a",
          "showTitle": false,
          "title": ""
        },
        "id": "7GZf0E7CLlDm"
      },
      "source": [
        "Con las cadenas tambien podemos usar la indexación negativa:"
      ]
    },
    {
      "cell_type": "markdown",
      "metadata": {
        "application/vnd.databricks.v1+cell": {
          "inputWidgets": {},
          "nuid": "222993fc-fc69-41e4-9c40-b0fed8c79e0b",
          "showTitle": false,
          "title": ""
        },
        "id": "oAzDH6TsLlDm"
      },
      "source": [
        "<img src=\"https://s3-api.us-geo.objectstorage.softlayer.net/cf-courses-data/CognitiveClass/PY0101EN/Chapter%201/Images/StringsNeg.png\" width=\"600\" align=\"center\" />"
      ]
    },
    {
      "cell_type": "markdown",
      "metadata": {
        "application/vnd.databricks.v1+cell": {
          "inputWidgets": {},
          "nuid": "21ad5ad4-ab40-4ac2-b1fd-8005a8ddc9a0",
          "showTitle": false,
          "title": ""
        },
        "id": "xkpz9elvLlDm"
      },
      "source": [
        "La indexación negativa nos sirve para numerar un elemento desde el final de una cadena."
      ]
    },
    {
      "cell_type": "markdown",
      "metadata": {
        "application/vnd.databricks.v1+cell": {
          "inputWidgets": {},
          "nuid": "9449b8f6-f62c-410e-a163-16672fb823c2",
          "showTitle": false,
          "title": ""
        },
        "id": "gCJbBpiQLlDm"
      },
      "source": [
        "El ultima elemento tiene el índice -1:"
      ]
    },
    {
      "cell_type": "code",
      "execution_count": null,
      "metadata": {
        "application/vnd.databricks.v1+cell": {
          "inputWidgets": {},
          "nuid": "8673daf2-0532-4732-9cc1-4ffde815f17a",
          "showTitle": false,
          "title": ""
        },
        "colab": {
          "base_uri": "https://localhost:8080/"
        },
        "id": "2vETMx3tLlDm",
        "outputId": "f2760a1d-8088-45c3-9b78-682a516eec57"
      },
      "outputs": [
        {
          "name": "stdout",
          "output_type": "stream",
          "text": [
            "n\n"
          ]
        }
      ],
      "source": [
        "# Imprime el último elemento de la cadena\n",
        "\n",
        "print(Name[-1])"
      ]
    },
    {
      "cell_type": "markdown",
      "metadata": {
        "application/vnd.databricks.v1+cell": {
          "inputWidgets": {},
          "nuid": "c3014bd8-dde8-4fcb-b1f0-a86bfabab7c1",
          "showTitle": false,
          "title": ""
        },
        "id": "B3WFY3B7LlDn"
      },
      "source": [
        "El primer elemento se obtiene usando como índice el -15:"
      ]
    },
    {
      "cell_type": "code",
      "execution_count": null,
      "metadata": {
        "application/vnd.databricks.v1+cell": {
          "inputWidgets": {},
          "nuid": "66c759a3-e482-4101-8427-176c62939e1b",
          "showTitle": false,
          "title": ""
        },
        "colab": {
          "base_uri": "https://localhost:8080/"
        },
        "id": "N2BAAl8iLlDn",
        "outputId": "31d7a61b-53e6-497c-e9fa-9eb2aadf80bc"
      },
      "outputs": [
        {
          "name": "stdout",
          "output_type": "stream",
          "text": [
            "M\n"
          ]
        }
      ],
      "source": [
        "# Imprime el primer elemento de la cadena\n",
        "\n",
        "print(Name[-15])"
      ]
    },
    {
      "cell_type": "markdown",
      "metadata": {
        "application/vnd.databricks.v1+cell": {
          "inputWidgets": {},
          "nuid": "0beca8f1-b3ce-45d8-a383-87b7165a9f8f",
          "showTitle": false,
          "title": ""
        },
        "id": "jCbYOaOILlDn"
      },
      "source": [
        "Para conocer la cantidad de caracteres en un cadena usamos <code>len</code>, que es la abreviación de length, en inglés significa longitud:"
      ]
    },
    {
      "cell_type": "code",
      "execution_count": null,
      "metadata": {
        "application/vnd.databricks.v1+cell": {
          "inputWidgets": {},
          "nuid": "b3a10269-12b0-4657-b731-0ebfd79b8b84",
          "showTitle": false,
          "title": ""
        },
        "colab": {
          "base_uri": "https://localhost:8080/"
        },
        "id": "PW4lL_6TLlDo",
        "outputId": "bca8444b-f931-4268-b09e-74056c61ac92"
      },
      "outputs": [
        {
          "data": {
            "text/plain": [
              "15"
            ]
          },
          "execution_count": 9,
          "metadata": {},
          "output_type": "execute_result"
        }
      ],
      "source": [
        "# Encuentra la longitud de la cadena\n",
        "\n",
        "len(\"Michael Jackson\")"
      ]
    },
    {
      "cell_type": "markdown",
      "metadata": {
        "application/vnd.databricks.v1+cell": {
          "inputWidgets": {},
          "nuid": "19a168ee-df46-4f2b-9c43-26fb8bad3100",
          "showTitle": false,
          "title": ""
        },
        "id": "G38t3ikALlDo"
      },
      "source": [
        "<h3 id=\"slice\">Slicing</h3>"
      ]
    },
    {
      "cell_type": "markdown",
      "metadata": {
        "application/vnd.databricks.v1+cell": {
          "inputWidgets": {},
          "nuid": "da37a4c2-c3d0-4857-ac65-9aa49d895fc5",
          "showTitle": false,
          "title": ""
        },
        "id": "phhCGYtNLlDo"
      },
      "source": [
        "Podemos obtener múltiples caracteres de una cadena usando el slicing, digamos desde primero hasta el cuarto y desde el octavo hasta el doceavo:"
      ]
    },
    {
      "cell_type": "markdown",
      "metadata": {
        "application/vnd.databricks.v1+cell": {
          "inputWidgets": {},
          "nuid": "a7fbdef7-db18-4da9-96f3-7da92df74bc7",
          "showTitle": false,
          "title": ""
        },
        "id": "GbcoWLQPLlD1"
      },
      "source": [
        "<img src=\"https://s3-api.us-geo.objectstorage.softlayer.net/cf-courses-data/CognitiveClass/PY0101EN/Chapter%201/Images/StringsSlice.png\" width=\"600\" align=\"center\" />"
      ]
    },
    {
      "cell_type": "markdown",
      "metadata": {
        "application/vnd.databricks.v1+cell": {
          "inputWidgets": {},
          "nuid": "226ab59e-dd92-4640-b69d-8bb7f1018903",
          "showTitle": false,
          "title": ""
        },
        "id": "dDkesjM_LlD1"
      },
      "source": [
        "<hr/>\n",
        "<div class=\"alert alert-success alertsuccess\" style=\"margin-top: 20px\">\n",
        "[Tip]: Para aplicar el slicing, el primer numero indica el índice del primer elemento, y el segundo numero indicara el índice del ultimo elemento de la sub-cadena que queremos obtener.\n",
        "</div>\n",
        "<hr/>"
      ]
    },
    {
      "cell_type": "code",
      "execution_count": null,
      "metadata": {
        "application/vnd.databricks.v1+cell": {
          "inputWidgets": {},
          "nuid": "ccba6bf2-5333-4e5a-a3ad-ddf3bc818c02",
          "showTitle": false,
          "title": ""
        },
        "colab": {
          "base_uri": "https://localhost:8080/",
          "height": 35
        },
        "id": "CXv_jegvLlD2",
        "outputId": "73aeb763-d8a4-45cd-feb5-d6feb845b739"
      },
      "outputs": [
        {
          "data": {
            "application/vnd.google.colaboratory.intrinsic+json": {
              "type": "string"
            },
            "text/plain": [
              "'Mich'"
            ]
          },
          "execution_count": 10,
          "metadata": {},
          "output_type": "execute_result"
        }
      ],
      "source": [
        "# Asigna una seccion de la cadena dentro de la variable Name usando los indices desde el 0 hasta el 3\n",
        "\n",
        "Name[0:4]"
      ]
    },
    {
      "cell_type": "code",
      "execution_count": null,
      "metadata": {
        "application/vnd.databricks.v1+cell": {
          "inputWidgets": {},
          "nuid": "22f39e7a-d6ae-445a-b4fa-ec6faa54e047",
          "showTitle": false,
          "title": ""
        },
        "colab": {
          "base_uri": "https://localhost:8080/",
          "height": 35
        },
        "id": "e_Cf8LMILlD2",
        "outputId": "f60cba7b-83ce-4c3d-95c3-1ac9817155ed"
      },
      "outputs": [
        {
          "data": {
            "application/vnd.google.colaboratory.intrinsic+json": {
              "type": "string"
            },
            "text/plain": [
              "'Jack'"
            ]
          },
          "execution_count": 11,
          "metadata": {},
          "output_type": "execute_result"
        }
      ],
      "source": [
        "# Asigna una seccion de la cadena dentro de la variable Name usando los indices desde el 8 hasta el 11\n",
        "\n",
        "Name[8:12]"
      ]
    },
    {
      "cell_type": "markdown",
      "metadata": {
        "application/vnd.databricks.v1+cell": {
          "inputWidgets": {},
          "nuid": "7e9cea89-8472-4e3e-8c7e-ae6be95be267",
          "showTitle": false,
          "title": ""
        },
        "id": "Q3eXzwOILlD2"
      },
      "source": [
        "<h3 id=\"stride\">Stride</h3>"
      ]
    },
    {
      "cell_type": "markdown",
      "metadata": {
        "application/vnd.databricks.v1+cell": {
          "inputWidgets": {},
          "nuid": "9c07eeb9-1a6b-4c0e-9fad-001b24a65953",
          "showTitle": false,
          "title": ""
        },
        "id": "cRNCCUgVLlD2"
      },
      "source": [
        "Para usar la técnica del stride debemos asignar un valor que a continuación se explica, si usamos el '2' por ejemplo, estaremos indicando que queremos seleccionar solamente cada segundo elemento de la cadena:"
      ]
    },
    {
      "cell_type": "markdown",
      "metadata": {
        "application/vnd.databricks.v1+cell": {
          "inputWidgets": {},
          "nuid": "7c39cfc4-298c-43c4-99a1-b625967921ef",
          "showTitle": false,
          "title": ""
        },
        "id": "XopOzBSlLlD2"
      },
      "source": [
        "<img src=\"https://s3-api.us-geo.objectstorage.softlayer.net/cf-courses-data/CognitiveClass/PY0101EN/Chapter%201/Images/StringsStride.png\" width=\"600\" align=\"center\" />"
      ]
    },
    {
      "cell_type": "code",
      "execution_count": null,
      "metadata": {
        "application/vnd.databricks.v1+cell": {
          "inputWidgets": {},
          "nuid": "fdaefc84-384d-415a-a079-123a601deeb1",
          "showTitle": false,
          "title": ""
        },
        "colab": {
          "base_uri": "https://localhost:8080/",
          "height": 35
        },
        "id": "gr9cElyALlD2",
        "outputId": "5ec293df-9766-48d1-d4f7-d3476218d86c"
      },
      "outputs": [
        {
          "data": {
            "application/vnd.google.colaboratory.intrinsic+json": {
              "type": "string"
            },
            "text/plain": [
              "'McalJcsn'"
            ]
          },
          "execution_count": 12,
          "metadata": {},
          "output_type": "execute_result"
        }
      ],
      "source": [
        "# Toma cada segundo elemento. Los elementos con índice 1, 3, 5 ...\n",
        "\n",
        "Name[::2]"
      ]
    },
    {
      "cell_type": "markdown",
      "metadata": {
        "application/vnd.databricks.v1+cell": {
          "inputWidgets": {},
          "nuid": "05fb0838-a4de-486b-88e4-9834bc8e01d7",
          "showTitle": false,
          "title": ""
        },
        "id": "NjmSGVYXLlD3"
      },
      "source": [
        "También Podemos combinar el slicing con el stride. Para este caso, seleccionamos los primeros cinco elementos y después aplicamos stride:"
      ]
    },
    {
      "cell_type": "code",
      "execution_count": null,
      "metadata": {
        "application/vnd.databricks.v1+cell": {
          "inputWidgets": {},
          "nuid": "808f6d84-22b3-41a1-856c-94b54061aa71",
          "showTitle": false,
          "title": ""
        },
        "colab": {
          "base_uri": "https://localhost:8080/",
          "height": 35
        },
        "id": "tE-kNu8lLlD3",
        "outputId": "a0263f81-d29d-40a9-d74c-2161142822f5"
      },
      "outputs": [
        {
          "data": {
            "application/vnd.google.colaboratory.intrinsic+json": {
              "type": "string"
            },
            "text/plain": [
              "'Mca'"
            ]
          },
          "execution_count": 13,
          "metadata": {},
          "output_type": "execute_result"
        }
      ],
      "source": [
        "# Toma cada segundo elemento desde el índice 0 al 4\n",
        "\n",
        "Name[0:5:2]"
      ]
    },
    {
      "cell_type": "markdown",
      "metadata": {
        "application/vnd.databricks.v1+cell": {
          "inputWidgets": {},
          "nuid": "9be577d4-4e55-4d17-8bcd-faf94f7d42b8",
          "showTitle": false,
          "title": ""
        },
        "id": "arJRJIinLlD3"
      },
      "source": [
        "<h3 id=\"concat\">Concatenar Cadenas</h3>"
      ]
    },
    {
      "cell_type": "markdown",
      "metadata": {
        "application/vnd.databricks.v1+cell": {
          "inputWidgets": {},
          "nuid": "ca9879b1-5dac-40ff-83b0-82c0e32e964e",
          "showTitle": false,
          "title": ""
        },
        "id": "-oaBYF0JLlD3"
      },
      "source": [
        "Podemos concatenar o combinar cadenas usando el símbolo de suma, el resultado será una nueva cadena que surge de la combinación de ambas:"
      ]
    },
    {
      "cell_type": "code",
      "execution_count": null,
      "metadata": {
        "application/vnd.databricks.v1+cell": {
          "inputWidgets": {},
          "nuid": "fe24609a-7daa-4090-9c24-36571c5e61ea",
          "showTitle": false,
          "title": ""
        },
        "colab": {
          "base_uri": "https://localhost:8080/",
          "height": 35
        },
        "id": "KLqMoGMHLlD3",
        "outputId": "bd78b384-88ba-44e0-e5f0-8615a67709f9"
      },
      "outputs": [
        {
          "data": {
            "application/vnd.google.colaboratory.intrinsic+json": {
              "type": "string"
            },
            "text/plain": [
              "'Michael Jacksonis the best'"
            ]
          },
          "execution_count": 14,
          "metadata": {},
          "output_type": "execute_result"
        }
      ],
      "source": [
        "# Concatenar dos cadenas\n",
        "\n",
        "Statement = Name + \"is the best\"\n",
        "Statement"
      ]
    },
    {
      "cell_type": "markdown",
      "metadata": {
        "application/vnd.databricks.v1+cell": {
          "inputWidgets": {},
          "nuid": "b0133664-e3e3-4d83-8c81-a8199b2a76cb",
          "showTitle": false,
          "title": ""
        },
        "id": "hE9SZTKHLlD3"
      },
      "source": [
        "Para replicar los valores en una cadena simplemente podemos multiplicarla por el numero de veces que deseemos. Para este caso, el numero de veces es tres. El resultado es una nueva cadena, la cual consiste en tres copias de la original:"
      ]
    },
    {
      "cell_type": "code",
      "execution_count": null,
      "metadata": {
        "application/vnd.databricks.v1+cell": {
          "inputWidgets": {},
          "nuid": "5e196dbe-1920-4bb8-bb51-391ba73ec80e",
          "showTitle": false,
          "title": ""
        },
        "colab": {
          "base_uri": "https://localhost:8080/",
          "height": 35
        },
        "id": "V4yIcO1ULlD4",
        "outputId": "5210f894-c7f4-4ab1-b1c5-b423760d0e92"
      },
      "outputs": [
        {
          "data": {
            "application/vnd.google.colaboratory.intrinsic+json": {
              "type": "string"
            },
            "text/plain": [
              "'Michael JacksonMichael JacksonMichael Jackson'"
            ]
          },
          "execution_count": 15,
          "metadata": {},
          "output_type": "execute_result"
        }
      ],
      "source": [
        "# Imprime la cadena 3 veces\n",
        "\n",
        "3 * \"Michael Jackson\""
      ]
    },
    {
      "cell_type": "markdown",
      "metadata": {
        "application/vnd.databricks.v1+cell": {
          "inputWidgets": {},
          "nuid": "90c2c1d7-0c9c-46a5-ab5c-2d40eea40657",
          "showTitle": false,
          "title": ""
        },
        "id": "CQh4sh-DLlD4"
      },
      "source": [
        "Se puede crear una nueva cadena añadiendo otra a la original contenida en la variable. Concatenada con una nueva cadena, el resultado es otra diferente, Michael Jackson pasó a ser “Michael Jackson is the best”."
      ]
    },
    {
      "cell_type": "code",
      "execution_count": null,
      "metadata": {
        "application/vnd.databricks.v1+cell": {
          "inputWidgets": {},
          "nuid": "b575a573-242d-4252-a8c9-08e1c4923d06",
          "showTitle": false,
          "title": ""
        },
        "colab": {
          "base_uri": "https://localhost:8080/",
          "height": 35
        },
        "id": "ipan0xuHLlD4",
        "outputId": "4d86139b-8e71-441d-8472-922f45464156"
      },
      "outputs": [
        {
          "data": {
            "application/vnd.google.colaboratory.intrinsic+json": {
              "type": "string"
            },
            "text/plain": [
              "'Michael Jackson is the best'"
            ]
          },
          "execution_count": 16,
          "metadata": {},
          "output_type": "execute_result"
        }
      ],
      "source": [
        "# Concatenar cadenas\n",
        "\n",
        "Name = \"Michael Jackson\"\n",
        "Name = Name + \" is the best\"\n",
        "Name"
      ]
    },
    {
      "cell_type": "markdown",
      "metadata": {
        "application/vnd.databricks.v1+cell": {
          "inputWidgets": {},
          "nuid": "3d6fafbb-5f58-4dac-935d-53cee7005b15",
          "showTitle": false,
          "title": ""
        },
        "id": "5clMRy-7LlD5"
      },
      "source": [
        "<h2 id=\"escape\">Secuencias de Escape</h2>"
      ]
    },
    {
      "cell_type": "markdown",
      "metadata": {
        "application/vnd.databricks.v1+cell": {
          "inputWidgets": {},
          "nuid": "c9b105cd-5a60-4dc0-895d-d44babb45a58",
          "showTitle": false,
          "title": ""
        },
        "id": "KUQU_1AuLlD5"
      },
      "source": [
        "Una barra invertida representa el inicio de una secuencia de escape. Estas representan cadenas que pudieran ser difíciles de introducir. Por ejemplo, una barra invertida seguida de una \"n\" representa un salto de línea. En la salida de pantalla tendremos un salto de línea cada vez que una barra invertida y la letra \"n\" sea encontrada."
      ]
    },
    {
      "cell_type": "code",
      "execution_count": null,
      "metadata": {
        "application/vnd.databricks.v1+cell": {
          "inputWidgets": {},
          "nuid": "6c7578ab-35cd-4edc-8316-6a5bc0ddb17e",
          "showTitle": false,
          "title": ""
        },
        "colab": {
          "base_uri": "https://localhost:8080/"
        },
        "id": "Cq-SxB9XLlD5",
        "outputId": "0b5a86d8-9186-4aa2-96c6-a3850aab714a"
      },
      "outputs": [
        {
          "name": "stdout",
          "output_type": "stream",
          "text": [
            " Michael Jackson \n",
            " is the best\n"
          ]
        }
      ],
      "source": [
        "# Secuencia de escape para un Salto de línea\n",
        "\n",
        "print(\" Michael Jackson \\n is the best\" )"
      ]
    },
    {
      "cell_type": "markdown",
      "metadata": {
        "application/vnd.databricks.v1+cell": {
          "inputWidgets": {},
          "nuid": "6b374585-947b-44e0-992b-365e5327e30b",
          "showTitle": false,
          "title": ""
        },
        "id": "Mx1gd7rvLlD6"
      },
      "source": [
        "De igual forma, barra invertida \"t\" aplicará un espacio de tabulación:"
      ]
    },
    {
      "cell_type": "code",
      "execution_count": null,
      "metadata": {
        "application/vnd.databricks.v1+cell": {
          "inputWidgets": {},
          "nuid": "84df098e-dd52-4542-adef-519de5c326d3",
          "showTitle": false,
          "title": ""
        },
        "colab": {
          "base_uri": "https://localhost:8080/"
        },
        "id": "uFh5j2ibLlD6",
        "outputId": "cc3ef773-9454-4115-d832-6640cac881de"
      },
      "outputs": [
        {
          "name": "stdout",
          "output_type": "stream",
          "text": [
            " Michael Jackson \t is the best\n"
          ]
        }
      ],
      "source": [
        "# Secuencia de escape para un espacio de tabulación\n",
        "\n",
        "print(\" Michael Jackson \\t is the best\" )"
      ]
    },
    {
      "cell_type": "markdown",
      "metadata": {
        "application/vnd.databricks.v1+cell": {
          "inputWidgets": {},
          "nuid": "5ef8b346-82cd-4bdc-8b5b-8001e827e6f1",
          "showTitle": false,
          "title": ""
        },
        "id": "-50CqWYXLlD6"
      },
      "source": [
        "En caso de quieras que una barra invertida forme parte de una cadena, utiliza una doble barra invertida:"
      ]
    },
    {
      "cell_type": "code",
      "execution_count": null,
      "metadata": {
        "application/vnd.databricks.v1+cell": {
          "inputWidgets": {},
          "nuid": "677d6591-409e-4b00-86f6-1f5233f4eef4",
          "showTitle": false,
          "title": ""
        },
        "colab": {
          "base_uri": "https://localhost:8080/"
        },
        "id": "nW-pwCCpLlD6",
        "outputId": "80013e92-434c-441e-da61-dd56e607d207"
      },
      "outputs": [
        {
          "name": "stdout",
          "output_type": "stream",
          "text": [
            " Michael Jackson \\ is the best\n"
          ]
        }
      ],
      "source": [
        "# Incluir una barra invertida en una cadena\n",
        "\n",
        "print(\" Michael Jackson \\\\ is the best\" )"
      ]
    },
    {
      "cell_type": "markdown",
      "metadata": {
        "application/vnd.databricks.v1+cell": {
          "inputWidgets": {},
          "nuid": "540604f1-e9ef-4bcf-959c-20ba8ffd67c7",
          "showTitle": false,
          "title": ""
        },
        "id": "NCP1sLpoLlD7"
      },
      "source": [
        "Otra forma de hacer que se muestre la barra invertida de una cadena es colocando antes una “r”:"
      ]
    },
    {
      "cell_type": "code",
      "execution_count": null,
      "metadata": {
        "application/vnd.databricks.v1+cell": {
          "inputWidgets": {},
          "nuid": "3c299dd8-0c47-4f4b-9642-028300059880",
          "showTitle": false,
          "title": ""
        },
        "colab": {
          "base_uri": "https://localhost:8080/"
        },
        "id": "8_Pa3gHKLlD7",
        "outputId": "69dc3780-e7cf-4115-949f-8c3c20f6251d"
      },
      "outputs": [
        {
          "name": "stdout",
          "output_type": "stream",
          "text": [
            " Michael Jackson \\ is the best\n"
          ]
        }
      ],
      "source": [
        "# La letra r le dirá a python que muestre la cadena tal cual e ignore lo que haya despues de la barra invertida\n",
        "\n",
        "print(r\" Michael Jackson \\ is the best\" )"
      ]
    },
    {
      "cell_type": "markdown",
      "metadata": {
        "application/vnd.databricks.v1+cell": {
          "inputWidgets": {},
          "nuid": "aa0de817-641b-4893-a0ab-e0b7f66b5fbc",
          "showTitle": false,
          "title": ""
        },
        "id": "VbXgy7o1LlD7"
      },
      "source": [
        "<h2 id=\"operations\">Operaciones con Cadenas</h2>"
      ]
    },
    {
      "cell_type": "markdown",
      "metadata": {
        "application/vnd.databricks.v1+cell": {
          "inputWidgets": {},
          "nuid": "e9eb402f-2691-460d-a980-7d7e3ec1c89c",
          "showTitle": false,
          "title": ""
        },
        "id": "_pGfDRmLLlD7"
      },
      "source": [
        "En Python existen muchos métodos para hacer operaciones con cadenas que pueden ser usados para manipular datos. Usaremos algunas operaciones básicas con cadenas."
      ]
    },
    {
      "cell_type": "markdown",
      "metadata": {
        "application/vnd.databricks.v1+cell": {
          "inputWidgets": {},
          "nuid": "17ffb4f6-e366-4b3e-9d21-a39d62b8f23c",
          "showTitle": false,
          "title": ""
        },
        "id": "fB60eZ3MLlD8"
      },
      "source": [
        "Usemos ahora el método <code>upper</code>; este método convierte los caracteres de minúsculas a mayúsculas:"
      ]
    },
    {
      "cell_type": "code",
      "execution_count": null,
      "metadata": {
        "application/vnd.databricks.v1+cell": {
          "inputWidgets": {},
          "nuid": "05622a9b-5c39-4f3c-9e47-734de5018ce4",
          "showTitle": false,
          "title": ""
        },
        "colab": {
          "base_uri": "https://localhost:8080/"
        },
        "id": "blOvwdnmLlD8",
        "outputId": "3cabc254-a89e-4997-85fa-0759cd5728be"
      },
      "outputs": [
        {
          "name": "stdout",
          "output_type": "stream",
          "text": [
            "before upper: Thriller is the sixth studio album\n",
            "After upper: THRILLER IS THE SIXTH STUDIO ALBUM\n"
          ]
        }
      ],
      "source": [
        "# Convertir todos los caracteres de la cadena en mayúsculas\n",
        "\n",
        "A = \"Thriller is the sixth studio album\"\n",
        "print(\"before upper:\", A)\n",
        "B = A.upper()\n",
        "print(\"After upper:\", B)"
      ]
    },
    {
      "cell_type": "markdown",
      "metadata": {
        "application/vnd.databricks.v1+cell": {
          "inputWidgets": {},
          "nuid": "dc45b42d-0846-4696-abc9-e99a68b2e1be",
          "showTitle": false,
          "title": ""
        },
        "id": "gWWqWvW6LlD8"
      },
      "source": [
        "El método <code>replace</code> reemplaza un segmento de la cadena, p.ej. una sub-cadena por una nueva. Introducimos primero la parte de la cadena que queremos cambiar. En el segundo argumento pondremos el segmento que reemplazara al anterior, el resultado será una nueva cadena con una de sus partes modificada:"
      ]
    },
    {
      "cell_type": "code",
      "execution_count": null,
      "metadata": {
        "application/vnd.databricks.v1+cell": {
          "inputWidgets": {},
          "nuid": "8d0cdb35-4a72-42d7-a5d9-047a3daad3d4",
          "showTitle": false,
          "title": ""
        },
        "colab": {
          "base_uri": "https://localhost:8080/",
          "height": 35
        },
        "id": "SCKuejUkLlD8",
        "outputId": "967d661d-7d93-4bd8-c125-3cc4990ee79f"
      },
      "outputs": [
        {
          "data": {
            "application/vnd.google.colaboratory.intrinsic+json": {
              "type": "string"
            },
            "text/plain": [
              "'Janet Jackson is the best'"
            ]
          },
          "execution_count": 37,
          "metadata": {},
          "output_type": "execute_result"
        }
      ],
      "source": [
        "# Reemplazar la vieja sub-cadena por una nueva\n",
        "\n",
        "A = \"Michael Jackson is the best\"\n",
        "B = A.replace('Michael', 'Janet')\n",
        "B"
      ]
    },
    {
      "cell_type": "markdown",
      "metadata": {
        "application/vnd.databricks.v1+cell": {
          "inputWidgets": {},
          "nuid": "b3577d50-6516-4fbf-8d4d-01639fc55e2f",
          "showTitle": false,
          "title": ""
        },
        "id": "IyjuvnB5LlD8"
      },
      "source": [
        "La función del método <code>find</code> es encontrar una sub-cadena. El argumento del método es la sub-cadena que deseas encontrar, y el resultado será el numero del índice perteneciente al primer carácter de la sub-cadena. Podemos encontrar la sub-cadena <code>jack</code> o <code>el</code>."
      ]
    },
    {
      "cell_type": "markdown",
      "metadata": {
        "application/vnd.databricks.v1+cell": {
          "inputWidgets": {},
          "nuid": "bd08cea0-0d32-4dee-a7f6-82e927a03bff",
          "showTitle": false,
          "title": ""
        },
        "id": "6Xq03TCMLlD8"
      },
      "source": [
        "<img src=\"https://s3-api.us-geo.objectstorage.softlayer.net/cf-courses-data/CognitiveClass/PY0101EN/Chapter%201/Images/StringsFind.png\" width=\"600\" align=\"center\" />"
      ]
    },
    {
      "cell_type": "code",
      "execution_count": null,
      "metadata": {
        "application/vnd.databricks.v1+cell": {
          "inputWidgets": {},
          "nuid": "c28dcd0f-71bb-4c4a-bc7b-46e94156ff92",
          "showTitle": false,
          "title": ""
        },
        "colab": {
          "base_uri": "https://localhost:8080/"
        },
        "id": "OFyFObc6LlD9",
        "outputId": "12001f95-2d05-45b9-d6a8-7056b1fb0ccd"
      },
      "outputs": [
        {
          "data": {
            "text/plain": [
              "5"
            ]
          },
          "execution_count": 38,
          "metadata": {},
          "output_type": "execute_result"
        }
      ],
      "source": [
        "# Encontrar la sub-cadena. El resultado será unicamente el índice del primer elemente de la sub-cadena dentro de la cadena principal.\n",
        "\n",
        "Name = \"Michael Jackson\"\n",
        "Name.find('el')"
      ]
    },
    {
      "cell_type": "code",
      "execution_count": null,
      "metadata": {
        "application/vnd.databricks.v1+cell": {
          "inputWidgets": {},
          "nuid": "da2dc5bb-48b0-46d6-a5d6-c915ec0ab6e0",
          "showTitle": false,
          "title": ""
        },
        "colab": {
          "base_uri": "https://localhost:8080/"
        },
        "id": "hkZeM0m_LlD9",
        "outputId": "a7e4405d-e1f1-43f2-a4b4-8f29d4f911df"
      },
      "outputs": [
        {
          "data": {
            "text/plain": [
              "8"
            ]
          },
          "execution_count": 39,
          "metadata": {},
          "output_type": "execute_result"
        }
      ],
      "source": [
        "# Encotrar la sub-cadena dentro de la cadena.\n",
        "\n",
        "Name.find('Jack')"
      ]
    },
    {
      "cell_type": "markdown",
      "metadata": {
        "application/vnd.databricks.v1+cell": {
          "inputWidgets": {},
          "nuid": "804d4f0e-acdc-4bba-bda1-49b2fb040bbd",
          "showTitle": false,
          "title": ""
        },
        "id": "N15KuDncLlD9"
      },
      "source": [
        "Si la sub-cadena no se encuentra en la cadena principal el resultado será -1. Por ejemplo, la cadena 'Jasdfasdasdf' no es una sub-cadena:"
      ]
    },
    {
      "cell_type": "code",
      "execution_count": null,
      "metadata": {
        "application/vnd.databricks.v1+cell": {
          "inputWidgets": {},
          "nuid": "70870236-7a8c-456c-b2e4-6f7bb79f8cb3",
          "showTitle": false,
          "title": ""
        },
        "colab": {
          "base_uri": "https://localhost:8080/"
        },
        "collapsed": true,
        "id": "fCVQUftALlD9",
        "outputId": "c9ceb6e4-6a42-4704-97ed-e78ccde2b64a"
      },
      "outputs": [
        {
          "data": {
            "text/plain": [
              "-1"
            ]
          },
          "execution_count": 40,
          "metadata": {},
          "output_type": "execute_result"
        }
      ],
      "source": [
        "# Si no se encuentra la sub-cadena en la cadena principal\n",
        "\n",
        "Name.find('Jasdfasdasdf')"
      ]
    },
    {
      "cell_type": "markdown",
      "metadata": {
        "application/vnd.databricks.v1+cell": {
          "inputWidgets": {},
          "nuid": "8cfcb624-f5f8-4433-b094-7ad339e9d7ae",
          "showTitle": false,
          "title": ""
        },
        "id": "TXpljxRfLlD9"
      },
      "source": [
        "<h2 id=\"quiz\">Exámen sobre Cadenas</h2>"
      ]
    },
    {
      "cell_type": "markdown",
      "metadata": {
        "application/vnd.databricks.v1+cell": {
          "inputWidgets": {},
          "nuid": "8cac69a8-c656-4388-8e47-091031ce304e",
          "showTitle": false,
          "title": ""
        },
        "id": "ZQbO80d5LlD9"
      },
      "source": [
        "¿Cual es el valor de la variable <code>A</code> después de ejecutar el siguiente código?"
      ]
    },
    {
      "cell_type": "code",
      "execution_count": null,
      "metadata": {
        "application/vnd.databricks.v1+cell": {
          "inputWidgets": {},
          "nuid": "ddb3b91a-cb39-4ff4-a4a3-dedfe6fb5ed9",
          "showTitle": false,
          "title": ""
        },
        "colab": {
          "base_uri": "https://localhost:8080/",
          "height": 35
        },
        "collapsed": true,
        "id": "_RDYbFppLlD9",
        "outputId": "253e6a1e-2c1a-499e-c944-b17cde63754b"
      },
      "outputs": [
        {
          "data": {
            "application/vnd.google.colaboratory.intrinsic+json": {
              "type": "string"
            },
            "text/plain": [
              "'1'"
            ]
          },
          "execution_count": 24,
          "metadata": {},
          "output_type": "execute_result"
        }
      ],
      "source": [
        "# Escribe abajo tu código y presiona Shift+Enter para ejecutarlo\n",
        "\n",
        "A = \"1\"\n",
        "A"
      ]
    },
    {
      "cell_type": "markdown",
      "metadata": {
        "application/vnd.databricks.v1+cell": {
          "inputWidgets": {},
          "nuid": "811acc28-880a-442e-875c-13b1437ec777",
          "showTitle": false,
          "title": ""
        },
        "id": "ZdgHwYWBLlD-"
      },
      "source": [
        "Haz doble click <b>aquí</b> para ver la solución.\n",
        "\n",
        "<!-- Your answer is below:\n",
        "\"1\"\n",
        "-->"
      ]
    },
    {
      "cell_type": "markdown",
      "metadata": {
        "application/vnd.databricks.v1+cell": {
          "inputWidgets": {},
          "nuid": "4a2b11b3-7994-4d9c-9c9c-fe09ff58516e",
          "showTitle": false,
          "title": ""
        },
        "id": "b_PQ7NVgLlD-"
      },
      "source": [
        "¿Cual es el valor de la variable <code>B</code> después de ejecutar el siguiente código?"
      ]
    },
    {
      "cell_type": "code",
      "execution_count": null,
      "metadata": {
        "application/vnd.databricks.v1+cell": {
          "inputWidgets": {},
          "nuid": "b7b54f58-f3b7-4e87-bbe9-84fa5ef80eb7",
          "showTitle": false,
          "title": ""
        },
        "colab": {
          "base_uri": "https://localhost:8080/",
          "height": 35
        },
        "id": "6JMZUZMYLlD-",
        "outputId": "9892f7e2-52d8-4191-db21-05673ebba35e"
      },
      "outputs": [
        {
          "data": {
            "application/vnd.google.colaboratory.intrinsic+json": {
              "type": "string"
            },
            "text/plain": [
              "'2'"
            ]
          },
          "execution_count": 25,
          "metadata": {},
          "output_type": "execute_result"
        }
      ],
      "source": [
        "# Escribe abajo tu código y presiona Shift+Enter para ejecutarlo\n",
        "\n",
        "B = \"2\"\n",
        "B"
      ]
    },
    {
      "cell_type": "markdown",
      "metadata": {
        "application/vnd.databricks.v1+cell": {
          "inputWidgets": {},
          "nuid": "e23964d1-cdac-43c4-ac42-855cc74f0eba",
          "showTitle": false,
          "title": ""
        },
        "id": "tkT3-uNQLlD-"
      },
      "source": [
        "Haz doble click <b>aquí</b> para ver la solución.\n",
        "\n",
        "<!-- Your answer is below:\n",
        "\"2\"\n",
        "-->"
      ]
    },
    {
      "cell_type": "markdown",
      "metadata": {
        "application/vnd.databricks.v1+cell": {
          "inputWidgets": {},
          "nuid": "956a96c3-9fdd-45bf-95f4-3bb6b019a3be",
          "showTitle": false,
          "title": ""
        },
        "id": "tBnjcK7wLlD-"
      },
      "source": [
        "¿Cual es el valor de la variable <code>C</code> después de ejecutar el siguiente código?"
      ]
    },
    {
      "cell_type": "code",
      "execution_count": null,
      "metadata": {
        "application/vnd.databricks.v1+cell": {
          "inputWidgets": {},
          "nuid": "33186c3e-73c4-4983-ad57-127675d91e4b",
          "showTitle": false,
          "title": ""
        },
        "colab": {
          "base_uri": "https://localhost:8080/",
          "height": 35
        },
        "id": "HjLHToHzLlD_",
        "outputId": "3d72c33a-a800-4997-fccb-83ae5caeab25"
      },
      "outputs": [
        {
          "data": {
            "application/vnd.google.colaboratory.intrinsic+json": {
              "type": "string"
            },
            "text/plain": [
              "'12'"
            ]
          },
          "execution_count": 26,
          "metadata": {},
          "output_type": "execute_result"
        }
      ],
      "source": [
        "# Escribe abajo tu código y presiona Shift+Enter para ejecutarlo\n",
        "\n",
        "C = A + B\n",
        "C"
      ]
    },
    {
      "cell_type": "markdown",
      "metadata": {
        "application/vnd.databricks.v1+cell": {
          "inputWidgets": {},
          "nuid": "b703193a-ff7c-4bf2-8c03-c814e4cf9f3a",
          "showTitle": false,
          "title": ""
        },
        "id": "aDPecA6sLlD_"
      },
      "source": [
        "Haz doble click <b>aquí</b> para ver la solución.\n",
        "\n",
        "<!-- Your answer is below:\n",
        "\"12\"\n",
        "-->"
      ]
    },
    {
      "cell_type": "markdown",
      "metadata": {
        "application/vnd.databricks.v1+cell": {
          "inputWidgets": {},
          "nuid": "1ed60bff-748e-4c67-8307-04520da43b97",
          "showTitle": false,
          "title": ""
        },
        "id": "tbmRZf8uLlD_"
      },
      "source": [
        "En la variable <code>D</code> haz uso del slicing para imprimir solo los primeros tres elementos:"
      ]
    },
    {
      "cell_type": "code",
      "execution_count": null,
      "metadata": {
        "application/vnd.databricks.v1+cell": {
          "inputWidgets": {},
          "nuid": "0bbc3088-0e6a-4ef3-ae51-f776a7f079ad",
          "showTitle": false,
          "title": ""
        },
        "colab": {
          "base_uri": "https://localhost:8080/",
          "height": 35
        },
        "id": "-AoCU9_QLlD_",
        "outputId": "4d6f75f7-652c-4e8a-d645-6eb7637616c5"
      },
      "outputs": [
        {
          "data": {
            "application/vnd.google.colaboratory.intrinsic+json": {
              "type": "string"
            },
            "text/plain": [
              "'ABC'"
            ]
          },
          "execution_count": 29,
          "metadata": {},
          "output_type": "execute_result"
        }
      ],
      "source": [
        "# Escribe abajo tu código y presiona Shift+Enter para ejecutarlo\n",
        "\n",
        "D = \"ABCDEFG\"\n",
        "\n",
        "#Aplicando slicing poniendo cadena[#:#] podemos obtener los elementos consecutivos que deseemos. Para este caso:\n",
        "D[0:3]"
      ]
    },
    {
      "cell_type": "markdown",
      "metadata": {
        "application/vnd.databricks.v1+cell": {
          "inputWidgets": {},
          "nuid": "a13e5374-233c-4bd8-98c7-68393522680a",
          "showTitle": false,
          "title": ""
        },
        "id": "oDWJ2WGkLlD_"
      },
      "source": [
        "Haz doble click <b>aquí</b> para ver la solución.\n",
        "\n",
        "<!-- Your answer is below:\n",
        "print(D[:3])\n",
        "# or\n",
        "print(D[0:3])\n",
        "-->"
      ]
    },
    {
      "cell_type": "markdown",
      "metadata": {
        "application/vnd.databricks.v1+cell": {
          "inputWidgets": {},
          "nuid": "d4f53ebb-1961-48e4-9349-1a1cb3ed43ac",
          "showTitle": false,
          "title": ""
        },
        "id": "ibQvIlc0LlD_"
      },
      "source": [
        "Usa un valor de stride de 2 para imprimir cada segundo elemento de la cadena <code>E</code>:"
      ]
    },
    {
      "cell_type": "code",
      "execution_count": null,
      "metadata": {
        "application/vnd.databricks.v1+cell": {
          "inputWidgets": {},
          "nuid": "f317b44a-0374-4bce-a3bc-6b0d29a1c342",
          "showTitle": false,
          "title": ""
        },
        "colab": {
          "base_uri": "https://localhost:8080/",
          "height": 35
        },
        "id": "XAhmpzAvLlD_",
        "outputId": "f998f76c-92a3-4072-e6e5-0b5d1995fced"
      },
      "outputs": [
        {
          "data": {
            "application/vnd.google.colaboratory.intrinsic+json": {
              "type": "string"
            },
            "text/plain": [
              "'correct'"
            ]
          },
          "execution_count": 30,
          "metadata": {},
          "output_type": "execute_result"
        }
      ],
      "source": [
        "# Escribe abajo tu código y presiona Shift+Enter para ejecutarlo\n",
        "\n",
        "E = 'clocrkr1e1c1t'\n",
        "\n",
        "E[::2]"
      ]
    },
    {
      "cell_type": "markdown",
      "metadata": {
        "application/vnd.databricks.v1+cell": {
          "inputWidgets": {},
          "nuid": "4e105545-8319-47d1-922f-eac36fe75143",
          "showTitle": false,
          "title": ""
        },
        "id": "X68EW9y0LlEA"
      },
      "source": [
        "Haz doble click <b>aquí</b> para ver la solución.\n",
        "<!-- Your answer is below:\n",
        "print(E[::2])\n",
        "-->"
      ]
    },
    {
      "cell_type": "markdown",
      "metadata": {
        "application/vnd.databricks.v1+cell": {
          "inputWidgets": {},
          "nuid": "2169c64c-7206-4937-a581-0526a875b9d9",
          "showTitle": false,
          "title": ""
        },
        "id": "5A7SzgI0LlEA"
      },
      "source": [
        "Imprime una barra invertida:"
      ]
    },
    {
      "cell_type": "code",
      "execution_count": null,
      "metadata": {
        "application/vnd.databricks.v1+cell": {
          "inputWidgets": {},
          "nuid": "87af61d8-086c-4ca5-8684-c5573bac909c",
          "showTitle": false,
          "title": ""
        },
        "colab": {
          "base_uri": "https://localhost:8080/"
        },
        "id": "87eqnCVxLlEA",
        "outputId": "6824e908-8a6d-47d3-8975-944b102d977f"
      },
      "outputs": [
        {
          "name": "stdout",
          "output_type": "stream",
          "text": [
            "\\\n"
          ]
        }
      ],
      "source": [
        "# Escribe abajo tu código y presiona Shift+Enter para ejecutarlo\n",
        "print(\"\\\\\")"
      ]
    },
    {
      "cell_type": "markdown",
      "metadata": {
        "application/vnd.databricks.v1+cell": {
          "inputWidgets": {},
          "nuid": "30b509f5-df31-4eff-8534-2604cf6405b1",
          "showTitle": false,
          "title": ""
        },
        "id": "InYFhpLQLlEA"
      },
      "source": [
        "Haz doble click <b>aquí</b> para ver la solución.\n",
        "<!-- Your answer is below:\n",
        "print(\"\\\\\")\n",
        "or\n",
        "print(r\" \\ \")\n",
        "-->"
      ]
    },
    {
      "cell_type": "markdown",
      "metadata": {
        "application/vnd.databricks.v1+cell": {
          "inputWidgets": {},
          "nuid": "6814f6cf-b035-4461-b318-7d7471cbcf94",
          "showTitle": false,
          "title": ""
        },
        "id": "4N9Q9DnWLlEA"
      },
      "source": [
        "Convierte el mayúsculas el contenido de la variable <code>F</code>:"
      ]
    },
    {
      "cell_type": "code",
      "execution_count": null,
      "metadata": {
        "application/vnd.databricks.v1+cell": {
          "inputWidgets": {},
          "nuid": "034ad3a9-1ef9-419d-9362-8fd0286e5f47",
          "showTitle": false,
          "title": ""
        },
        "colab": {
          "base_uri": "https://localhost:8080/",
          "height": 35
        },
        "id": "YbwxMLTsLlEA",
        "outputId": "796ddb9b-7de1-4504-9dd0-835099caafca"
      },
      "outputs": [
        {
          "data": {
            "application/vnd.google.colaboratory.intrinsic+json": {
              "type": "string"
            },
            "text/plain": [
              "'YOU ARE WRONG'"
            ]
          },
          "execution_count": 41,
          "metadata": {},
          "output_type": "execute_result"
        }
      ],
      "source": [
        "# Escribe abajo tu código y presiona Shift+Enter para ejecutarlo\n",
        "\n",
        "F = \"You are wrong\"\n",
        "#Para la solución aplicamos el método upper que convierte la cadena a mayúsculas\n",
        "F.upper()"
      ]
    },
    {
      "cell_type": "markdown",
      "metadata": {
        "application/vnd.databricks.v1+cell": {
          "inputWidgets": {},
          "nuid": "59e29f55-1248-4d84-bcc5-e7fb01ef061f",
          "showTitle": false,
          "title": ""
        },
        "id": "krTwTtd8LlEA"
      },
      "source": [
        "Haz doble click <b>aquí</b> para ver la solución.\n",
        "\n",
        "<!-- Your answer is below:\n",
        "F.upper()\n",
        "-->"
      ]
    },
    {
      "cell_type": "markdown",
      "metadata": {
        "application/vnd.databricks.v1+cell": {
          "inputWidgets": {},
          "nuid": "89af9572-7b2e-4344-b61b-e832bddb897c",
          "showTitle": false,
          "title": ""
        },
        "id": "C6D7czAeLlEA"
      },
      "source": [
        "En la variable <code>G</code>, encuentra el primer índice de la sub-cadena <code>snow</code>:"
      ]
    },
    {
      "cell_type": "code",
      "execution_count": null,
      "metadata": {
        "application/vnd.databricks.v1+cell": {
          "inputWidgets": {},
          "nuid": "721a128c-d297-4149-bbdd-646140d2dd59",
          "showTitle": false,
          "title": ""
        },
        "colab": {
          "base_uri": "https://localhost:8080/"
        },
        "id": "P9_AanG3LlEA",
        "outputId": "b6dea47d-92ae-4877-e687-5ef7640f2e5f"
      },
      "outputs": [
        {
          "data": {
            "text/plain": [
              "95"
            ]
          },
          "execution_count": 42,
          "metadata": {},
          "output_type": "execute_result"
        }
      ],
      "source": [
        "# Escribe abajo tu código y presiona Shift+Enter para ejecutarlo\n",
        "\n",
        "G = \"Mary had a little lamb Little lamb, little lamb Mary had a little lamb \\\n",
        "Its fleece was white as snow And everywhere that Mary went Mary went, Mary went \\\n",
        "Everywhere that Mary went The lamb was sure to go\"\n",
        "\n",
        "#Para solucionar el problema hacemos uso del método find que recibe como argumento la subcadena que queremos encontrar.\n",
        "#En este caso, queremos encontrar snow en la cadena G por lo que el resultado debería arrojar el índice de la posición de la letra 's'\n",
        "#que pertenece a la subcadena \"snow\"\n",
        "\n",
        "G.find(\"snow\")"
      ]
    },
    {
      "cell_type": "markdown",
      "metadata": {
        "application/vnd.databricks.v1+cell": {
          "inputWidgets": {},
          "nuid": "09d9aaf0-769c-4a99-b68f-79d063bc676c",
          "showTitle": false,
          "title": ""
        },
        "id": "PJDIJYjmLlEB"
      },
      "source": [
        "Haz doble click <b>aquí</b> para ver la solución.\n",
        "\n",
        "<!-- Your answer is below:\n",
        "G.find(\"snow\")\n",
        "-->"
      ]
    },
    {
      "cell_type": "markdown",
      "metadata": {
        "application/vnd.databricks.v1+cell": {
          "inputWidgets": {},
          "nuid": "157b212b-6b79-4fe4-9284-f9e0e1f3dcd1",
          "showTitle": false,
          "title": ""
        },
        "id": "dqGOJhLPLlEB"
      },
      "source": [
        "En la variable <code>G</code>, reemplaza la sub-cadena <code>Mary</code> con <code>Bob</code>:"
      ]
    },
    {
      "cell_type": "code",
      "execution_count": null,
      "metadata": {
        "application/vnd.databricks.v1+cell": {
          "inputWidgets": {},
          "nuid": "ea8ee7aa-cedd-40c2-8d01-35f09d62109d",
          "showTitle": false,
          "title": ""
        },
        "colab": {
          "base_uri": "https://localhost:8080/",
          "height": 53
        },
        "id": "lT9cAt5oLlEB",
        "outputId": "553924d6-3d62-4d1f-f849-b0aaab21c2a0"
      },
      "outputs": [
        {
          "data": {
            "application/vnd.google.colaboratory.intrinsic+json": {
              "type": "string"
            },
            "text/plain": [
              "'Bob had a little lamb Little lamb, little lamb Bob had a little lamb Its fleece was white as snow And everywhere that Bob went Bob went, Bob went Everywhere that Bob went The lamb was sure to go'"
            ]
          },
          "execution_count": 43,
          "metadata": {},
          "output_type": "execute_result"
        }
      ],
      "source": [
        "# Escribe abajo tu código y presiona Shift+Enter para ejecutarlo\n",
        "\n",
        "#Para la solución hacemos uso del método replace que recibe como argumento en primera posición lo que vamos a reemplzar y en segunda posición\n",
        "#El valor por el que vamos a reemplazar, por lo que queda de la siguiente forma:\n",
        "G.replace(\"Mary\", \"Bob\")"
      ]
    },
    {
      "cell_type": "markdown",
      "metadata": {
        "application/vnd.databricks.v1+cell": {
          "inputWidgets": {},
          "nuid": "514790a0-22d4-4593-9c3a-09f88054b89e",
          "showTitle": false,
          "title": ""
        },
        "id": "6jJKp0BULlEB"
      },
      "source": [
        "Haz doble click <b>aquí</b> para ver la solución.\n",
        "\n",
        "<!-- Your answer is below:\n",
        "G.replace(\"Mary\", \"Bob\")\n",
        "-->"
      ]
    }
  ],
  "metadata": {
    "application/vnd.databricks.v1+notebook": {
      "dashboards": [],
      "language": "python",
      "notebookMetadata": {
        "pythonIndentUnit": 2
      },
      "notebookName": "01-Python-Cadenas",
      "notebookOrigID": 3377342904741170,
      "widgets": {}
    },
    "colab": {
      "provenance": []
    },
    "kernelspec": {
      "display_name": "Python 3",
      "language": "python",
      "name": "python3"
    },
    "language_info": {
      "codemirror_mode": {
        "name": "ipython",
        "version": 3
      },
      "file_extension": ".py",
      "mimetype": "text/x-python",
      "name": "python",
      "nbconvert_exporter": "python",
      "pygments_lexer": "ipython3",
      "version": "3.8.3"
    }
  },
  "nbformat": 4,
  "nbformat_minor": 0
}
